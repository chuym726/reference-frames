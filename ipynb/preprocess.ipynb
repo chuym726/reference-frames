{
 "cells": [
  {
   "cell_type": "markdown",
   "metadata": {},
   "source": [
    "This notebook outlines the filtering criteria that was used to focus on the samples of interest"
   ]
  },
  {
   "cell_type": "code",
   "execution_count": 1,
   "metadata": {},
   "outputs": [],
   "source": [
    "import pandas as pd\n",
    "import numpy as np\n",
    "metadata = pd.read_table('../data/oral_metadata.txt', index_col=0)"
   ]
  },
  {
   "cell_type": "markdown",
   "metadata": {},
   "source": [
    "First remove samples that aren't raw."
   ]
  },
  {
   "cell_type": "code",
   "execution_count": 2,
   "metadata": {},
   "outputs": [],
   "source": [
    "idx = list(map(lambda x: 'raw' in x, metadata.index)) \n",
    "metadata = metadata.loc[idx]"
   ]
  },
  {
   "cell_type": "markdown",
   "metadata": {},
   "source": [
    "Now filter out B1/2, D1/2, J8/9, since there were technical issues with those samples"
   ]
  },
  {
   "cell_type": "code",
   "execution_count": 3,
   "metadata": {},
   "outputs": [],
   "source": [
    "#exclusion_set = {'B1', 'B2', 'D1', 'D2', 'J8', 'J9'} \n",
    "exclusion_set = {'D1', 'D2'} \n",
    "idx = list(map(lambda x: x not in exclusion_set, metadata['paricipant-timepoint']))\n",
    "metadata = metadata.loc[idx]"
   ]
  },
  {
   "cell_type": "markdown",
   "metadata": {},
   "source": [
    "Filter out samples that aren't relevant to the brushing event"
   ]
  },
  {
   "cell_type": "code",
   "execution_count": 4,
   "metadata": {},
   "outputs": [],
   "source": [
    "metadata = metadata.dropna(subset=['brushing_event'])"
   ]
  },
  {
   "cell_type": "markdown",
   "metadata": {},
   "source": [
    "Clean up metadata to remove misspellings"
   ]
  },
  {
   "cell_type": "code",
   "execution_count": 5,
   "metadata": {},
   "outputs": [],
   "source": [
    "metadata = metadata.rename(\n",
    "    columns={\n",
    "        'paricipant-timepoint': 'participant-timepoint',                \n",
    "    }\n",
    ")"
   ]
  },
  {
   "cell_type": "markdown",
   "metadata": {},
   "source": [
    "Sort samples by host subject and timepoint"
   ]
  },
  {
   "cell_type": "code",
   "execution_count": 6,
   "metadata": {},
   "outputs": [],
   "source": [
    "metadata = metadata.sort_values(by=['HostSubject', 'Timepoint#'])"
   ]
  },
  {
   "cell_type": "markdown",
   "metadata": {},
   "source": [
    "Load biom table and match with the metadata"
   ]
  },
  {
   "cell_type": "code",
   "execution_count": 7,
   "metadata": {},
   "outputs": [
    {
     "data": {
      "text/plain": [
       "485 x 32 <class 'biom.table.Table'> with 3940 nonzero entries (25% dense)"
      ]
     },
     "execution_count": 7,
     "metadata": {},
     "output_type": "execute_result"
    }
   ],
   "source": [
    "from biom import load_table\n",
    "table = load_table('../data/oral_deblurred.biom')\n",
    "ids_to_keep = lambda val, id_, md: id_ in set(metadata.index)\n",
    "table.filter(ids_to_keep, axis='sample', inplace=True)"
   ]
  },
  {
   "cell_type": "markdown",
   "metadata": {},
   "source": [
    "Filter out OTUs that don't appear in at least 5 samples"
   ]
  },
  {
   "cell_type": "code",
   "execution_count": 8,
   "metadata": {},
   "outputs": [
    {
     "data": {
      "text/plain": [
       "203 x 32 <class 'biom.table.Table'> with 3432 nonzero entries (52% dense)"
      ]
     },
     "execution_count": 8,
     "metadata": {},
     "output_type": "execute_result"
    }
   ],
   "source": [
    "filter_fn = lambda val, id_, md: np.sum(val>0) > 5\n",
    "table.filter(filter_fn, axis='observation', inplace=True)"
   ]
  },
  {
   "cell_type": "markdown",
   "metadata": {},
   "source": [
    "Sort the OTU table to make sure that it matches the metadata table"
   ]
  },
  {
   "cell_type": "code",
   "execution_count": 9,
   "metadata": {},
   "outputs": [],
   "source": [
    "table = table.sort_order(list(metadata.index))"
   ]
  },
  {
   "cell_type": "markdown",
   "metadata": {},
   "source": [
    "Save both the metadata and the OTU biom table"
   ]
  },
  {
   "cell_type": "code",
   "execution_count": 10,
   "metadata": {},
   "outputs": [],
   "source": [
    "from biom.util import biom_open\n",
    "with biom_open('../data/oral_trimmed_deblur.biom', 'w') as f:\n",
    "    table.to_hdf5(f, 'trimmed')\n",
    "table.to_dataframe().T.to_csv('../data/oral_trimmed_deblur.txt', sep='\\t')\n",
    "metadata.to_csv('../data/oral_trimmed_metadata.txt', sep='\\t')    "
   ]
  },
  {
   "cell_type": "code",
   "execution_count": 11,
   "metadata": {},
   "outputs": [
    {
     "data": {
      "text/plain": [
       "(203, 32)"
      ]
     },
     "execution_count": 11,
     "metadata": {},
     "output_type": "execute_result"
    }
   ],
   "source": [
    "table.shape"
   ]
  },
  {
   "cell_type": "code",
   "execution_count": 12,
   "metadata": {},
   "outputs": [
    {
     "data": {
      "text/plain": [
       "#SampleID\n",
       "A1.raw    A1\n",
       "A2.raw    A2\n",
       "A8.raw    A8\n",
       "A9.raw    A9\n",
       "C1.raw    C1\n",
       "C2.raw    C2\n",
       "C7.raw    C7\n",
       "C8.raw    C8\n",
       "D8.raw    D8\n",
       "D9.raw    D9\n",
       "E1.raw    E1\n",
       "E2.raw    E2\n",
       "E8.raw    E8\n",
       "E9.raw    E9\n",
       "F1.raw    F1\n",
       "F2.raw    F2\n",
       "F8.raw    F8\n",
       "F9.raw    F9\n",
       "G1.raw    G1\n",
       "G2.raw    G2\n",
       "G7.raw    G7\n",
       "G8.raw    G8\n",
       "H1.raw    H1\n",
       "H2.raw    H2\n",
       "I1.raw    I1\n",
       "I2.raw    I2\n",
       "I8.raw    I8\n",
       "I9.raw    I9\n",
       "J1.raw    J1\n",
       "J2.raw    J2\n",
       "J8.raw    J8\n",
       "J9.raw    J9\n",
       "Name: participant-timepoint, dtype: object"
      ]
     },
     "execution_count": 12,
     "metadata": {},
     "output_type": "execute_result"
    }
   ],
   "source": [
    "metadata['participant-timepoint']"
   ]
  },
  {
   "cell_type": "code",
   "execution_count": null,
   "metadata": {},
   "outputs": [],
   "source": []
  }
 ],
 "metadata": {
  "kernelspec": {
   "display_name": "Python 3",
   "language": "python",
   "name": "python3"
  },
  "language_info": {
   "codemirror_mode": {
    "name": "ipython",
    "version": 3
   },
   "file_extension": ".py",
   "mimetype": "text/x-python",
   "name": "python",
   "nbconvert_exporter": "python",
   "pygments_lexer": "ipython3",
   "version": "3.6.5"
  }
 },
 "nbformat": 4,
 "nbformat_minor": 2
}
