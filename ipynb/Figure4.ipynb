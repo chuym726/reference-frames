{
 "cells": [
  {
   "cell_type": "code",
   "execution_count": 1,
   "metadata": {},
   "outputs": [],
   "source": [
    "import numpy as np\n",
    "import pandas as pd\n",
    "from skbio import OrdinationResults\n",
    "import matplotlib.pyplot as plt\n",
    "%matplotlib inline"
   ]
  },
  {
   "cell_type": "code",
   "execution_count": 2,
   "metadata": {},
   "outputs": [],
   "source": [
    "#import files\n",
    "beta_file = '../results/soil_differentials.csv'\n",
    "beta = pd.read_csv(beta_file)\n",
    "taxa = pd.read_csv('../data/soils/taxonomy.tsv', sep=\"\\t\")\n",
    "\n",
    "#fix headers\n",
    "beta.rename(columns={\"Unnamed: 0\" : \"sampleid\"}, inplace=True)\n",
    "\n",
    "#merge!\n",
    "betataxa = pd.merge(taxa, beta, left_on=\"sampleid\", right_on=\"sampleid\")"
   ]
  },
  {
   "cell_type": "markdown",
   "metadata": {},
   "source": [
    "First save biplot to a file"
   ]
  },
  {
   "cell_type": "code",
   "execution_count": 3,
   "metadata": {},
   "outputs": [],
   "source": [
    "beta = betataxa.set_index('sampleid')"
   ]
  },
  {
   "cell_type": "code",
   "execution_count": 4,
   "metadata": {},
   "outputs": [],
   "source": [
    "taxa = pd.DataFrame(list(beta.Taxon.apply(lambda x: x.split('; ')).values))\n",
    "taxa.columns = ['kingdom', 'phylum', 'class', 'order', 'family', 'genus', 'species']"
   ]
  },
  {
   "cell_type": "code",
   "execution_count": 5,
   "metadata": {},
   "outputs": [],
   "source": [
    "taxa.index = beta.index\n",
    "beta = pd.concat((taxa, beta), axis=1)"
   ]
  },
  {
   "cell_type": "code",
   "execution_count": 6,
   "metadata": {},
   "outputs": [],
   "source": [
    "colnames = ['microbial_biomass', 'ph', 'tot_nitro', 'tot_org_carb', 'water_content_soil']\n",
    "data = beta[colnames]"
   ]
  },
  {
   "cell_type": "code",
   "execution_count": 10,
   "metadata": {},
   "outputs": [],
   "source": [
    "taxa.to_csv('taxa.txt', sep='\\t')"
   ]
  },
  {
   "cell_type": "markdown",
   "metadata": {},
   "source": [
    "Now, let's investigate the biplot"
   ]
  },
  {
   "cell_type": "code",
   "execution_count": 11,
   "metadata": {},
   "outputs": [
    {
     "data": {
      "text/html": [
       "<div>\n",
       "<style scoped>\n",
       "    .dataframe tbody tr th:only-of-type {\n",
       "        vertical-align: middle;\n",
       "    }\n",
       "\n",
       "    .dataframe tbody tr th {\n",
       "        vertical-align: top;\n",
       "    }\n",
       "\n",
       "    .dataframe thead th {\n",
       "        text-align: right;\n",
       "    }\n",
       "</style>\n",
       "<table border=\"1\" class=\"dataframe\">\n",
       "  <thead>\n",
       "    <tr style=\"text-align: right;\">\n",
       "      <th></th>\n",
       "      <th>Taxon</th>\n",
       "      <th>ph</th>\n",
       "    </tr>\n",
       "    <tr>\n",
       "      <th>sampleid</th>\n",
       "      <th></th>\n",
       "      <th></th>\n",
       "    </tr>\n",
       "  </thead>\n",
       "  <tbody>\n",
       "    <tr>\n",
       "      <th>TACAGAGGGTGCAAGCGTTAATCGGAGTTACTGGGCGTAAAGGGCGCGTAGGCGGTTTAATGGGTGTGATGTGAAAGCCTTGGGCTTAACCTGAGAAGTGCATCGCAAACTAGTAAACTGGAGTAGATGAGAGGGTGGCGGAATTTCCGG</th>\n",
       "      <td>k__Bacteria; p__Proteobacteria; c__Gammaproteo...</td>\n",
       "      <td>-3.026261</td>\n",
       "    </tr>\n",
       "    <tr>\n",
       "      <th>TACAGAGGGTGCGAGCGTTGTTCGGAATTATTGGGCGTAAAGGGCGCGTAGGCGGCGCCACAAGTCACCTGTGAAAACTCTGGGCTCAACTCAGAGCCTGCAGGCGAAACTGTGGTGCTGGAGTATGGGAGAGGTGCGTGGAATTCCCGG</th>\n",
       "      <td>k__Bacteria; p__Acidobacteria; c__Acidobacteri...</td>\n",
       "      <td>-3.024533</td>\n",
       "    </tr>\n",
       "    <tr>\n",
       "      <th>GACGTAGGGGGCAAGCGTTGTCCGGAATTATTGGGCGTAAAGCGCTCGTAGGTGGATTTGCAAGTCTGCAAGGAAAGACCCGGGCTCAACTCGGGAACCCGTGTGGATACTGCAAACCTTGAGGTAGTCAGAGGATGATGGAATTCCCGG</th>\n",
       "      <td>k__Bacteria; p__WPS-2; c__; o__; f__; g__; s__</td>\n",
       "      <td>-2.739818</td>\n",
       "    </tr>\n",
       "    <tr>\n",
       "      <th>TACAGAGGTCCCAAGCGTTGTTCGGATTCACTGGGCGTAAAGGGTGCGTAGGCGGTTTGACAAGTCTGATGTGAAATCCCGCAGCTTAACTGCGGAACTGCATTGGAAACTGTCTGACTAGAGGAATGGAGGGGAGACTGGAATGCTTGG</th>\n",
       "      <td>k__Bacteria; p__Verrucomicrobia; c__[Pedosphae...</td>\n",
       "      <td>-2.730507</td>\n",
       "    </tr>\n",
       "    <tr>\n",
       "      <th>TACAGAGGGTGCAAGCGTTGTTCGGAATTATTGGGCGTAAAGGGTGCGTAGGCGGTGCGGTAAGTCTGTTGTGAAATCTCCAAGCTCAACTTGGAGCCTGCAACGGAAACTGCCGTGCTCGAGTATGGGAGAGGTGAGTGGAATTCCCGG</th>\n",
       "      <td>k__Bacteria; p__Acidobacteria; c__Acidobacteri...</td>\n",
       "      <td>-2.685880</td>\n",
       "    </tr>\n",
       "  </tbody>\n",
       "</table>\n",
       "</div>"
      ],
      "text/plain": [
       "                                                                                                Taxon  \\\n",
       "sampleid                                                                                                \n",
       "TACAGAGGGTGCAAGCGTTAATCGGAGTTACTGGGCGTAAAGGGCGC...  k__Bacteria; p__Proteobacteria; c__Gammaproteo...   \n",
       "TACAGAGGGTGCGAGCGTTGTTCGGAATTATTGGGCGTAAAGGGCGC...  k__Bacteria; p__Acidobacteria; c__Acidobacteri...   \n",
       "GACGTAGGGGGCAAGCGTTGTCCGGAATTATTGGGCGTAAAGCGCTC...     k__Bacteria; p__WPS-2; c__; o__; f__; g__; s__   \n",
       "TACAGAGGTCCCAAGCGTTGTTCGGATTCACTGGGCGTAAAGGGTGC...  k__Bacteria; p__Verrucomicrobia; c__[Pedosphae...   \n",
       "TACAGAGGGTGCAAGCGTTGTTCGGAATTATTGGGCGTAAAGGGTGC...  k__Bacteria; p__Acidobacteria; c__Acidobacteri...   \n",
       "\n",
       "                                                          ph  \n",
       "sampleid                                                      \n",
       "TACAGAGGGTGCAAGCGTTAATCGGAGTTACTGGGCGTAAAGGGCGC... -3.026261  \n",
       "TACAGAGGGTGCGAGCGTTGTTCGGAATTATTGGGCGTAAAGGGCGC... -3.024533  \n",
       "GACGTAGGGGGCAAGCGTTGTCCGGAATTATTGGGCGTAAAGCGCTC... -2.739818  \n",
       "TACAGAGGTCCCAAGCGTTGTTCGGATTCACTGGGCGTAAAGGGTGC... -2.730507  \n",
       "TACAGAGGGTGCAAGCGTTGTTCGGAATTATTGGGCGTAAAGGGTGC... -2.685880  "
      ]
     },
     "execution_count": 11,
     "metadata": {},
     "output_type": "execute_result"
    }
   ],
   "source": [
    "beta[['Taxon', 'ph']].sort_values('ph').head()"
   ]
  },
  {
   "cell_type": "markdown",
   "metadata": {},
   "source": [
    ">1 k__Bacteria; p__Proteobacteria; c__Gammaproteo...\t-3.026261\n",
    "TACAGAGGGTGCAAGCGTTAATCGGAGTTACTGGGCGTAAAGGGCGCGTAGGCGGTTTAATGGGTGTGATGTGAAAGCCTTGGGCTTAACCTGAGAAGTGCATCGCAAACTAGTAAACTGGAGTAGATGAGAGGGTGGCGGAATTTCCGG\n",
    "\n",
    "Grows in activated charcoal.  Slightly acidic\n",
    "https://www.ncbi.nlm.nih.gov/pubmed/14602611\n",
    "\n",
    ">2 k__Bacteria; p__Acidobacteria; c__Acidobacteri...\t-3.024533\n",
    "TACAGAGGGTGCGAGCGTTGTTCGGAATTATTGGGCGTAAAGGGCGCGTAGGCGGCGCCACAAGTCACCTGTGAAAACTCTGGGCTCAACTCAGAGCCTGCAGGCGAAACTGTGGTGCTGGAGTATGGGAGAGGTGCGTGGAATTCCCGG\n",
    "\n",
    "Not much\n",
    "\n",
    ">3 k__Bacteria; p__WPS-2; c__; o__; f__; g__; s__\t-2.739818\n",
    "GACGTAGGGGGCAAGCGTTGTCCGGAATTATTGGGCGTAAAGCGCTCGTAGGTGGATTTGCAAGTCTGCAAGGAAAGACCCGGGCTCAACTCGGGAACCCGTGTGGATACTGCAAACCTTGAGGTAGTCAGAGGATGATGGAATTCCCGG\n",
    "\n",
    "Not much\n",
    "\n",
    ">4 k__Bacteria; p__Verrucomicrobia; c__Pedosphae...\t-2.730507\n",
    "TACAGAGGTCCCAAGCGTTGTTCGGATTCACTGGGCGTAAAGGGTGCGTAGGCGGTTTGACAAGTCTGATGTGAAATCCCGCAGCTTAACTGCGGAACTGCATTGGAAACTGTCTGACTAGAGGAATGGAGGGGAGACTGGAATGCTTGG\n",
    "\n",
    "Not much\n",
    "\n",
    ">5 k__Bacteria; p__Acidobacteria; c__Acidobacteri...\t-2.685880\n",
    "TACAGAGGGTGCAAGCGTTGTTCGGAATTATTGGGCGTAAAGGGTGCGTAGGCGGTGCGGTAAGTCTGTTGTGAAATCTCCAAGCTCAACTTGGAGCCTGCAACGGAAACTGCCGTGCTCGAGTATGGGAGAGGTGAGTGGAATTCCCGG\n",
    "\n",
    "Grows between 3-6 : acidophile\n",
    "https://www.ncbi.nlm.nih.gov/pubmed/19201974"
   ]
  },
  {
   "cell_type": "code",
   "execution_count": 12,
   "metadata": {},
   "outputs": [
    {
     "data": {
      "text/html": [
       "<div>\n",
       "<style scoped>\n",
       "    .dataframe tbody tr th:only-of-type {\n",
       "        vertical-align: middle;\n",
       "    }\n",
       "\n",
       "    .dataframe tbody tr th {\n",
       "        vertical-align: top;\n",
       "    }\n",
       "\n",
       "    .dataframe thead th {\n",
       "        text-align: right;\n",
       "    }\n",
       "</style>\n",
       "<table border=\"1\" class=\"dataframe\">\n",
       "  <thead>\n",
       "    <tr style=\"text-align: right;\">\n",
       "      <th></th>\n",
       "      <th>Taxon</th>\n",
       "      <th>ph</th>\n",
       "    </tr>\n",
       "    <tr>\n",
       "      <th>sampleid</th>\n",
       "      <th></th>\n",
       "      <th></th>\n",
       "    </tr>\n",
       "  </thead>\n",
       "  <tbody>\n",
       "    <tr>\n",
       "      <th>TACGGGGGGAGCAAGCGTTGTTCGGATTTACTGGGCGTAAAGGGCGCGTAGGCGGCCTCCGCAAGTCAGTTGTGAAATCTCCGAGCTTAACTCGGAAAGGTCAACTGATACTGCGGGGCTAGAGTGCGGAAGGGGCAACTGGAATTCTTG</th>\n",
       "      <td>k__Bacteria; p__Acidobacteria; c__[Chloracidob...</td>\n",
       "      <td>2.506298</td>\n",
       "    </tr>\n",
       "    <tr>\n",
       "      <th>CACGTAGGAGGCGAGCGTTGTCCGGAATCATTGGGCGTAAAGAGCGCGCAGGCGGCTTGGCAAGTCGGGTGTGAAATCCCGGGGCTCAACCCCGTGACTGCATTCGATACTGTCAGGCTAGAGGTAGGTAGGGGAGATCGGAATTCCTGG</th>\n",
       "      <td>k__Bacteria; p__Actinobacteria; c__MB-A2-108; ...</td>\n",
       "      <td>2.537946</td>\n",
       "    </tr>\n",
       "    <tr>\n",
       "      <th>TACCAGCACCCCGAGTGGTCGGGACGTTTATTGGGCCTAAAGCATCCGTAGCCGGCCTTACAAGTCCCCCGTTAAATCCAACTGCTTAACAGATGGGCTGCGGAGGATACTATAAGACTAGGAGGCAGGAGAGGCAAGCGGTACTCAGTG</th>\n",
       "      <td>k__Archaea; p__Crenarchaeota; c__Thaumarchaeot...</td>\n",
       "      <td>2.541804</td>\n",
       "    </tr>\n",
       "    <tr>\n",
       "      <th>TACGGAGGGTGCAAGCGTTATCCGGATTCACTGGGTTTAAAGGGTGCGTAGGTGGGCAAGTAAGTCAGTGGTGAAATCTCCGGGCTTAACCCGGAAACTGCCATTGATACTATTTGTCTTGAATACTGTGGAGGTCAGCGGAATATGTCA</th>\n",
       "      <td>k__Bacteria; p__Bacteroidetes; c__[Saprospirae...</td>\n",
       "      <td>2.634849</td>\n",
       "    </tr>\n",
       "    <tr>\n",
       "      <th>TACAGAGGGTGCTAGCGTTGTTCGGAATCATTGGGCGTAAAGGGCGTGTAGGCGGTTTGCTAAGTCATGTGTGAAATCCCTCGGCTCAACCGGGGAACGACGCATGAAACTGGCAAGCTAGAGTACCAAAGAGGGGGGTGGAATTCCCGG</th>\n",
       "      <td>k__Bacteria; p__Proteobacteria; c__Deltaproteo...</td>\n",
       "      <td>2.981031</td>\n",
       "    </tr>\n",
       "  </tbody>\n",
       "</table>\n",
       "</div>"
      ],
      "text/plain": [
       "                                                                                                Taxon  \\\n",
       "sampleid                                                                                                \n",
       "TACGGGGGGAGCAAGCGTTGTTCGGATTTACTGGGCGTAAAGGGCGC...  k__Bacteria; p__Acidobacteria; c__[Chloracidob...   \n",
       "CACGTAGGAGGCGAGCGTTGTCCGGAATCATTGGGCGTAAAGAGCGC...  k__Bacteria; p__Actinobacteria; c__MB-A2-108; ...   \n",
       "TACCAGCACCCCGAGTGGTCGGGACGTTTATTGGGCCTAAAGCATCC...  k__Archaea; p__Crenarchaeota; c__Thaumarchaeot...   \n",
       "TACGGAGGGTGCAAGCGTTATCCGGATTCACTGGGTTTAAAGGGTGC...  k__Bacteria; p__Bacteroidetes; c__[Saprospirae...   \n",
       "TACAGAGGGTGCTAGCGTTGTTCGGAATCATTGGGCGTAAAGGGCGT...  k__Bacteria; p__Proteobacteria; c__Deltaproteo...   \n",
       "\n",
       "                                                          ph  \n",
       "sampleid                                                      \n",
       "TACGGGGGGAGCAAGCGTTGTTCGGATTTACTGGGCGTAAAGGGCGC...  2.506298  \n",
       "CACGTAGGAGGCGAGCGTTGTCCGGAATCATTGGGCGTAAAGAGCGC...  2.537946  \n",
       "TACCAGCACCCCGAGTGGTCGGGACGTTTATTGGGCCTAAAGCATCC...  2.541804  \n",
       "TACGGAGGGTGCAAGCGTTATCCGGATTCACTGGGTTTAAAGGGTGC...  2.634849  \n",
       "TACAGAGGGTGCTAGCGTTGTTCGGAATCATTGGGCGTAAAGGGCGT...  2.981031  "
      ]
     },
     "execution_count": 12,
     "metadata": {},
     "output_type": "execute_result"
    }
   ],
   "source": [
    "beta[['Taxon', 'ph']].sort_values('ph').tail()"
   ]
  },
  {
   "cell_type": "markdown",
   "metadata": {},
   "source": [
    ">1  k__Bacteria; p__Acidobacteria; c__Chloracidob...\t2.506298\n",
    "TACGGGGGGAGCAAGCGTTGTTCGGATTTACTGGGCGTAAAGGGCGCGTAGGCGGCCTCCGCAAGTCAGTTGTGAAATCTCCGAGCTTAACTCGGAAAGGTCAACTGATACTGCGGGGCTAGAGTGCGGAAGGGGCAACTGGAATTCTTG\n",
    "\n",
    "Not much\n",
    "\n",
    ">2 k__Bacteria; p__Actinobacteria; c__MB-A2-108; ...\t2.537946\n",
    "CACGTAGGAGGCGAGCGTTGTCCGGAATCATTGGGCGTAAAGAGCGCGCAGGCGGCTTGGCAAGTCGGGTGTGAAATCCCGGGGCTCAACCCCGTGACTGCATTCGATACTGTCAGGCTAGAGGTAGGTAGGGGAGATCGGAATTCCTGG\n",
    "\n",
    "Not much\n",
    "\n",
    ">3 k__Archaea; p__Crenarchaeota; c__Thaumarchaeot...\t2.541804\n",
    "TACCAGCACCCCGAGTGGTCGGGACGTTTATTGGGCCTAAAGCATCCGTAGCCGGCCTTACAAGTCCCCCGTTAAATCCAACTGCTTAACAGATGGGCTGCGGAGGATACTATAAGACTAGGAGGCAGGAGAGGCAAGCGGTACTCAGTG\n",
    "\n",
    "Ammonia oxidizer\n",
    "https://www.ncbi.nlm.nih.gov/nucleotide/MK393915.1?report=genbank&log$=nucltop&blast_rank=1&RID=64CW6BUW01R\n",
    "\n",
    ">4 k__Bacteria; p__Bacteroidetes; c__Saprospirae...\t2.634849\n",
    "TACGGAGGGTGCAAGCGTTATCCGGATTCACTGGGTTTAAAGGGTGCGTAGGTGGGCAAGTAAGTCAGTGGTGAAATCTCCGGGCTTAACCCGGAAACTGCCATTGATACTATTTGTCTTGAATACTGTGGAGGTCAGCGGAATATGTCA\n",
    "                                      \n",
    "Not much \n",
    "https://www.ncbi.nlm.nih.gov/pubmed/23748858                                      \n",
    "                                      \n",
    ">5 k__Bacteria; p__Proteobacteria; c__Deltaproteo...\t2.981031\n",
    "TACAGAGGGTGCTAGCGTTGTTCGGAATCATTGGGCGTAAAGGGCGTGTAGGCGGTTTGCTAAGTCATGTGTGAAATCCCTCGGCTCAACCGGGGAACGACGCATGAAACTGGCAAGCTAGAGTACCAAAGAGGGGGGTGGAATTCCCGG\n",
    "\n",
    "Not much "
   ]
  },
  {
   "cell_type": "code",
   "execution_count": 13,
   "metadata": {},
   "outputs": [
    {
     "data": {
      "text/html": [
       "<div>\n",
       "<style scoped>\n",
       "    .dataframe tbody tr th:only-of-type {\n",
       "        vertical-align: middle;\n",
       "    }\n",
       "\n",
       "    .dataframe tbody tr th {\n",
       "        vertical-align: top;\n",
       "    }\n",
       "\n",
       "    .dataframe thead th {\n",
       "        text-align: right;\n",
       "    }\n",
       "</style>\n",
       "<table border=\"1\" class=\"dataframe\">\n",
       "  <thead>\n",
       "    <tr style=\"text-align: right;\">\n",
       "      <th></th>\n",
       "      <th>Taxon</th>\n",
       "      <th>tot_nitro</th>\n",
       "    </tr>\n",
       "    <tr>\n",
       "      <th>sampleid</th>\n",
       "      <th></th>\n",
       "      <th></th>\n",
       "    </tr>\n",
       "  </thead>\n",
       "  <tbody>\n",
       "    <tr>\n",
       "      <th>TACGGGGGGAGCAAGCGTTGTTCGGATTTACTGGGCGTAAAGGGCGCGTAGGCGGTCAGCACAAGTCAGTTGTGAAATCTCCGGGCTTAACTCGGAAAGGTCAACTGATACTGTGCGACTAGAGTGCGGAAGGGGCAACTGGAATTCTCG</th>\n",
       "      <td>k__Bacteria; p__Acidobacteria; c__[Chloracidob...</td>\n",
       "      <td>-4.124126</td>\n",
       "    </tr>\n",
       "    <tr>\n",
       "      <th>TACGGAGGGTGCAAGCGTTATCCGGATTCACTGGGTTTAAAGGGTGCGTAGGAGGGCAGGTAAGTCAGTGGTGAAATCTCCGAGCTTAACTTGGAAACTGCCGTTGATACTATCTGTCTTGAATATTGTGGAGGTGAGCGGAATATGTCA</th>\n",
       "      <td>k__Bacteria; p__Bacteroidetes; c__[Saprospirae...</td>\n",
       "      <td>-2.694195</td>\n",
       "    </tr>\n",
       "    <tr>\n",
       "      <th>TACGTAGGGACCAAGCGTTGTTCGGATTTACTGGGCGTAAAGGGCGCGTAGGCGGCGTGGTAAGTCACTTGTGAAATCTCTGAGCTTAACTCAGAACGGCCAAGTGATACTGCTGTGCTAGAGTGCAGAAGGGGCAATCGGAATTCTTGG</th>\n",
       "      <td>k__Bacteria; p__Acidobacteria; c__[Chloracidob...</td>\n",
       "      <td>-2.688204</td>\n",
       "    </tr>\n",
       "    <tr>\n",
       "      <th>TACGTAGGGACCAAGCGTTGTTCGGATTTACTGGGCGTAAAGGGCGCGTAGGCGGCAATTCAAGTCATCTGTGAAATCTCCGGGCTTAACTCGGAACGGTCAGATGATACTGCTTTGCTAGAGTGCAGAAGGGGCAATCGGAATTCTTGG</th>\n",
       "      <td>k__Bacteria; p__Acidobacteria; c__[Chloracidob...</td>\n",
       "      <td>-2.642457</td>\n",
       "    </tr>\n",
       "    <tr>\n",
       "      <th>TACGGAGGGTGCAAGCGTTATCCGGATTCACTGGGTTTAAAGGGTGCGTAGGCGGGCAGTTAAGTCCGTGGTGAAATCTCTGAGCTTAACTCAGAAACTGCCATGGATACTATCTGTCTTGAATGTTGTGGAGGTAAGCGGAATATGTCA</th>\n",
       "      <td>k__Bacteria; p__Bacteroidetes; c__[Saprospirae...</td>\n",
       "      <td>-2.629011</td>\n",
       "    </tr>\n",
       "  </tbody>\n",
       "</table>\n",
       "</div>"
      ],
      "text/plain": [
       "                                                                                                Taxon  \\\n",
       "sampleid                                                                                                \n",
       "TACGGGGGGAGCAAGCGTTGTTCGGATTTACTGGGCGTAAAGGGCGC...  k__Bacteria; p__Acidobacteria; c__[Chloracidob...   \n",
       "TACGGAGGGTGCAAGCGTTATCCGGATTCACTGGGTTTAAAGGGTGC...  k__Bacteria; p__Bacteroidetes; c__[Saprospirae...   \n",
       "TACGTAGGGACCAAGCGTTGTTCGGATTTACTGGGCGTAAAGGGCGC...  k__Bacteria; p__Acidobacteria; c__[Chloracidob...   \n",
       "TACGTAGGGACCAAGCGTTGTTCGGATTTACTGGGCGTAAAGGGCGC...  k__Bacteria; p__Acidobacteria; c__[Chloracidob...   \n",
       "TACGGAGGGTGCAAGCGTTATCCGGATTCACTGGGTTTAAAGGGTGC...  k__Bacteria; p__Bacteroidetes; c__[Saprospirae...   \n",
       "\n",
       "                                                    tot_nitro  \n",
       "sampleid                                                       \n",
       "TACGGGGGGAGCAAGCGTTGTTCGGATTTACTGGGCGTAAAGGGCGC...  -4.124126  \n",
       "TACGGAGGGTGCAAGCGTTATCCGGATTCACTGGGTTTAAAGGGTGC...  -2.694195  \n",
       "TACGTAGGGACCAAGCGTTGTTCGGATTTACTGGGCGTAAAGGGCGC...  -2.688204  \n",
       "TACGTAGGGACCAAGCGTTGTTCGGATTTACTGGGCGTAAAGGGCGC...  -2.642457  \n",
       "TACGGAGGGTGCAAGCGTTATCCGGATTCACTGGGTTTAAAGGGTGC...  -2.629011  "
      ]
     },
     "execution_count": 13,
     "metadata": {},
     "output_type": "execute_result"
    }
   ],
   "source": [
    "beta[['Taxon', 'tot_nitro']].sort_values('tot_nitro').head()"
   ]
  },
  {
   "cell_type": "markdown",
   "metadata": {},
   "source": [
    ">1 k__Bacteria; p__Acidobacteria; c__Chloracidob...\t-4.124126\n",
    "TACGGGGGGAGCAAGCGTTGTTCGGATTTACTGGGCGTAAAGGGCGCGTAGGCGGTCAGCACAAGTCAGTTGTGAAATCTCCGGGCTTAACTCGGAAAGGTCAACTGATACTGTGCGACTAGAGTGCGGAAGGGGCAACTGGAATTCTCG\n",
    "\n",
    "Not much\n",
    "\n",
    ">2 k__Bacteria; p__Bacteroidetes; c__Saprospirae...\t-2.694195\n",
    "TACGGAGGGTGCAAGCGTTATCCGGATTCACTGGGTTTAAAGGGTGCGTAGGAGGGCAGGTAAGTCAGTGGTGAAATCTCCGAGCTTAACTTGGAAACTGCCGTTGATACTATCTGTCTTGAATATTGTGGAGGTGAGCGGAATATGTCA\n",
    "\n",
    "Not much\n",
    "\n",
    ">3 k__Bacteria; p__Acidobacteria; c__Chloracidob...\t-2.688204\n",
    "TACGTAGGGACCAAGCGTTGTTCGGATTTACTGGGCGTAAAGGGCGCGTAGGCGGCGTGGTAAGTCACTTGTGAAATCTCTGAGCTTAACTCAGAACGGCCAAGTGATACTGCTGTGCTAGAGTGCAGAAGGGGCAATCGGAATTCTTGG\n",
    "\n",
    "Not much\n",
    "\n",
    ">4 k__Bacteria; p__Acidobacteria; c__Chloracidob...\t-2.642457\n",
    "TACGTAGGGACCAAGCGTTGTTCGGATTTACTGGGCGTAAAGGGCGCGTAGGCGGCAATTCAAGTCATCTGTGAAATCTCCGGGCTTAACTCGGAACGGTCAGATGATACTGCTTTGCTAGAGTGCAGAAGGGGCAATCGGAATTCTTGG\n",
    "\n",
    "Nitrate reducer\n",
    "https://www.ncbi.nlm.nih.gov/pubmed/28945537\n",
    "\n",
    ">5 k__Bacteria; p__Bacteroidetes; c__Saprospirae...\t-2.629011\n",
    "TACGGAGGGTGCAAGCGTTATCCGGATTCACTGGGTTTAAAGGGTGCGTAGGCGGGCAGTTAAGTCCGTGGTGAAATCTCTGAGCTTAACTCAGAAACTGCCATGGATACTATCTGTCTTGAATGTTGTGGAGGTAAGCGGAATATGTCA\n",
    "\n",
    "Not much"
   ]
  },
  {
   "cell_type": "code",
   "execution_count": 14,
   "metadata": {},
   "outputs": [
    {
     "data": {
      "text/html": [
       "<div>\n",
       "<style scoped>\n",
       "    .dataframe tbody tr th:only-of-type {\n",
       "        vertical-align: middle;\n",
       "    }\n",
       "\n",
       "    .dataframe tbody tr th {\n",
       "        vertical-align: top;\n",
       "    }\n",
       "\n",
       "    .dataframe thead th {\n",
       "        text-align: right;\n",
       "    }\n",
       "</style>\n",
       "<table border=\"1\" class=\"dataframe\">\n",
       "  <thead>\n",
       "    <tr style=\"text-align: right;\">\n",
       "      <th></th>\n",
       "      <th>Taxon</th>\n",
       "      <th>tot_nitro</th>\n",
       "    </tr>\n",
       "    <tr>\n",
       "      <th>sampleid</th>\n",
       "      <th></th>\n",
       "      <th></th>\n",
       "    </tr>\n",
       "  </thead>\n",
       "  <tbody>\n",
       "    <tr>\n",
       "      <th>TACAGAGGTCCCAAGCGTTGTTCGGATTCACTGGGCGTAAAGGGTGCGTAGGTGGTGAGGTAAGTCGGATGTGAAAGCTCGGAGCTCAACTCCGAAATGGCATTGGAAACTACCTTGCTCGAGGGTTGGAGGGGGGACTGGAATACTTGG</th>\n",
       "      <td>k__Bacteria; p__Verrucomicrobia; c__[Pedosphae...</td>\n",
       "      <td>3.154443</td>\n",
       "    </tr>\n",
       "    <tr>\n",
       "      <th>GACGGAGGGTGCAAGCGTTGTTCGGATTGACTGGGCGTAAAGGGCGTGTAGGCGGTTCGTTAAGTCGGGTGTGAAAGCCCGGGGCTCAGCTCCGGAAGTGCGCCCGAAACTGGCGAGCTGGAGCGCGGTAGAGGAGGGTGGAATTCCTGG</th>\n",
       "      <td>k__Bacteria; p__Proteobacteria; c__Deltaproteo...</td>\n",
       "      <td>3.189011</td>\n",
       "    </tr>\n",
       "    <tr>\n",
       "      <th>TACGTAGGCAGCAAGCGTTGTTCGGAATTACTGGGCGTAAAGAGTGTGTAGGCGGTGTTCTAAGTTTGTCGTGAAATCTCCCGGCTTAACTGGGAGGGTGCGGCGAAAACTGGAATGCTAGAGGATGGGAGAGGTAAGCGGAATTCCTGG</th>\n",
       "      <td>k__Bacteria; p__Acidobacteria; c__Solibacteres...</td>\n",
       "      <td>3.230459</td>\n",
       "    </tr>\n",
       "    <tr>\n",
       "      <th>TACAGAGGGTGCGAGCGTTGTTCGGAATTATTGGGCGTAAAGGGCGCGTAGGCGGTGCCACAAGTCACTTGTGAAATCTCCGGGCTTAACTCGGAGCCTGCAGGCGAAACTGTGGTGCTGGAGTGTGGGAGAGGTGCGTGGAATTCCCGG</th>\n",
       "      <td>k__Bacteria; p__Acidobacteria; c__Acidobacteri...</td>\n",
       "      <td>3.349997</td>\n",
       "    </tr>\n",
       "    <tr>\n",
       "      <th>TACGTAGGGCGCGAGCGTTGTCCGGAATTATTGGGCGTAAAGAGCTCGTAGGCGGCCGGTTGCGTCTGCTGTGAAATCCCGGGGCTTAACCCCGGGCGTGCAGTGGATACGGGCCGGCTGGAGGCAGGCAGGGGAGAATGGAATTCCCGG</th>\n",
       "      <td>k__Bacteria; p__Actinobacteria; c__Actinobacte...</td>\n",
       "      <td>3.504497</td>\n",
       "    </tr>\n",
       "    <tr>\n",
       "      <th>TACAGAGGGTGCGAGCGTTAATCGGAATTACTGGGCGTAAAGCGCGCGTAGACGGTTTTGTAAGTCAGATGTGAAATCCCTGGGCTCAACCTGGGAACTGCATTTGAAACTGCATGGCTAGAGTATGGAAGAGGGAAGTGGAATTTCCGG</th>\n",
       "      <td>k__Bacteria; p__Proteobacteria; c__Gammaproteo...</td>\n",
       "      <td>3.816770</td>\n",
       "    </tr>\n",
       "    <tr>\n",
       "      <th>TACCAGCACCCCGAGTGGTCGGGACGATTATTGGGCCTAAAGCATCCGTAGCCGGCCTTACAAGTCCCCCGTTAAATCCAACTGCTTAACAGATGGGCTGCGGAGGATACTATAAGACTAGGAGGCAGGAGAGGCAAGCGGTACTCAGTG</th>\n",
       "      <td>k__Archaea; p__Crenarchaeota; c__Thaumarchaeot...</td>\n",
       "      <td>3.844171</td>\n",
       "    </tr>\n",
       "    <tr>\n",
       "      <th>TACAGAGGGTGCGAGCGTTGTTCGGAATTATTGGGCGTAAAGGGCGCGTAGGCGGCGCGGTATGTCACCTGTGAAATCTCCTGGCTCAACTGGGAGCTTGCAGGCGAAACTGCCGTGCTGGAGTGTGGGAGAGGTGCGTGGAATTCCCGG</th>\n",
       "      <td>k__Bacteria; p__Acidobacteria; c__Acidobacteri...</td>\n",
       "      <td>4.328348</td>\n",
       "    </tr>\n",
       "    <tr>\n",
       "      <th>TACGGAGGGTGCAAGCGTTATCCGGATTCACTGGGTTTAAAGGGTGCGTAGGCGGGTTGGTAAGTCCGTGGTGAAATCTCCAAGCTTAACTTGGAAACTGCCGTGGATACTATCAATCTTGAATATAGTGGAGGTGAGCGGAATATGTCA</th>\n",
       "      <td>k__Bacteria; p__Bacteroidetes; c__[Saprospirae...</td>\n",
       "      <td>4.392308</td>\n",
       "    </tr>\n",
       "    <tr>\n",
       "      <th>TACAGAGGGTGCGAGCGTTGTTCGGAATTATTGGGCGTAAAGGGCGCGTAGGCGGTGCGGTAAGTCACCTGTGAAATCTCCTGGCTCAACTGGGAGCTTGCAGGCGAAACTGCCGTGCTGGAGTGTGGGAGAGGTGCGTGGAATTCCCGG</th>\n",
       "      <td>k__Bacteria; p__Acidobacteria; c__Acidobacteri...</td>\n",
       "      <td>4.627268</td>\n",
       "    </tr>\n",
       "  </tbody>\n",
       "</table>\n",
       "</div>"
      ],
      "text/plain": [
       "                                                                                                Taxon  \\\n",
       "sampleid                                                                                                \n",
       "TACAGAGGTCCCAAGCGTTGTTCGGATTCACTGGGCGTAAAGGGTGC...  k__Bacteria; p__Verrucomicrobia; c__[Pedosphae...   \n",
       "GACGGAGGGTGCAAGCGTTGTTCGGATTGACTGGGCGTAAAGGGCGT...  k__Bacteria; p__Proteobacteria; c__Deltaproteo...   \n",
       "TACGTAGGCAGCAAGCGTTGTTCGGAATTACTGGGCGTAAAGAGTGT...  k__Bacteria; p__Acidobacteria; c__Solibacteres...   \n",
       "TACAGAGGGTGCGAGCGTTGTTCGGAATTATTGGGCGTAAAGGGCGC...  k__Bacteria; p__Acidobacteria; c__Acidobacteri...   \n",
       "TACGTAGGGCGCGAGCGTTGTCCGGAATTATTGGGCGTAAAGAGCTC...  k__Bacteria; p__Actinobacteria; c__Actinobacte...   \n",
       "TACAGAGGGTGCGAGCGTTAATCGGAATTACTGGGCGTAAAGCGCGC...  k__Bacteria; p__Proteobacteria; c__Gammaproteo...   \n",
       "TACCAGCACCCCGAGTGGTCGGGACGATTATTGGGCCTAAAGCATCC...  k__Archaea; p__Crenarchaeota; c__Thaumarchaeot...   \n",
       "TACAGAGGGTGCGAGCGTTGTTCGGAATTATTGGGCGTAAAGGGCGC...  k__Bacteria; p__Acidobacteria; c__Acidobacteri...   \n",
       "TACGGAGGGTGCAAGCGTTATCCGGATTCACTGGGTTTAAAGGGTGC...  k__Bacteria; p__Bacteroidetes; c__[Saprospirae...   \n",
       "TACAGAGGGTGCGAGCGTTGTTCGGAATTATTGGGCGTAAAGGGCGC...  k__Bacteria; p__Acidobacteria; c__Acidobacteri...   \n",
       "\n",
       "                                                    tot_nitro  \n",
       "sampleid                                                       \n",
       "TACAGAGGTCCCAAGCGTTGTTCGGATTCACTGGGCGTAAAGGGTGC...   3.154443  \n",
       "GACGGAGGGTGCAAGCGTTGTTCGGATTGACTGGGCGTAAAGGGCGT...   3.189011  \n",
       "TACGTAGGCAGCAAGCGTTGTTCGGAATTACTGGGCGTAAAGAGTGT...   3.230459  \n",
       "TACAGAGGGTGCGAGCGTTGTTCGGAATTATTGGGCGTAAAGGGCGC...   3.349997  \n",
       "TACGTAGGGCGCGAGCGTTGTCCGGAATTATTGGGCGTAAAGAGCTC...   3.504497  \n",
       "TACAGAGGGTGCGAGCGTTAATCGGAATTACTGGGCGTAAAGCGCGC...   3.816770  \n",
       "TACCAGCACCCCGAGTGGTCGGGACGATTATTGGGCCTAAAGCATCC...   3.844171  \n",
       "TACAGAGGGTGCGAGCGTTGTTCGGAATTATTGGGCGTAAAGGGCGC...   4.328348  \n",
       "TACGGAGGGTGCAAGCGTTATCCGGATTCACTGGGTTTAAAGGGTGC...   4.392308  \n",
       "TACAGAGGGTGCGAGCGTTGTTCGGAATTATTGGGCGTAAAGGGCGC...   4.627268  "
      ]
     },
     "execution_count": 14,
     "metadata": {},
     "output_type": "execute_result"
    }
   ],
   "source": [
    "beta[['Taxon', 'tot_nitro']].sort_values('tot_nitro').tail(10)"
   ]
  },
  {
   "cell_type": "markdown",
   "metadata": {},
   "source": [
    "Sequence hits from blast\n",
    "\n",
    ">1 k__Bacteria; p__Proteobacteria; c__Gammaproteo...\t3.816770\n",
    "TACAGAGGGTGCGAGCGTTAATCGGAATTACTGGGCGTAAAGCGCGCGTAGACGGTTTTGTAAGTCAGATGTGAAATCCCTGGGCTCAACCTGGGAACTGCATTTGAAACTGCATGGCTAGAGTATGGAAGAGGGAAGTGGAATTTCCGG\n",
    "\n",
    "Well known nitrogen reducer: Steroidobacter denitrificans\n",
    "https://www.ncbi.nlm.nih.gov/pubmed/18768632\n",
    "\n",
    ">2 k__Archaea; p__Crenarchaeota; c__Thaumarchaeot...\t3.844171\n",
    "TACCAGCACCCCGAGTGGTCGGGACGATTATTGGGCCTAAAGCATCCGTAGCCGGCCTTACAAGTCCCCCGTTAAATCCAACTGCTTAACAGATGGGCTGCGGAGGATACTATAAGACTAGGAGGCAGGAGAGGCAAGCGGTACTCAGTG\n",
    "\n",
    "Ammonia oxider\n",
    "https://www.ncbi.nlm.nih.gov/pubmed/24907263\n",
    "\n",
    ">3 k__Bacteria; p__Acidobacteria; c__Acidobacteri...\t4.328348\n",
    "TACAGAGGGTGCGAGCGTTGTTCGGAATTATTGGGCGTAAAGGGCGCGTAGGCGGCGCGGTATGTCACCTGTGAAATCTCCTGGCTCAACTGGGAGCTTGCAGGCGAAACTGCCGTGCTGGAGTGTGGGAGAGGTGCGTGGAATTCCCGG\n",
    "\n",
    "Not much\n",
    "https://www.ncbi.nlm.nih.gov/pubmed/21108723\n",
    "\n",
    ">4 k__Bacteria; p__Bacteroidetes; c__Saprospirae...\t4.392308 \n",
    "TACGGAGGGTGCAAGCGTTATCCGGATTCACTGGGTTTAAAGGGTGCGTAGGCGGGTTGGTAAGTCCGTGGTGAAATCTCCAAGCTTAACTTGGAAACTGCCGTGGATACTATCAATCTTGAATATAGTGGAGGTGAGCGGAATATGTCA\n",
    "\n",
    "Not much\n",
    "https://www.ncbi.nlm.nih.gov/pubmed/20656815\n",
    "\n",
    ">5 k__Bacteria; p__Acidobacteria; c__Acidobacteri...\t4.627268\n",
    "TACAGAGGGTGCGAGCGTTGTTCGGAATTATTGGGCGTAAAGGGCGCGTAGGCGGTGCGGTAAGTCACCTGTGAAATCTCCTGGCTCAACTGGGAGCTTGCAGGCGAAACTGCCGTGCTGGAGTGTGGGAGAGGTGCGTGGAATTCCCGG\n",
    "\n",
    "Not much\n",
    "https://www.ncbi.nlm.nih.gov/pubmed/21108723\n",
    "\n",
    ">6 k__Bacteria; p__Verrucomicrobia; c__Pedosphae...\t3.154443\n",
    "TACAGAGGTCCCAAGCGTTGTTCGGATTCACTGGGCGTAAAGGGTGCGTAGGTGGTGAGGTAAGTCGGATGTGAAAGCTCGGAGCTCAACTCCGAAATGGCATTGGAAACTACCTTGCTCGAGGGTTGGAGGGGGGACTGGAATACTTGG\n",
    "\n",
    "Most likely \n",
    "https://www.ncbi.nlm.nih.gov/pubmed/12147477\n",
    "https://www.ncbi.nlm.nih.gov/pubmed/14660368\n",
    "\n",
    ">7 k__Bacteria; p__Proteobacteria; c__Deltaproteo...\t3.189011\n",
    "GACGGAGGGTGCAAGCGTTGTTCGGATTGACTGGGCGTAAAGGGCGTGTAGGCGGTTCGTTAAGTCGGGTGTGAAAGCCCGGGGCTCAGCTCCGGAAGTGCGCCCGAAACTGGCGAGCTGGAGCGCGGTAGAGGAGGGTGGAATTCCTGG\n",
    "\n",
    "Not much\n",
    "\n",
    ">8 k__Bacteria; p__Acidobacteria; c__Solibacteres...\t3.230459\n",
    "TACGTAGGCAGCAAGCGTTGTTCGGAATTACTGGGCGTAAAGAGTGTGTAGGCGGTGTTCTAAGTTTGTCGTGAAATCTCCCGGCTTAACTGGGAGGGTGCGGCGAAAACTGGAATGCTAGAGGATGGGAGAGGTAAGCGGAATTCCTGG\n",
    "\n",
    "Not much\n",
    "\n",
    ">9 k__Bacteria; p__Acidobacteria; c__Acidobacteri...\t3.349997\n",
    "TACAGAGGGTGCGAGCGTTGTTCGGAATTATTGGGCGTAAAGGGCGCGTAGGCGGTGCCACAAGTCACTTGTGAAATCTCCGGGCTTAACTCGGAGCCTGCAGGCGAAACTGTGGTGCTGGAGTGTGGGAGAGGTGCGTGGAATTCCCGG\n",
    "\n",
    "Not much\n",
    "https://www.ncbi.nlm.nih.gov/pubmed/21108723\n",
    "\n",
    ">10 k__Bacteria; p__Actinobacteria; c__Actinobacte...\t3.504497\n",
    "TACGTAGGGCGCGAGCGTTGTCCGGAATTATTGGGCGTAAAGAGCTCGTAGGCGGCCGGTTGCGTCTGCTGTGAAATCCCGGGGCTTAACCCCGGGCGTGCAGTGGATACGGGCCGGCTGGAGGCAGGCAGGGGAGAATGGAATTCCCGG\n",
    "\n",
    "Probably\n",
    "https://www.ncbi.nlm.nih.gov/pubmed/14660368"
   ]
  },
  {
   "cell_type": "code",
   "execution_count": 15,
   "metadata": {},
   "outputs": [],
   "source": [
    "functional_role = pd.Series(\n",
    "    {        \n",
    "        #'TACGTAGGGACCAAGCGTTGTTCGGATTTACTGGGCGTAAAGGGCGCGTAGGCGGCAATTCAAGTCATCTGTGAAATCTCCGGGCTTAACTCGGAACGGTCAGATGATACTGCTTTGCTAGAGTGCAGAAGGGGCAATCGGAATTCTTGG': 'nitrogen_reducer',\n",
    "        'TACAGAGGGTGCGAGCGTTAATCGGAATTACTGGGCGTAAAGCGCGCGTAGACGGTTTTGTAAGTCAGATGTGAAATCCCTGGGCTCAACCTGGGAACTGCATTTGAAACTGCATGGCTAGAGTATGGAAGAGGGAAGTGGAATTTCCGG': 'nitrogen_reducer',\n",
    "        'TACCAGCACCCCGAGTGGTCGGGACGATTATTGGGCCTAAAGCATCCGTAGCCGGCCTTACAAGTCCCCCGTTAAATCCAACTGCTTAACAGATGGGCTGCGGAGGATACTATAAGACTAGGAGGCAGGAGAGGCAAGCGGTACTCAGTG': 'ammonia_oxidizer',\n",
    "        'TACAGAGGGTGCAAGCGTTGTTCGGAATTATTGGGCGTAAAGGGTGCGTAGGCGGTGCGGTAAGTCTGTTGTGAAATCTCCAAGCTCAACTTGGAGCCTGCAACGGAAACTGCCGTGCTCGAGTATGGGAGAGGTGAGTGGAATTCCCGG': 'acidophile'\n",
    "    }\n",
    ")"
   ]
  },
  {
   "cell_type": "code",
   "execution_count": 16,
   "metadata": {},
   "outputs": [
    {
     "data": {
      "text/plain": [
       "TACAGAGGGTGCGAGCGTTAATCGGAATTACTGGGCGTAAAGCGCGCGTAGACGGTTTTGTAAGTCAGATGTGAAATCCCTGGGCTCAACCTGGGAACTGCATTTGAAACTGCATGGCTAGAGTATGGAAGAGGGAAGTGGAATTTCCGG    nitrogen_reducer\n",
       "TACCAGCACCCCGAGTGGTCGGGACGATTATTGGGCCTAAAGCATCCGTAGCCGGCCTTACAAGTCCCCCGTTAAATCCAACTGCTTAACAGATGGGCTGCGGAGGATACTATAAGACTAGGAGGCAGGAGAGGCAAGCGGTACTCAGTG    ammonia_oxidizer\n",
       "TACAGAGGGTGCAAGCGTTGTTCGGAATTATTGGGCGTAAAGGGTGCGTAGGCGGTGCGGTAAGTCTGTTGTGAAATCTCCAAGCTCAACTTGGAGCCTGCAACGGAAACTGCCGTGCTCGAGTATGGGAGAGGTGAGTGGAATTCCCGG          acidophile\n",
       "dtype: object"
      ]
     },
     "execution_count": 16,
     "metadata": {},
     "output_type": "execute_result"
    }
   ],
   "source": [
    "functional_role"
   ]
  },
  {
   "cell_type": "markdown",
   "metadata": {},
   "source": [
    "Rank plots for nitrogen and ph"
   ]
  },
  {
   "cell_type": "code",
   "execution_count": 22,
   "metadata": {},
   "outputs": [],
   "source": [
    "nitro_beta = beta['tot_nitro'].sort_values()\n",
    "ph_beta = beta['ph'].sort_values()"
   ]
  },
  {
   "cell_type": "code",
   "execution_count": 30,
   "metadata": {},
   "outputs": [
    {
     "data": {
      "image/png": "[encoded data removed]",
      "text/plain": [
       "<Figure size 720x504 with 2 Axes>"
      ]
     },
     "metadata": {
      "needs_background": "light"
     },
     "output_type": "display_data"
    }
   ],
   "source": [
    "fig, ax = plt.subplots(2, 1, figsize=(10, 7))\n",
    "x = np.arange(len(nitro_beta))\n",
    "y1 = np.array(nitro_beta.values)\n",
    "\n",
    "nitro_reducers = list(functional_role.loc[functional_role == 'nitrogen_reducer'].index)\n",
    "ammonia_oxidizers = list(functional_role.loc[functional_role == 'ammonia_oxidizer'].index)\n",
    "acidophiles = list(functional_role.loc[functional_role == 'acidophile'].index)\n",
    "\n",
    "ax[0].fill_between(x, 0, y1, color='#D0D0D0')\n",
    "ax[0].bar([nitro_beta.index.get_loc(i)-300 for i in ammonia_oxidizers], nitro_beta.loc[ammonia_oxidizers].values, \n",
    "          width=300, color='#0060B0', label='ammonia oxidizer', alpha=0.5)  # blue\n",
    "ax[0].bar([nitro_beta.index.get_loc(i) for i in acidophiles], nitro_beta.loc[acidophiles].values, \n",
    "          width=300, color='#FFA500', label='acidophile', alpha=0.5)  # orange\n",
    "ax[0].bar([nitro_beta.index.get_loc(i) for i in nitro_reducers], nitro_beta.loc[nitro_reducers].values, \n",
    "          width=300, color='#46B000', label='nitrogen reducer', alpha=0.5)  # green\n",
    "ax[0].set_xticks([])\n",
    "ax[0].tick_params(axis='both', which='major', labelsize=14)\n",
    "ax[0].legend(fontsize=12)\n",
    "ax[0].set_title('Nitrogen ranks', fontsize=18)\n",
    "ax[0].set_ylabel(r'$\\log (\\frac{High\\; nitrogen}{Low\\; nitrogen}) + K$', fontsize=20, labelpad=90, rotation=0)\n",
    "\n",
    "y2 = np.array(ph_beta.values)\n",
    "ax[1].fill_between(x, 0, y2, color='#D0D0D0')\n",
    "ax[1].set_xticks([])\n",
    "ax[1].tick_params(axis='both', which='major', labelsize=14)\n",
    "\n",
    "ax[1].bar([ph_beta.index.get_loc(i) for i in nitro_reducers], ph_beta.loc[nitro_reducers].values, \n",
    "          width=300, color='#46B000', label='nitrogen reducer', alpha=0.5)  # green\n",
    "ax[1].bar([ph_beta.index.get_loc(i) for i in ammonia_oxidizers], ph_beta.loc[ammonia_oxidizers].values, \n",
    "          width=300, color='#0060B0', label='ammonia oxidizer', alpha=0.5)  # blue\n",
    "ax[1].bar([ph_beta.index.get_loc(i) for i in acidophiles], ph_beta.loc[acidophiles].values, \n",
    "          width=300, color='#FFA500', label='acidophile', alpha=0.5)  # orange\n",
    "ax[1].set_title('pH ranks', fontsize=18)\n",
    "ax[1].set_ylabel(r'$\\log (\\frac{High\\; pH}{Low\\; pH}) + K$', fontsize=20, labelpad=90, rotation=0)\n",
    "plt.tight_layout()\n",
    "plt.savefig('../results/central_park_ph_nitrogen_ranks.png')\n",
    "plt.savefig('../figures/figure4/figure4.png') "
   ]
  },
  {
   "cell_type": "code",
   "execution_count": 31,
   "metadata": {},
   "outputs": [
    {
     "data": {
      "text/plain": [
       "(30248,)"
      ]
     },
     "execution_count": 31,
     "metadata": {},
     "output_type": "execute_result"
    }
   ],
   "source": [
    "nitro_beta.shape"
   ]
  },
  {
   "cell_type": "code",
   "execution_count": null,
   "metadata": {},
   "outputs": [],
   "source": []
  }
 ],
 "metadata": {
  "kernelspec": {
   "display_name": "Python 3",
   "language": "python",
   "name": "python3"
  },
  "language_info": {
   "codemirror_mode": {
    "name": "ipython",
    "version": 3
   },
   "file_extension": ".py",
   "mimetype": "text/x-python",
   "name": "python",
   "nbconvert_exporter": "python",
   "pygments_lexer": "ipython3",
   "version": "3.6.5"
  }
 },
 "nbformat": 4,
 "nbformat_minor": 2
}
