{
 "cells": [
  {
   "cell_type": "code",
   "execution_count": 1,
   "metadata": {},
   "outputs": [],
   "source": [
    "import numpy as np\n",
    "import pandas as pd\n",
    "from skbio import OrdinationResults\n",
    "import matplotlib.pyplot as plt\n",
    "%matplotlib inline"
   ]
  },
  {
   "cell_type": "code",
   "execution_count": 2,
   "metadata": {},
   "outputs": [],
   "source": [
    "#import files\n",
    "beta_file = '../results/soil_differentials.csv'\n",
    "beta = pd.read_csv(beta_file)\n",
    "taxa = pd.read_csv('../data/soils/taxonomy.tsv', sep=\"\\t\")\n",
    "\n",
    "#fix headers\n",
    "beta.rename(columns={\"Unnamed: 0\" : \"sampleid\"}, inplace=True)\n",
    "\n",
    "#merge!\n",
    "betataxa = pd.merge(taxa, beta, left_on=\"sampleid\", right_on=\"sampleid\")"
   ]
  },
  {
   "cell_type": "markdown",
   "metadata": {},
   "source": [
    "First save biplot to a file"
   ]
  },
  {
   "cell_type": "code",
   "execution_count": 3,
   "metadata": {},
   "outputs": [],
   "source": [
    "beta = betataxa.set_index('sampleid')"
   ]
  },
  {
   "cell_type": "code",
   "execution_count": 4,
   "metadata": {},
   "outputs": [],
   "source": [
    "taxa = pd.DataFrame(list(beta.Taxon.apply(lambda x: x.split('; ')).values))\n",
    "taxa.columns = ['kingdom', 'phylum', 'class', 'order', 'family', 'genus', 'species']"
   ]
  },
  {
   "cell_type": "code",
   "execution_count": 5,
   "metadata": {},
   "outputs": [],
   "source": [
    "taxa.index = beta.index\n",
    "beta = pd.concat((taxa, beta), axis=1)"
   ]
  },
  {
   "cell_type": "code",
   "execution_count": 6,
   "metadata": {},
   "outputs": [],
   "source": [
    "colnames = ['microbial_biomass', 'ph', 'tot_nitro', 'tot_org_carb', 'water_content_soil']\n",
    "data = beta[colnames]"
   ]
  },
  {
   "cell_type": "code",
   "execution_count": 7,
   "metadata": {},
   "outputs": [],
   "source": [
    "taxa.to_csv('taxa.txt', sep='\\t')"
   ]
  },
  {
   "cell_type": "markdown",
   "metadata": {},
   "source": [
    "Now, let's investigate the top hits"
   ]
  },
  {
   "cell_type": "code",
   "execution_count": 8,
   "metadata": {},
   "outputs": [
    {
     "data": {
      "text/html": [
       "<div>\n",
       "<style scoped>\n",
       "    .dataframe tbody tr th:only-of-type {\n",
       "        vertical-align: middle;\n",
       "    }\n",
       "\n",
       "    .dataframe tbody tr th {\n",
       "        vertical-align: top;\n",
       "    }\n",
       "\n",
       "    .dataframe thead th {\n",
       "        text-align: right;\n",
       "    }\n",
       "</style>\n",
       "<table border=\"1\" class=\"dataframe\">\n",
       "  <thead>\n",
       "    <tr style=\"text-align: right;\">\n",
       "      <th></th>\n",
       "      <th>Taxon</th>\n",
       "      <th>ph</th>\n",
       "    </tr>\n",
       "    <tr>\n",
       "      <th>sampleid</th>\n",
       "      <th></th>\n",
       "      <th></th>\n",
       "    </tr>\n",
       "  </thead>\n",
       "  <tbody>\n",
       "    <tr>\n",
       "      <th>GACGTAGGGGGCCAGCGTTGCTCGGAATTACTGGGCGTAAAGGGTCCGTAGGCGGTGTGGTAAGTCGGGAGTGAAATCTCTGGGCTTAACTCAGAGGCTGCTTCCGAAACTGCCGTGCTAGAGTGCGAGAGAGGCAAGTGGAATTGCGGG</th>\n",
       "      <td>k__Bacteria; p__Acidobacteria; c__DA052; o__El...</td>\n",
       "      <td>-3.603309</td>\n",
       "    </tr>\n",
       "    <tr>\n",
       "      <th>GACGTAGGGGGCCAGCGTTGCTCGGAATTACTGGGCGTAAAGGGTCCGTAGGCGGTGCGGTAAGTTGGGAGTGAAATCTCTGGGCTTAACTCAGAGGCTGCTTCCAAAACTACCGTGCTAGAGTGCGAGAGAGGCAAGTGGAATTGCGGG</th>\n",
       "      <td>k__Bacteria; p__Acidobacteria; c__DA052; o__El...</td>\n",
       "      <td>-3.510978</td>\n",
       "    </tr>\n",
       "    <tr>\n",
       "      <th>GACGTAGGATGCAAGCGTTGTCCGGATTTATTGGGCGTAAAGAGTTCGTAGGCGGTTCGTTAAGTCTGATGTTAAAGATCGGGGCTCAACCCCGGGAGTGCATTGGATACTGGCGGACTGGAGTGTGGTAGAGGCTAGTGGAATTCCCAG</th>\n",
       "      <td>k__Bacteria; p__Cyanobacteria; c__4C0d-2; o__M...</td>\n",
       "      <td>-3.492542</td>\n",
       "    </tr>\n",
       "    <tr>\n",
       "      <th>TACGAGGGGGGCGAGCGTTGTTCGGAATTATTGGGCGTAAAGGGTGCGTAGGCGGTTTGGTAAGTCTTATGTGAAATCTATGGGCTCAACTCATAGACTGCATGAGAAACTGCCGGGCTTGAGTGTGGGAGAGGTGAGTGGAATTTCCGG</th>\n",
       "      <td>k__Bacteria; p__Acidobacteria; c__Acidobacteri...</td>\n",
       "      <td>-3.439666</td>\n",
       "    </tr>\n",
       "    <tr>\n",
       "      <th>TACGTAGGCAGCAAGCGTTGTTCGGAGTTACTGGGCGTAAAGGGTGTGTAGGCGGCTTCCTAAGTTTGGTGTGAAATCTCCCGGCTCAACCGGGAGGGTGCGCCGAATACTGAGAGGCTAGAGTGCGGGAGAGGAAAGTGGAATTCCTGG</th>\n",
       "      <td>k__Bacteria; p__Acidobacteria; c__Solibacteres...</td>\n",
       "      <td>-3.403626</td>\n",
       "    </tr>\n",
       "  </tbody>\n",
       "</table>\n",
       "</div>"
      ],
      "text/plain": [
       "                                                                                                Taxon  \\\n",
       "sampleid                                                                                                \n",
       "GACGTAGGGGGCCAGCGTTGCTCGGAATTACTGGGCGTAAAGGGTCC...  k__Bacteria; p__Acidobacteria; c__DA052; o__El...   \n",
       "GACGTAGGGGGCCAGCGTTGCTCGGAATTACTGGGCGTAAAGGGTCC...  k__Bacteria; p__Acidobacteria; c__DA052; o__El...   \n",
       "GACGTAGGATGCAAGCGTTGTCCGGATTTATTGGGCGTAAAGAGTTC...  k__Bacteria; p__Cyanobacteria; c__4C0d-2; o__M...   \n",
       "TACGAGGGGGGCGAGCGTTGTTCGGAATTATTGGGCGTAAAGGGTGC...  k__Bacteria; p__Acidobacteria; c__Acidobacteri...   \n",
       "TACGTAGGCAGCAAGCGTTGTTCGGAGTTACTGGGCGTAAAGGGTGT...  k__Bacteria; p__Acidobacteria; c__Solibacteres...   \n",
       "\n",
       "                                                          ph  \n",
       "sampleid                                                      \n",
       "GACGTAGGGGGCCAGCGTTGCTCGGAATTACTGGGCGTAAAGGGTCC... -3.603309  \n",
       "GACGTAGGGGGCCAGCGTTGCTCGGAATTACTGGGCGTAAAGGGTCC... -3.510978  \n",
       "GACGTAGGATGCAAGCGTTGTCCGGATTTATTGGGCGTAAAGAGTTC... -3.492542  \n",
       "TACGAGGGGGGCGAGCGTTGTTCGGAATTATTGGGCGTAAAGGGTGC... -3.439666  \n",
       "TACGTAGGCAGCAAGCGTTGTTCGGAGTTACTGGGCGTAAAGGGTGT... -3.403626  "
      ]
     },
     "execution_count": 8,
     "metadata": {},
     "output_type": "execute_result"
    }
   ],
   "source": [
    "beta[['Taxon', 'ph']].sort_values('ph').head()"
   ]
  },
  {
   "cell_type": "code",
   "execution_count": 9,
   "metadata": {},
   "outputs": [
    {
     "name": "stdout",
     "output_type": "stream",
     "text": [
      ">ph_low_0\n",
      "GACGTAGGGGGCCAGCGTTGCTCGGAATTACTGGGCGTAAAGGGTCCGTAGGCGGTGTGGTAAGTCGGGAGTGAAATCTCTGGGCTTAACTCAGAGGCTGCTTCCGAAACTGCCGTGCTAGAGTGCGAGAGAGGCAAGTGGAATTGCGGG\n",
      ">ph_low_1\n",
      "GACGTAGGGGGCCAGCGTTGCTCGGAATTACTGGGCGTAAAGGGTCCGTAGGCGGTGCGGTAAGTTGGGAGTGAAATCTCTGGGCTTAACTCAGAGGCTGCTTCCAAAACTACCGTGCTAGAGTGCGAGAGAGGCAAGTGGAATTGCGGG\n",
      ">ph_low_2\n",
      "GACGTAGGATGCAAGCGTTGTCCGGATTTATTGGGCGTAAAGAGTTCGTAGGCGGTTCGTTAAGTCTGATGTTAAAGATCGGGGCTCAACCCCGGGAGTGCATTGGATACTGGCGGACTGGAGTGTGGTAGAGGCTAGTGGAATTCCCAG\n",
      ">ph_low_3\n",
      "TACGAGGGGGGCGAGCGTTGTTCGGAATTATTGGGCGTAAAGGGTGCGTAGGCGGTTTGGTAAGTCTTATGTGAAATCTATGGGCTCAACTCATAGACTGCATGAGAAACTGCCGGGCTTGAGTGTGGGAGAGGTGAGTGGAATTTCCGG\n",
      ">ph_low_4\n",
      "TACGTAGGCAGCAAGCGTTGTTCGGAGTTACTGGGCGTAAAGGGTGTGTAGGCGGCTTCCTAAGTTTGGTGTGAAATCTCCCGGCTCAACCGGGAGGGTGCGCCGAATACTGAGAGGCTAGAGTGCGGGAGAGGAAAGTGGAATTCCTGG\n"
     ]
    }
   ],
   "source": [
    "print('\\n'.join(list(map(lambda x: '>ph_low_%d\\n%s' % x, \n",
    "                   zip(np.arange(5), list(beta[['Taxon', 'ph']].sort_values('ph').head(5).index)))\n",
    "              )\n",
    "         )\n",
    "     )"
   ]
  },
  {
   "cell_type": "markdown",
   "metadata": {},
   "source": [
    ">ph_low_3\n",
    "TACGAGGGGGGCGAGCGTTGTTCGGAATTATTGGGCGTAAAGGGTGCGTAGGCGGTTTGGTAAGTCTTATGTGAAATCTATGGGCTCAACTCATAGACTGCATGAGAAACTGCCGGGCTTGAGTGTGGGAGAGGTGAGTGGAATTTCCGG\n",
    "\n",
    "GQ287529.1\tCandidatus Solibacter usitatus : found to be in ph3.5-6, https://www.ncbi.nlm.nih.gov/pubmed/19201974\n",
    "\n",
    ">ph_low_4\n",
    "TACGTAGGCAGCAAGCGTTGTTCGGAGTTACTGGGCGTAAAGGGTGTGTAGGCGGCTTCCTAAGTTTGGTGTGAAATCTCCCGGCTCAACCGGGAGGGTGCGCCGAATACTGAGAGGCTAGAGTGCGGGAGAGGAAAGTGGAATTCCTGG\n",
    "\n",
    "Telmatobacter: found in pH 3-6, https://www.ncbi.nlm.nih.gov/pubmed/21460138"
   ]
  },
  {
   "cell_type": "code",
   "execution_count": 10,
   "metadata": {},
   "outputs": [
    {
     "data": {
      "text/html": [
       "<div>\n",
       "<style scoped>\n",
       "    .dataframe tbody tr th:only-of-type {\n",
       "        vertical-align: middle;\n",
       "    }\n",
       "\n",
       "    .dataframe tbody tr th {\n",
       "        vertical-align: top;\n",
       "    }\n",
       "\n",
       "    .dataframe thead th {\n",
       "        text-align: right;\n",
       "    }\n",
       "</style>\n",
       "<table border=\"1\" class=\"dataframe\">\n",
       "  <thead>\n",
       "    <tr style=\"text-align: right;\">\n",
       "      <th></th>\n",
       "      <th>Taxon</th>\n",
       "      <th>ph</th>\n",
       "    </tr>\n",
       "    <tr>\n",
       "      <th>sampleid</th>\n",
       "      <th></th>\n",
       "      <th></th>\n",
       "    </tr>\n",
       "  </thead>\n",
       "  <tbody>\n",
       "    <tr>\n",
       "      <th>TACGGAGGGTGCGAGCGTTAATCGGAATTACTGGGCGTAAAGCGCGCGTAGGCGGTCTGTTAAGTCAGCTGTGAAAGCCCCGGGCTCAACCTGGGAACTGCAGTTGATACTGTCAGGCTGGAGTACGAGAGAGGGAGGTAGAATTCCATG</th>\n",
       "      <td>k__Bacteria; p__Proteobacteria; c__Gammaproteo...</td>\n",
       "      <td>2.169087</td>\n",
       "    </tr>\n",
       "    <tr>\n",
       "      <th>AACGTAGGACGCAAGCGTTATCCGGAGTTACTGGGCGTAAAGGGCGTGTAGGCGGCGCTGCAAGTTCGTCGTGAAAGACCCCGGCTCAACCGGGGGAGGTCGAGGGAGACTGCGGCGCTGGAGGACGGTAGAGGGACAGGGAATTCCGGG</th>\n",
       "      <td>k__Bacteria; p__Chloroflexi; c__Anaerolineae; ...</td>\n",
       "      <td>2.184701</td>\n",
       "    </tr>\n",
       "    <tr>\n",
       "      <th>TACGTAGGGTGCGAGCGTTAATCGGAATTACTGGGCGTAAAGGGTGCGCAGGCGGCTCCGCAAGTCAGACGTGAAATCCCCGGGCTTAACTTGGGAATGGCGTTTGAAACTACGGAGCTGGAGTGTGGCAGAGGGAGGTGGAATTCCACG</th>\n",
       "      <td>k__Bacteria; p__Proteobacteria; c__Betaproteob...</td>\n",
       "      <td>2.204778</td>\n",
       "    </tr>\n",
       "    <tr>\n",
       "      <th>TACGAAGGGGGCTAGCGTTGTTCGGAATTACTGGGCGTAAAGCGTACGTAGGCGGATTTGTAAGTAGGGGGTGAAATCCCCAGGCTCAACCTGGGAACTGCCTTCTAGACTGCAAGTCTCGAGATCAGGAGAGGCGAGTGGAATTCCGAG</th>\n",
       "      <td>k__Bacteria; p__Proteobacteria; c__Alphaproteo...</td>\n",
       "      <td>2.413835</td>\n",
       "    </tr>\n",
       "    <tr>\n",
       "      <th>TACGTAGGTGGCAAGCGTTGTCCGGATTTATTGGGTTTAAAGGGTGCGTAGGCGGCTTTGTAAGTCAGTGGTGAAATATGTCAGCTTAACTGAGAGGGTGCCATTGATACTGCAGAGCTTGAGTACAGATGAGGTAGGCGGAATTGACGG</th>\n",
       "      <td>k__Bacteria; p__Bacteroidetes; c__Cytophagia; ...</td>\n",
       "      <td>2.438140</td>\n",
       "    </tr>\n",
       "  </tbody>\n",
       "</table>\n",
       "</div>"
      ],
      "text/plain": [
       "                                                                                                Taxon  \\\n",
       "sampleid                                                                                                \n",
       "TACGGAGGGTGCGAGCGTTAATCGGAATTACTGGGCGTAAAGCGCGC...  k__Bacteria; p__Proteobacteria; c__Gammaproteo...   \n",
       "AACGTAGGACGCAAGCGTTATCCGGAGTTACTGGGCGTAAAGGGCGT...  k__Bacteria; p__Chloroflexi; c__Anaerolineae; ...   \n",
       "TACGTAGGGTGCGAGCGTTAATCGGAATTACTGGGCGTAAAGGGTGC...  k__Bacteria; p__Proteobacteria; c__Betaproteob...   \n",
       "TACGAAGGGGGCTAGCGTTGTTCGGAATTACTGGGCGTAAAGCGTAC...  k__Bacteria; p__Proteobacteria; c__Alphaproteo...   \n",
       "TACGTAGGTGGCAAGCGTTGTCCGGATTTATTGGGTTTAAAGGGTGC...  k__Bacteria; p__Bacteroidetes; c__Cytophagia; ...   \n",
       "\n",
       "                                                          ph  \n",
       "sampleid                                                      \n",
       "TACGGAGGGTGCGAGCGTTAATCGGAATTACTGGGCGTAAAGCGCGC...  2.169087  \n",
       "AACGTAGGACGCAAGCGTTATCCGGAGTTACTGGGCGTAAAGGGCGT...  2.184701  \n",
       "TACGTAGGGTGCGAGCGTTAATCGGAATTACTGGGCGTAAAGGGTGC...  2.204778  \n",
       "TACGAAGGGGGCTAGCGTTGTTCGGAATTACTGGGCGTAAAGCGTAC...  2.413835  \n",
       "TACGTAGGTGGCAAGCGTTGTCCGGATTTATTGGGTTTAAAGGGTGC...  2.438140  "
      ]
     },
     "execution_count": 10,
     "metadata": {},
     "output_type": "execute_result"
    }
   ],
   "source": [
    "beta[['Taxon', 'ph']].sort_values('ph').tail()"
   ]
  },
  {
   "cell_type": "code",
   "execution_count": 11,
   "metadata": {},
   "outputs": [
    {
     "name": "stdout",
     "output_type": "stream",
     "text": [
      ">ph_high_0\n",
      "TACGGAGGGTGCGAGCGTTAATCGGAATTACTGGGCGTAAAGCGCGCGTAGGCGGTCTGTTAAGTCAGCTGTGAAAGCCCCGGGCTCAACCTGGGAACTGCAGTTGATACTGTCAGGCTGGAGTACGAGAGAGGGAGGTAGAATTCCATG\n",
      ">ph_high_1\n",
      "AACGTAGGACGCAAGCGTTATCCGGAGTTACTGGGCGTAAAGGGCGTGTAGGCGGCGCTGCAAGTTCGTCGTGAAAGACCCCGGCTCAACCGGGGGAGGTCGAGGGAGACTGCGGCGCTGGAGGACGGTAGAGGGACAGGGAATTCCGGG\n",
      ">ph_high_2\n",
      "TACGTAGGGTGCGAGCGTTAATCGGAATTACTGGGCGTAAAGGGTGCGCAGGCGGCTCCGCAAGTCAGACGTGAAATCCCCGGGCTTAACTTGGGAATGGCGTTTGAAACTACGGAGCTGGAGTGTGGCAGAGGGAGGTGGAATTCCACG\n",
      ">ph_high_3\n",
      "TACGAAGGGGGCTAGCGTTGTTCGGAATTACTGGGCGTAAAGCGTACGTAGGCGGATTTGTAAGTAGGGGGTGAAATCCCCAGGCTCAACCTGGGAACTGCCTTCTAGACTGCAAGTCTCGAGATCAGGAGAGGCGAGTGGAATTCCGAG\n",
      ">ph_high_4\n",
      "TACGTAGGTGGCAAGCGTTGTCCGGATTTATTGGGTTTAAAGGGTGCGTAGGCGGCTTTGTAAGTCAGTGGTGAAATATGTCAGCTTAACTGAGAGGGTGCCATTGATACTGCAGAGCTTGAGTACAGATGAGGTAGGCGGAATTGACGG\n"
     ]
    }
   ],
   "source": [
    "print('\\n'.join(list(map(lambda x: '>ph_high_%d\\n%s' % x, \n",
    "                   zip(np.arange(10), list(beta[['Taxon', 'ph']].sort_values('ph').tail(5).index)))\n",
    "              )\n",
    "         )\n",
    "     )"
   ]
  },
  {
   "cell_type": "markdown",
   "metadata": {},
   "source": [
    ">ph_high_4\n",
    "TACGTAGGTGGCAAGCGTTGTCCGGATTTATTGGGTTTAAAGGGTGCGTAGGCGGCTTTGTAAGTCAGTGGTGAAATATGTCAGCTTAACTGAGAGGGTGCCATTGATACTGCAGAGCTTGAGTACAGATGAGGTAGGCGGAATTGACGG\n",
    "\n",
    "Chryseolinea\n",
    "- https://ijs.microbiologyresearch.org/content/journal/ijsem/10.1099/ijsem.0.003022#tab2\n",
    "- Alkaliphile"
   ]
  },
  {
   "cell_type": "code",
   "execution_count": 12,
   "metadata": {},
   "outputs": [
    {
     "data": {
      "text/html": [
       "<div>\n",
       "<style scoped>\n",
       "    .dataframe tbody tr th:only-of-type {\n",
       "        vertical-align: middle;\n",
       "    }\n",
       "\n",
       "    .dataframe tbody tr th {\n",
       "        vertical-align: top;\n",
       "    }\n",
       "\n",
       "    .dataframe thead th {\n",
       "        text-align: right;\n",
       "    }\n",
       "</style>\n",
       "<table border=\"1\" class=\"dataframe\">\n",
       "  <thead>\n",
       "    <tr style=\"text-align: right;\">\n",
       "      <th></th>\n",
       "      <th>Taxon</th>\n",
       "      <th>tot_nitro</th>\n",
       "    </tr>\n",
       "    <tr>\n",
       "      <th>sampleid</th>\n",
       "      <th></th>\n",
       "      <th></th>\n",
       "    </tr>\n",
       "  </thead>\n",
       "  <tbody>\n",
       "    <tr>\n",
       "      <th>TACGAAGGGGGCTAGCGTTGTTCGGAATTACTGGGCGTAAAGCGTGCGCAGGCGGCTTCTCAAGTCAGGGGTGAAAGCCCAGAGCTCAACTCTGGAATTGCCTTTGAGACTGAGTGGCTTGAGTACGGGAGAGGTGAGTGGAATTCCCAG</th>\n",
       "      <td>k__Bacteria; p__Proteobacteria; c__Alphaproteo...</td>\n",
       "      <td>-10.376105</td>\n",
       "    </tr>\n",
       "    <tr>\n",
       "      <th>TACGTAGGGTGCAAGCGTTAATCGGAATTACTGGGCGTAAAGCGTGCGCAGGCGGTTTTGTAAGACAGTGGTGAAATCCCCGGGCTCAACCTGGGAACTGCCATTGTGACTGCAAAGCTAGAGTGCGGCAGAGGGGGATGGAATTCCGCG</th>\n",
       "      <td>k__Bacteria; p__Proteobacteria; c__Betaproteob...</td>\n",
       "      <td>-8.682061</td>\n",
       "    </tr>\n",
       "    <tr>\n",
       "      <th>TACAGAGGGTGCAAGCGTTAATCGGAATTACTGGGCGTAAAGCGCACGTAGGCGGCTTGGTAAGTTGGATGTGAAATCCCCGGGCTTAACTTGGGAATTGCATTCAAGACTGCCTTGCTAGAGTGTGGAAGAGGGAAGCGGAATTCCAGG</th>\n",
       "      <td>k__Bacteria; p__Proteobacteria; c__Gammaproteo...</td>\n",
       "      <td>-8.263899</td>\n",
       "    </tr>\n",
       "    <tr>\n",
       "      <th>TACAGAGGGTGCTAGCGTTAATCGGATTTATTGGGCGTAAAGGGCGCGTAGGTGGTAAAGCAAGTAGAATGTGAAAACCCTGGGCTTAACCTGGGAAGTGCATCCTAAACTGCTTAACTAGAGTATGGTAGAGGGTAGTGGAATTTCCGG</th>\n",
       "      <td>k__Bacteria; p__Proteobacteria; c__Gammaproteo...</td>\n",
       "      <td>-8.218226</td>\n",
       "    </tr>\n",
       "    <tr>\n",
       "      <th>TACAGAGGTCCCGAGCGTTGTTCGGATTCACTGGGCGTAAAGGGTGCGTAGGTGGCGAAGTAAGTCGGATGTGAAATCTCGGAGCTTAACTCCGAAACGGCATTGGAAACTACTTTGCTAGAGGTTTGGAGGGGGGACTGGAATGCTTGG</th>\n",
       "      <td>k__Bacteria; p__Verrucomicrobia; c__[Pedosphae...</td>\n",
       "      <td>-7.136212</td>\n",
       "    </tr>\n",
       "  </tbody>\n",
       "</table>\n",
       "</div>"
      ],
      "text/plain": [
       "                                                                                                Taxon  \\\n",
       "sampleid                                                                                                \n",
       "TACGAAGGGGGCTAGCGTTGTTCGGAATTACTGGGCGTAAAGCGTGC...  k__Bacteria; p__Proteobacteria; c__Alphaproteo...   \n",
       "TACGTAGGGTGCAAGCGTTAATCGGAATTACTGGGCGTAAAGCGTGC...  k__Bacteria; p__Proteobacteria; c__Betaproteob...   \n",
       "TACAGAGGGTGCAAGCGTTAATCGGAATTACTGGGCGTAAAGCGCAC...  k__Bacteria; p__Proteobacteria; c__Gammaproteo...   \n",
       "TACAGAGGGTGCTAGCGTTAATCGGATTTATTGGGCGTAAAGGGCGC...  k__Bacteria; p__Proteobacteria; c__Gammaproteo...   \n",
       "TACAGAGGTCCCGAGCGTTGTTCGGATTCACTGGGCGTAAAGGGTGC...  k__Bacteria; p__Verrucomicrobia; c__[Pedosphae...   \n",
       "\n",
       "                                                    tot_nitro  \n",
       "sampleid                                                       \n",
       "TACGAAGGGGGCTAGCGTTGTTCGGAATTACTGGGCGTAAAGCGTGC... -10.376105  \n",
       "TACGTAGGGTGCAAGCGTTAATCGGAATTACTGGGCGTAAAGCGTGC...  -8.682061  \n",
       "TACAGAGGGTGCAAGCGTTAATCGGAATTACTGGGCGTAAAGCGCAC...  -8.263899  \n",
       "TACAGAGGGTGCTAGCGTTAATCGGATTTATTGGGCGTAAAGGGCGC...  -8.218226  \n",
       "TACAGAGGTCCCGAGCGTTGTTCGGATTCACTGGGCGTAAAGGGTGC...  -7.136212  "
      ]
     },
     "execution_count": 12,
     "metadata": {},
     "output_type": "execute_result"
    }
   ],
   "source": [
    "beta[['Taxon', 'tot_nitro']].sort_values('tot_nitro').head()"
   ]
  },
  {
   "cell_type": "code",
   "execution_count": 13,
   "metadata": {},
   "outputs": [
    {
     "name": "stdout",
     "output_type": "stream",
     "text": [
      ">nitro_low_0\n",
      "TACGAAGGGGGCTAGCGTTGTTCGGAATTACTGGGCGTAAAGCGTGCGCAGGCGGCTTCTCAAGTCAGGGGTGAAAGCCCAGAGCTCAACTCTGGAATTGCCTTTGAGACTGAGTGGCTTGAGTACGGGAGAGGTGAGTGGAATTCCCAG\n",
      ">nitro_low_1\n",
      "TACGTAGGGTGCAAGCGTTAATCGGAATTACTGGGCGTAAAGCGTGCGCAGGCGGTTTTGTAAGACAGTGGTGAAATCCCCGGGCTCAACCTGGGAACTGCCATTGTGACTGCAAAGCTAGAGTGCGGCAGAGGGGGATGGAATTCCGCG\n",
      ">nitro_low_2\n",
      "TACAGAGGGTGCAAGCGTTAATCGGAATTACTGGGCGTAAAGCGCACGTAGGCGGCTTGGTAAGTTGGATGTGAAATCCCCGGGCTTAACTTGGGAATTGCATTCAAGACTGCCTTGCTAGAGTGTGGAAGAGGGAAGCGGAATTCCAGG\n",
      ">nitro_low_3\n",
      "TACAGAGGGTGCTAGCGTTAATCGGATTTATTGGGCGTAAAGGGCGCGTAGGTGGTAAAGCAAGTAGAATGTGAAAACCCTGGGCTTAACCTGGGAAGTGCATCCTAAACTGCTTAACTAGAGTATGGTAGAGGGTAGTGGAATTTCCGG\n",
      ">nitro_low_4\n",
      "TACAGAGGTCCCGAGCGTTGTTCGGATTCACTGGGCGTAAAGGGTGCGTAGGTGGCGAAGTAAGTCGGATGTGAAATCTCGGAGCTTAACTCCGAAACGGCATTGGAAACTACTTTGCTAGAGGTTTGGAGGGGGGACTGGAATGCTTGG\n"
     ]
    }
   ],
   "source": [
    "print('\\n'.join(list(map(lambda x: '>nitro_low_%d\\n%s' % x, \n",
    "                   zip(np.arange(5), list(beta[['Taxon', 'tot_nitro']].sort_values('tot_nitro').head(5).index)))\n",
    "              )\n",
    "         )\n",
    "     )"
   ]
  },
  {
   "cell_type": "markdown",
   "metadata": {},
   "source": [
    ">nitro_low_2\n",
    "TACAGAGGGTGCAAGCGTTAATCGGAATTACTGGGCGTAAAGCGCACGTAGGCGGCTTGGTAAGTTGGATGTGAAATCCCCGGGCTTAACTTGGGAATTGCATTCAAGACTGCCTTGCTAGAGTGTGGAAGAGGGAAGCGGAATTCCAGG\n",
    "\n",
    "Gemmatimonas sp https://aem.asm.org/content/83/12/e00502-17"
   ]
  },
  {
   "cell_type": "code",
   "execution_count": 14,
   "metadata": {},
   "outputs": [],
   "source": [
    "nitro_reducer=['TACAGAGGGTGCAAGCGTTAATCGGAATTACTGGGCGTAAAGCGCACGTAGGCGGCTTGGTAAGTTGGATGTGAAATCCCCGGGCTTAACTTGGGAATTGCATTCAAGACTGCCTTGCTAGAGTGTGGAAGAGGGAAGCGGAATTCCAGG']"
   ]
  },
  {
   "cell_type": "code",
   "execution_count": 15,
   "metadata": {},
   "outputs": [
    {
     "data": {
      "text/html": [
       "<div>\n",
       "<style scoped>\n",
       "    .dataframe tbody tr th:only-of-type {\n",
       "        vertical-align: middle;\n",
       "    }\n",
       "\n",
       "    .dataframe tbody tr th {\n",
       "        vertical-align: top;\n",
       "    }\n",
       "\n",
       "    .dataframe thead th {\n",
       "        text-align: right;\n",
       "    }\n",
       "</style>\n",
       "<table border=\"1\" class=\"dataframe\">\n",
       "  <thead>\n",
       "    <tr style=\"text-align: right;\">\n",
       "      <th></th>\n",
       "      <th>Taxon</th>\n",
       "      <th>tot_nitro</th>\n",
       "    </tr>\n",
       "    <tr>\n",
       "      <th>sampleid</th>\n",
       "      <th></th>\n",
       "      <th></th>\n",
       "    </tr>\n",
       "  </thead>\n",
       "  <tbody>\n",
       "    <tr>\n",
       "      <th>TACAGAGGGTGCGAGCGTTAATCGGAATAACTGGGCGTAAAGGGCGAGTAGGCGGATTGATAAGTGAGGTGGTAAAGACATGGGCTTAACCTGTGGGTGACACCTTAGACTGTGAGTCTAGAGAGCAGGAGAGGGGAGTGGAATTTCCGG</th>\n",
       "      <td>k__Bacteria; p__Proteobacteria; c__Gammaproteo...</td>\n",
       "      <td>1.601344</td>\n",
       "    </tr>\n",
       "    <tr>\n",
       "      <th>TACGGAGGGGGCGAGCGTTATTCGGAATTATTGGGCGTAAAGGGCGCGTAGGCGGCTGTGCAAGTCAAAGGTGAAATCCCTCGGCTCAACTGAGGAACTGCCTTTGAAACTGCGCGGCTTGAGTCCGGGAGGGGGTAGCGGAATTCCCAG</th>\n",
       "      <td>k__Bacteria; p__Acidobacteria; c__Sva0725; o__...</td>\n",
       "      <td>1.617910</td>\n",
       "    </tr>\n",
       "    <tr>\n",
       "      <th>TACGGAGGGTGCGAGCGTTGTCCGGAATCACTGGGCGTAAAGGGCGCGTAGGTGGTTCGGTAAGTTGCTGGTGAAATCCCGGGGCTCAACTCCGGGGCTGCCGGCAAGACTGTCGGACTTGAGCACGGTAGGGGCAGATGGAATTCCCGG</th>\n",
       "      <td>k__Bacteria; p__Gemmatimonadetes; c__Gemm-1; o...</td>\n",
       "      <td>1.619724</td>\n",
       "    </tr>\n",
       "    <tr>\n",
       "      <th>TACAGAGGGTGCAAGCGTTAATCGGAATTACTGGGCGTAAAGGGTGCGTAGGTGGTTTGTTAAGTCAGGCGTGAAATCCTCGGGCTCAACCTGGGAACTGCGCTTGATACTGACAGACTCGAGTGTGGTAGAGGATAGTGGAATTCCCGG</th>\n",
       "      <td>k__Bacteria; p__Proteobacteria; c__; o__; f__;...</td>\n",
       "      <td>1.668126</td>\n",
       "    </tr>\n",
       "    <tr>\n",
       "      <th>CACGGGGGGAGCAAGCGTTGTTCGGAATCACTGGGCGTAAAGGGCGTGTAGGCGGTTGAGTAAGTGGAATGTGAAATGCCCAGGCTCACCCTGGGACCTGCATTCCAAACTGCTTAGCTCGAGTATGGGAGAGGATGAGGGAATTCCTGG</th>\n",
       "      <td>k__Bacteria; p__WS3; c__PRR-12; o__Sediment-1;...</td>\n",
       "      <td>2.005388</td>\n",
       "    </tr>\n",
       "  </tbody>\n",
       "</table>\n",
       "</div>"
      ],
      "text/plain": [
       "                                                                                                Taxon  \\\n",
       "sampleid                                                                                                \n",
       "TACAGAGGGTGCGAGCGTTAATCGGAATAACTGGGCGTAAAGGGCGA...  k__Bacteria; p__Proteobacteria; c__Gammaproteo...   \n",
       "TACGGAGGGGGCGAGCGTTATTCGGAATTATTGGGCGTAAAGGGCGC...  k__Bacteria; p__Acidobacteria; c__Sva0725; o__...   \n",
       "TACGGAGGGTGCGAGCGTTGTCCGGAATCACTGGGCGTAAAGGGCGC...  k__Bacteria; p__Gemmatimonadetes; c__Gemm-1; o...   \n",
       "TACAGAGGGTGCAAGCGTTAATCGGAATTACTGGGCGTAAAGGGTGC...  k__Bacteria; p__Proteobacteria; c__; o__; f__;...   \n",
       "CACGGGGGGAGCAAGCGTTGTTCGGAATCACTGGGCGTAAAGGGCGT...  k__Bacteria; p__WS3; c__PRR-12; o__Sediment-1;...   \n",
       "\n",
       "                                                    tot_nitro  \n",
       "sampleid                                                       \n",
       "TACAGAGGGTGCGAGCGTTAATCGGAATAACTGGGCGTAAAGGGCGA...   1.601344  \n",
       "TACGGAGGGGGCGAGCGTTATTCGGAATTATTGGGCGTAAAGGGCGC...   1.617910  \n",
       "TACGGAGGGTGCGAGCGTTGTCCGGAATCACTGGGCGTAAAGGGCGC...   1.619724  \n",
       "TACAGAGGGTGCAAGCGTTAATCGGAATTACTGGGCGTAAAGGGTGC...   1.668126  \n",
       "CACGGGGGGAGCAAGCGTTGTTCGGAATCACTGGGCGTAAAGGGCGT...   2.005388  "
      ]
     },
     "execution_count": 15,
     "metadata": {},
     "output_type": "execute_result"
    }
   ],
   "source": [
    "beta[['Taxon', 'tot_nitro']].sort_values('tot_nitro').tail(5)"
   ]
  },
  {
   "cell_type": "code",
   "execution_count": 16,
   "metadata": {},
   "outputs": [
    {
     "name": "stdout",
     "output_type": "stream",
     "text": [
      ">nitro_high_0\n",
      "TACAGAGGGTGCGAGCGTTAATCGGAATAACTGGGCGTAAAGGGCGAGTAGGCGGATTGATAAGTGAGGTGGTAAAGACATGGGCTTAACCTGTGGGTGACACCTTAGACTGTGAGTCTAGAGAGCAGGAGAGGGGAGTGGAATTTCCGG\n",
      ">nitro_high_1\n",
      "TACGGAGGGGGCGAGCGTTATTCGGAATTATTGGGCGTAAAGGGCGCGTAGGCGGCTGTGCAAGTCAAAGGTGAAATCCCTCGGCTCAACTGAGGAACTGCCTTTGAAACTGCGCGGCTTGAGTCCGGGAGGGGGTAGCGGAATTCCCAG\n",
      ">nitro_high_2\n",
      "TACGGAGGGTGCGAGCGTTGTCCGGAATCACTGGGCGTAAAGGGCGCGTAGGTGGTTCGGTAAGTTGCTGGTGAAATCCCGGGGCTCAACTCCGGGGCTGCCGGCAAGACTGTCGGACTTGAGCACGGTAGGGGCAGATGGAATTCCCGG\n",
      ">nitro_high_3\n",
      "TACAGAGGGTGCAAGCGTTAATCGGAATTACTGGGCGTAAAGGGTGCGTAGGTGGTTTGTTAAGTCAGGCGTGAAATCCTCGGGCTCAACCTGGGAACTGCGCTTGATACTGACAGACTCGAGTGTGGTAGAGGATAGTGGAATTCCCGG\n",
      ">nitro_high_4\n",
      "CACGGGGGGAGCAAGCGTTGTTCGGAATCACTGGGCGTAAAGGGCGTGTAGGCGGTTGAGTAAGTGGAATGTGAAATGCCCAGGCTCACCCTGGGACCTGCATTCCAAACTGCTTAGCTCGAGTATGGGAGAGGATGAGGGAATTCCTGG\n"
     ]
    }
   ],
   "source": [
    "print('\\n'.join(list(map(lambda x: '>nitro_high_%d\\n%s' % x, \n",
    "                   zip(np.arange(5), list(beta[['Taxon', 'tot_nitro']].sort_values('tot_nitro').tail(5).index)))\n",
    "              )\n",
    "         )\n",
    "     )"
   ]
  },
  {
   "cell_type": "code",
   "execution_count": 17,
   "metadata": {},
   "outputs": [],
   "source": [
    "functional_role = pd.Series(\n",
    "    {        'TACGAGGGGGGCGAGCGTTGTTCGGAATTATTGGGCGTAAAGGGTGCGTAGGCGGTTTGGTAAGTCTTATGTGAAATCTATGGGCTCAACTCATAGACTGCATGAGAAACTGCCGGGCTTGAGTGTGGGAGAGGTGAGTGGAATTTCCGG': 'acidophile',              'TACGTAGGCAGCAAGCGTTGTTCGGAGTTACTGGGCGTAAAGGGTGTGTAGGCGGCTTCCTAAGTTTGGTGTGAAATCTCCCGGCTCAACCGGGAGGGTGCGCCGAATACTGAGAGGCTAGAGTGCGGGAGAGGAAAGTGGAATTCCTGG': 'acidophile',        'TACAGAGGGTGCAAGCGTTGTTCGGAATTATTGGGCGTAAAGGGTGCGTAGGCGGTGCGGTAAGTCTGTTGTGAAATCTCCAAGCTCAACTTGGAGCCTGCAACGGAAACTGCCGTGCTCGAGTATGGGAGAGGTGAGTGGAATTCCCGG': 'acidophile',     \n",
    " 'TACGTAGGTGGCAAGCGTTGTCCGGATTTATTGGGTTTAAAGGGTGCGTAGGCGGCTTTGTAAGTCAGTGGTGAAATATGTCAGCTTAACTGAGAGGGTGCCATTGATACTGCAGAGCTTGAGTACAGATGAGGTAGGCGGAATTGACGG': 'alkaliphile', 'TACAGAGGGTGCAAGCGTTAATCGGAATTACTGGGCGTAAAGCGCACGTAGGCGGCTTGGTAAGTTGGATGTGAAATCCCCGGGCTTAACTTGGGAATTGCATTCAAGACTGCCTTGCTAGAGTGTGGAAGAGGGAAGCGGAATTCCAGG': 'nitrogen_reducer'\n",
    "    }\n",
    ")"
   ]
  },
  {
   "cell_type": "markdown",
   "metadata": {},
   "source": [
    "Nitrogen reducer\n",
    "    - https://aem.asm.org/content/83/12/e00502-17\n",
    "\n",
    "Acidophile: \n",
    "    - https://www.ncbi.nlm.nih.gov/pubmed/19201974\n",
    "    - https://www.ncbi.nlm.nih.gov/pubmed/21460138\n",
    "Alkaliphile\n",
    "- https://ijs.microbiologyresearch.org/content/journal/ijsem/10.1099/ijsem.0.003022#tab2     "
   ]
  },
  {
   "cell_type": "markdown",
   "metadata": {},
   "source": [
    "Rank plots for nitrogen and ph"
   ]
  },
  {
   "cell_type": "code",
   "execution_count": 18,
   "metadata": {},
   "outputs": [],
   "source": [
    "nitro_beta = beta['tot_nitro'].sort_values()\n",
    "ph_beta = beta['ph'].sort_values()"
   ]
  },
  {
   "cell_type": "code",
   "execution_count": 19,
   "metadata": {},
   "outputs": [
    {
     "data": {
      "image/png": "[encoded data removed]",
      "text/plain": [
       "<Figure size 720x504 with 2 Axes>"
      ]
     },
     "metadata": {
      "needs_background": "light"
     },
     "output_type": "display_data"
    }
   ],
   "source": [
    "fig, ax = plt.subplots(2, 1, figsize=(10, 7))\n",
    "x = np.arange(len(nitro_beta))\n",
    "y1 = np.array(nitro_beta.values)\n",
    "\n",
    "nitro_reducers = list(functional_role.loc[functional_role == 'nitrogen_reducer'].index)\n",
    "alkaliphiles = list(functional_role.loc[functional_role == 'alkaliphile'].index)\n",
    "acidophiles = list(functional_role.loc[functional_role == 'acidophile'].index)\n",
    "\n",
    "ax[0].fill_between(x, 0, y1, color='#D0D0D0')\n",
    "ax[0].bar([nitro_beta.index.get_loc(i)-300 for i in alkaliphiles], nitro_beta.loc[alkaliphiles].values, \n",
    "          width=300, color='#0060B0', label='alkaliphile', alpha=0.5)  # blue\n",
    "ax[0].bar([nitro_beta.index.get_loc(i) for i in acidophiles], nitro_beta.loc[acidophiles].values, \n",
    "          width=300, color='#FFA500', label='acidophile', alpha=0.5)  # orange\n",
    "ax[0].bar([nitro_beta.index.get_loc(i) for i in nitro_reducers], nitro_beta.loc[nitro_reducers].values, \n",
    "          width=300, color='#46B000', label='nitrogen reducer', alpha=0.5)  # green\n",
    "ax[0].set_xticks([])\n",
    "ax[0].tick_params(axis='both', which='major', labelsize=14)\n",
    "ax[0].legend(fontsize=12)\n",
    "ax[0].set_title('Nitrogen ranks', fontsize=18)\n",
    "ax[0].set_ylabel(r'$\\log (\\frac{High\\; nitrogen}{Low\\; nitrogen}) + K$', fontsize=20, labelpad=90, rotation=0)\n",
    "\n",
    "y2 = np.array(ph_beta.values)\n",
    "ax[1].fill_between(x, 0, y2, color='#D0D0D0')\n",
    "ax[1].set_xticks([])\n",
    "ax[1].tick_params(axis='both', which='major', labelsize=14)\n",
    "\n",
    "ax[1].bar([ph_beta.index.get_loc(i) for i in nitro_reducers], ph_beta.loc[nitro_reducers].values, \n",
    "          width=300, color='#46B000', label='nitrogen reducer', alpha=0.5)  # green\n",
    "ax[1].bar([ph_beta.index.get_loc(i) for i in alkaliphiles], ph_beta.loc[alkaliphiles].values, \n",
    "          width=300, color='#0060B0', label='alkaliphile', alpha=0.5)  # blue\n",
    "ax[1].bar([ph_beta.index.get_loc(i) for i in acidophiles], ph_beta.loc[acidophiles].values, \n",
    "          width=300, color='#FFA500', label='acidophile', alpha=0.5)  # orange\n",
    "ax[1].set_title('pH ranks', fontsize=18)\n",
    "ax[1].set_ylabel(r'$\\log (\\frac{High\\; pH}{Low\\; pH}) + K$', fontsize=20, labelpad=90, rotation=0)\n",
    "plt.tight_layout()\n",
    "plt.savefig('../figures/figure4/figure4.png') "
   ]
  },
  {
   "cell_type": "code",
   "execution_count": null,
   "metadata": {},
   "outputs": [],
   "source": []
  }
 ],
 "metadata": {
  "kernelspec": {
   "display_name": "Python 3",
   "language": "python",
   "name": "python3"
  },
  "language_info": {
   "codemirror_mode": {
    "name": "ipython",
    "version": 3
   },
   "file_extension": ".py",
   "mimetype": "text/x-python",
   "name": "python",
   "nbconvert_exporter": "python",
   "pygments_lexer": "ipython3",
   "version": "3.6.5"
  }
 },
 "nbformat": 4,
 "nbformat_minor": 2
}
