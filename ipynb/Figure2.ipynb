{
 "cells": [
  {
   "cell_type": "code",
   "execution_count": 1,
   "metadata": {},
   "outputs": [],
   "source": [
    "import numpy as np\n",
    "import pandas as pd\n",
    "from scipy.stats import ttest_ind, sem\n",
    "import seaborn as sns\n",
    "import matplotlib.pyplot as plt\n",
    "from biom import load_table\n",
    "from scipy.stats import ttest_rel, wilcoxon, ttest_ind, spearmanr, pearsonr, t\n",
    "from skbio.stats.composition import multiplicative_replacement\n",
    "from ttest import paired_t_test, ttest_rel\n",
    "%matplotlib inline"
   ]
  },
  {
   "cell_type": "markdown",
   "metadata": {},
   "source": [
    "Let's create the second subfigure with the oral saliva experiment"
   ]
  },
  {
   "cell_type": "code",
   "execution_count": 2,
   "metadata": {},
   "outputs": [],
   "source": [
    "#load metadata\n",
    "metadata = pd.read_table('../data/oral_trimmed_metadata.txt', \n",
    "                         index_col=0)\n",
    "\n",
    "#load oral samples\n",
    "table = load_table('../data/oral-collapsed-table.biom').to_dataframe().T\n",
    "table = table.loc[metadata.index]\n",
    "\n",
    "# multinomial ranks\n",
    "beta = pd.read_csv('../results/oral-results/differentials.csv', index_col=0)\n",
    "\n",
    "taxonomy = pd.read_table('../data/taxonomy.tsv', index_col=0)"
   ]
  },
  {
   "cell_type": "code",
   "execution_count": 3,
   "metadata": {},
   "outputs": [],
   "source": [
    "beta = pd.merge(beta, taxonomy, left_index=True, right_index=True)"
   ]
  },
  {
   "cell_type": "code",
   "execution_count": 4,
   "metadata": {},
   "outputs": [],
   "source": [
    "from matplotlib.colors import rgb2hex\n",
    "def plot_trajectory(ax, df, name, title='', left_title='', ypad=0, logscale=False, norm1=False):\n",
    "    df = df.dropna(subset=['brushing_event'])\n",
    "    subs = df['HostSubject'].value_counts().index\n",
    "    for i, sub in enumerate(np.sort(subs)):\n",
    "        subdf = df.loc[df['HostSubject'] == sub]\n",
    "        subdf = subdf.sort_values(by='brushing_event').iloc[::-1]\n",
    "        cols = sns.color_palette(\"husl\", 10)\n",
    "        x = np.arange(2)\n",
    "        y = subdf.groupby('brushing_event').mean()[name][::-1]\n",
    "        if norm1:\n",
    "            y = y / y[0]\n",
    "        else:\n",
    "            y = y - y[0]\n",
    "\n",
    "        e = subdf.groupby('brushing_event').agg(sem)[name][::-1]\n",
    "        ax.errorbar(x, y, yerr=e, c='k', label=sub, marker='o')\n",
    "    ax.set_xticks([0, 1])            \n",
    "    ax.set_xticklabels(y.index)\n",
    "    \n",
    "    if logscale:\n",
    "        ax.set_yscale('log')\n",
    "        \n",
    "    ax.set_title(title, fontsize=14)\n",
    "    ax.set_xlabel('')\n",
    "    for x in ax.get_xticklabels():\n",
    "        x.set_fontsize(12)\n",
    "    \n",
    "    ax.set_ylabel(left_title, fontsize=14, labelpad=ypad, rotation=0)\n",
    "\n",
    "    for y in ax.get_yticklabels():\n",
    "        y.set_fontsize(12)    \n",
    "    #ax.legend()"
   ]
  },
  {
   "cell_type": "code",
   "execution_count": 5,
   "metadata": {},
   "outputs": [],
   "source": [
    "flowcount = (metadata['flow cell 5min 1'] + metadata['flow cell 5min 2']) / 2\n",
    "rmp_table = table.apply(lambda x: x * 100 / x.sum(), axis=1)\n",
    "qmp_table = pd.DataFrame(table.values * flowcount.values.reshape(-1, 1),\n",
    "                         index=table.index, columns=table.columns)\n",
    "metadata['flowcount'] = flowcount"
   ]
  },
  {
   "cell_type": "markdown",
   "metadata": {},
   "source": [
    "Look only at morning samples"
   ]
  },
  {
   "cell_type": "code",
   "execution_count": 6,
   "metadata": {},
   "outputs": [
    {
     "name": "stderr",
     "output_type": "stream",
     "text": [
      "/Users/jmorton/miniconda3/envs/qiime2-2019.1/lib/python3.6/site-packages/pandas/core/indexing.py:1472: FutureWarning: \n",
      "Passing list-likes to .loc or [] with any missing label will raise\n",
      "KeyError in the future, you can use .reindex() as an alternative.\n",
      "\n",
      "See the documentation here:\n",
      "https://pandas.pydata.org/pandas-docs/stable/indexing.html#deprecate-loc-reindex-listlike\n",
      "  return self._getitem_tuple(key)\n"
     ]
    }
   ],
   "source": [
    "trimmd = metadata.dropna(subset=['brushing_event'])\n",
    "trimmd = trimmd[['participant-timepoint', 'brushing_event', 'flow cell 5min 1', 'flow cell 5min 2', \n",
    "                 'flowcount', 'HostSubject', 'Timepoint#']]\n",
    "df = pd.melt(trimmd, id_vars = ['brushing_event', 'paricipant-timepoint', 'HostSubject', 'Timepoint#'],\n",
    "             value_vars=['flow cell 5min 1', 'flow cell 5min 2'], value_name='flowcount')\n",
    "\n",
    "df = df.loc[df['Timepoint#']<3]\n",
    "meandf = df.groupby(['HostSubject', 'brushing_event']).mean()['flowcount']\n",
    "df['norm_flowcount'] = df.apply(lambda x: x['flowcount'] / meandf.loc[(x['HostSubject'], 'before')], axis=1)"
   ]
  },
  {
   "cell_type": "code",
   "execution_count": 7,
   "metadata": {},
   "outputs": [
    {
     "data": {
      "text/plain": [
       "Text(0,0.5,'% morning microbial load')"
      ]
     },
     "execution_count": 7,
     "metadata": {},
     "output_type": "execute_result"
    },
    {
     "data": {
      "image/png": "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\n",
      "text/plain": [
       "<Figure size 144x360 with 1 Axes>"
      ]
     },
     "metadata": {
      "needs_background": "light"
     },
     "output_type": "display_data"
    }
   ],
   "source": [
    "fig, ax = plt.subplots(figsize=(2, 5))\n",
    "sns.pointplot(x='brushing_event', y='norm_flowcount', hue='HostSubject', data=df, \n",
    "              ax=ax, legend=False,\n",
    "              palette={\n",
    "                'C': 'k',    \n",
    "                'A': 'k',    \n",
    "                'I': 'k',    \n",
    "                'F': 'k',   \n",
    "                'E': 'k',   \n",
    "                'B': 'k',   \n",
    "                'H': 'k',   \n",
    "                'J': 'k',  \n",
    "                'G': 'k',\n",
    "                'D': 'k'\n",
    "              }\n",
    "             )\n",
    "ax.legend_.remove()\n",
    "\n",
    "labelsize=14\n",
    "\n",
    "ax.xaxis.set_tick_params(labelsize=labelsize)\n",
    "ax.yaxis.set_tick_params(labelsize=labelsize)\n",
    "ax.set_xlabel('')\n",
    "ax.set_ylabel('% morning microbial load', fontsize=18)"
   ]
  },
  {
   "cell_type": "code",
   "execution_count": 8,
   "metadata": {},
   "outputs": [],
   "source": [
    "actinomyces = 'k__Bacteria;p__Actinobacteria;c__Actinobacteria;o__Actinomycetales;f__Actinomycetaceae;g__Actinomyces'\n",
    "haemophilus = 'k__Bacteria;p__Proteobacteria;c__Gammaproteobacteria;o__Pasteurellales;f__Pasteurellaceae;g__Haemophilus'\n",
    "\n",
    "rmp_data = pd.DataFrame({\n",
    "    'log(Actinomyces/Haemophilus)': np.log10(rmp_table[actinomyces]) - np.log10(rmp_table[haemophilus]),\n",
    "    'Actinomyces': rmp_table[actinomyces],\n",
    "    'Haemophilus': rmp_table[haemophilus],\n",
    "    'brushing_event': metadata['brushing_event'],\n",
    "    'HostSubject': metadata['HostSubject'],\n",
    "    'Timepoint#': metadata['Timepoint#']    \n",
    "})\n",
    "\n",
    "qmp_data = pd.DataFrame({\n",
    "    'log(Actinomyces/Haemophilus)': np.log10(qmp_table[actinomyces]) - np.log10(qmp_table[haemophilus]),\n",
    "    'Actinomyces': qmp_table[actinomyces],\n",
    "    'Haemophilus': qmp_table[haemophilus],   \n",
    "    'brushing_event': metadata['brushing_event'],\n",
    "    'HostSubject': metadata['HostSubject'],\n",
    "    'Timepoint#': metadata['Timepoint#']    \n",
    "})"
   ]
  },
  {
   "cell_type": "code",
   "execution_count": 9,
   "metadata": {},
   "outputs": [
    {
     "name": "stderr",
     "output_type": "stream",
     "text": [
      "/Users/jmorton/miniconda3/envs/qiime2-2019.1/lib/python3.6/site-packages/scipy/stats/stats.py:248: RuntimeWarning: The input array could not be properly checked for nan values. nan values will be ignored.\n",
      "  \"values. nan values will be ignored.\", RuntimeWarning)\n",
      "/Users/jmorton/miniconda3/envs/qiime2-2019.1/lib/python3.6/site-packages/numpy/core/_methods.py:140: RuntimeWarning: Degrees of freedom <= 0 for slice\n",
      "  keepdims=keepdims)\n",
      "/Users/jmorton/miniconda3/envs/qiime2-2019.1/lib/python3.6/site-packages/numpy/core/_methods.py:132: RuntimeWarning: invalid value encountered in double_scalars\n",
      "  ret = ret.dtype.type(ret / rcount)\n"
     ]
    },
    {
     "data": {
      "image/png": "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\n",
      "text/plain": [
       "<Figure size 432x504 with 6 Axes>"
      ]
     },
     "metadata": {
      "needs_background": "light"
     },
     "output_type": "display_data"
    }
   ],
   "source": [
    "#fig, ax = plt.subplots()\n",
    "#plot_trajectory(ax, rmp_data, name='balance')\n",
    "\n",
    "num_taxa = 'Actinomyces'\n",
    "denom_taxa = 'Haemophilus'\n",
    "\n",
    "fig, axes = plt.subplots(3, 2, figsize=(6, 7))\n",
    "plot_trajectory(axes[0][0], rmp_data, num_taxa, title='% rel',\n",
    "                logscale=False, left_title=r\"$\\it{%s}$\" % num_taxa, ypad=50)\n",
    "plot_trajectory(axes[1][0], rmp_data, denom_taxa,\n",
    "                logscale=False, left_title=r\"$\\it{%s}$\" % denom_taxa, ypad=50)\n",
    "plot_trajectory(axes[2][0], rmp_data, 'log(' + num_taxa + '/' + denom_taxa + ')', \n",
    "                left_title=r'$\\log( \\frac{' + num_taxa + '}{' + denom_taxa + '})$', ypad=50)\n",
    "\n",
    "plot_trajectory(axes[0][1], qmp_data, num_taxa, title='# cell', logscale=False)\n",
    "plot_trajectory(axes[1][1], qmp_data, denom_taxa, logscale=False)\n",
    "plot_trajectory(axes[2][1], qmp_data, 'log(' + num_taxa + '/' + denom_taxa + ')')\n",
    "axes[0][1].set_ylim([-4.5 * 1e11, 0.5*1e11])\n",
    "axes[1][1].set_ylim([-4.5 * 1e11, 0.5*1e11])\n",
    "\n",
    "plt.tight_layout(pad=0., w_pad=1., h_pad=2.)\n",
   ]
  },
  {
   "cell_type": "markdown",
   "metadata": {},
   "source": [
    "Test if Actinomyces is changing in the relative data"
   ]
  },
  {
   "cell_type": "code",
   "execution_count": 10,
   "metadata": {},
   "outputs": [
    {
     "data": {
      "text/plain": [
       "Ttest_relResult(statistic=2.803895204876175, pvalue=0.013354350719778382, lower_CI=0.10244586774302644, upper_CI=0.7518907566196614, ddof=15)"
      ]
     },
     "execution_count": 10,
     "metadata": {},
     "output_type": "execute_result"
    }
   ],
   "source": [
    "subrmp_data = rmp_data.dropna()\n",
    "ttest_rel(np.array(subrmp_data.loc[subrmp_data['brushing_event'] == 'after', num_taxa]),\n",
    "          np.array(subrmp_data.loc[subrmp_data['brushing_event'] == 'before', num_taxa]))"
   ]
  },
  {
   "cell_type": "markdown",
   "metadata": {},
   "source": [
    "Test if Haemophilus is changing in the relative data"
   ]
  },
  {
   "cell_type": "code",
   "execution_count": 11,
   "metadata": {},
   "outputs": [
    {
     "data": {
      "text/plain": [
       "Ttest_relResult(statistic=-2.9380908243305552, pvalue=0.010176713176796718, lower_CI=-12.123878471536234, upper_CI=-1.9290941821929772, ddof=15)"
      ]
     },
     "execution_count": 11,
     "metadata": {},
     "output_type": "execute_result"
    }
   ],
   "source": [
    "subrmp_data = rmp_data.dropna()\n",
    "ttest_rel(np.array(subrmp_data.loc[subrmp_data['brushing_event'] == 'after', denom_taxa]),\n",
    "          np.array(subrmp_data.loc[subrmp_data['brushing_event'] == 'before', denom_taxa]))"
   ]
  },
  {
   "cell_type": "markdown",
   "metadata": {},
   "source": [
    "Test if Actinomyces is changing in the absolute data"
   ]
  },
  {
   "cell_type": "code",
   "execution_count": 12,
   "metadata": {},
   "outputs": [
    {
     "data": {
      "text/plain": [
       "Ttest_relResult(statistic=-1.5983977259291688, pvalue=0.13080186906581606, lower_CI=-3508156196.623602, upper_CI=501368798.2486017, ddof=15)"
      ]
     },
     "execution_count": 12,
     "metadata": {},
     "output_type": "execute_result"
    }
   ],
   "source": [
    "subqmp_data = qmp_data.dropna()\n",
    "ttest_rel(np.array(subqmp_data.loc[subqmp_data['brushing_event'] == 'after', num_taxa]),\n",
    "          np.array(subqmp_data.loc[subqmp_data['brushing_event'] == 'before', num_taxa]))"
   ]
  },
  {
   "cell_type": "markdown",
   "metadata": {},
   "source": [
    "Test if Haemophilus is changing in the absolute data"
   ]
  },
  {
   "cell_type": "code",
   "execution_count": 13,
   "metadata": {},
   "outputs": [
    {
     "data": {
      "text/plain": [
       "Ttest_relResult(statistic=-2.1344527909180515, pvalue=0.04971689557049843, lower_CI=-122162644187.31937, upper_CI=-86003936.61813354, ddof=15)"
      ]
     },
     "execution_count": 13,
     "metadata": {},
     "output_type": "execute_result"
    }
   ],
   "source": [
    "subqmp_data = qmp_data.dropna()\n",
    "ttest_rel(np.array(subqmp_data.loc[subqmp_data['brushing_event'] == 'after', denom_taxa]),\n",
    "          np.array(subqmp_data.loc[subqmp_data['brushing_event'] == 'before', denom_taxa]))"
   ]
  },
  {
   "cell_type": "markdown",
   "metadata": {},
   "source": [
    "Test if Actinomyces:Haemophilus is changing in the relative data"
   ]
  },
  {
   "cell_type": "code",
   "execution_count": 14,
   "metadata": {},
   "outputs": [
    {
     "data": {
      "text/plain": [
       "Ttest_relResult(statistic=3.529686676059165, pvalue=0.0030330362643934336, lower_CI=0.1492947397225515, upper_CI=0.6044596015257487, ddof=15)"
      ]
     },
     "execution_count": 14,
     "metadata": {},
     "output_type": "execute_result"
    }
   ],
   "source": [
    "subrmp_data = rmp_data.dropna()\n",
    "ttest_rel(\n",
    "    np.array(subrmp_data.loc[subrmp_data['brushing_event'] == 'after', \n",
    "                          'log(' + num_taxa + '/' + denom_taxa + ')']),\n",
    "    np.array(subrmp_data.loc[subrmp_data['brushing_event'] == 'before', \n",
    "                          'log(' + num_taxa + '/' + denom_taxa + ')']))"
   ]
  },
  {
   "cell_type": "markdown",
   "metadata": {},
   "source": [
    "Test if Actinomyces:Haemophilus is changing in the absolute data"
   ]
  },
  {
   "cell_type": "code",
   "execution_count": 15,
   "metadata": {},
   "outputs": [
    {
     "data": {
      "text/plain": [
       "Ttest_relResult(statistic=3.5296866760591628, pvalue=0.0030330362643934536, lower_CI=0.1492947397225513, upper_CI=0.6044596015257486, ddof=15)"
      ]
     },
     "execution_count": 15,
     "metadata": {},
     "output_type": "execute_result"
    }
   ],
   "source": [
    "subqmp_data = qmp_data.dropna()\n",
    "ttest_rel(np.array(subqmp_data.loc[subqmp_data['brushing_event'] == 'after', \n",
    "                          'log(' + num_taxa + '/' + denom_taxa + ')']),\n",
    "          np.array(subqmp_data.loc[subqmp_data['brushing_event'] == 'before', \n",
    "                          'log(' + num_taxa + '/' + denom_taxa + ')']))"
   ]
  },
  {
   "cell_type": "markdown",
   "metadata": {},
   "source": [
    "Second panel"
   ]
  },
  {
   "cell_type": "code",
   "execution_count": 16,
   "metadata": {},
   "outputs": [
    {
     "data": {
      "text/plain": [
       "before    16\n",
       "after     16\n",
       "Name: brushing_event, dtype: int64"
      ]
     },
     "execution_count": 16,
     "metadata": {},
     "output_type": "execute_result"
    }
   ],
   "source": [
    "metadata['brushing_event'].value_counts()"
   ]
  },
  {
   "cell_type": "code",
   "execution_count": 17,
   "metadata": {},
   "outputs": [],
   "source": [
    "raw_beta = pd.read_csv('../results/oral-results/differentials.csv', index_col=0)"
   ]
  },
  {
   "cell_type": "markdown",
   "metadata": {},
   "source": [
    "Here we will compute the paired t-statistics, pvalues and confidence intervals on the deblurred data."
   ]
  },
  {
   "cell_type": "code",
   "execution_count": 18,
   "metadata": {},
   "outputs": [],
   "source": [
    "raw_table = load_table('../data/oral_trimmed_deblur.biom')\n",
    "cell_table = load_table('../data/oral_trimmed_deblur.biom')\n",
    "\n",
    "raw_df = pd.DataFrame(np.array(raw_table.matrix_data.todense()).T,\n",
    "                      index=raw_table.ids(axis='sample'), \n",
    "                      columns=raw_table.ids(axis='observation'))\n",
    "raw_df = raw_df.reindex(index=metadata.index, columns=raw_beta.index)\n",
    "\n",
    "cell_df = pd.DataFrame(np.array(cell_table.matrix_data.todense()).T,\n",
    "                       index=cell_table.ids(axis='sample'), \n",
    "                       columns=cell_table.ids(axis='observation'))\n",
    "cell_df = cell_df.reindex(index=metadata.index, columns=raw_beta.index)\n",
    "cell_df = cell_df.apply(lambda x: x * flowcount.loc[x.name], axis=1)\n",
    "\n",
    "# Calculate paired test statistics\n",
    "f = lambda x: paired_t_test(category='brushing_event', md=metadata, df=x)[0]\n",
    "raw_tstats = raw_df.apply(f, axis=0)\n",
    "cell_tstats = cell_df.apply(f, axis=0)\n",
    "\n",
    "# Calculate pvalues\n",
    "f = lambda x: paired_t_test(category='brushing_event', md=metadata, df=x)[1]\n",
    "raw_pvalues = raw_df.apply(f, axis=0)\n",
    "cell_pvalues = cell_df.apply(f, axis=0)\n",
    "\n",
    "# Calculate lower confidence interval\n",
    "f = lambda x: paired_t_test(category='brushing_event', md=metadata, df=x)[2]\n",
    "raw_lower = raw_df.apply(f, axis=0)\n",
    "cell_lower = cell_df.apply(f, axis=0)\n",
    "\n",
    "# Calculate upper confidence interval\n",
    "f = lambda x: paired_t_test(category='brushing_event', md=metadata, df=x)[3]\n",
    "raw_upper = raw_df.apply(f, axis=0)\n",
    "cell_upper = cell_df.apply(f, axis=0)"
   ]
  },
  {
   "cell_type": "markdown",
   "metadata": {},
   "source": [
    "We will plot every taxa that shows\n",
    "    1. differences before and after brushing teeth\n",
    "    2. differences between relative and absolute abundance\n",
    "\n",
    "\n",
    "We will perform the same procedure as above, but this time on the ratios."
   ]
  },
  {
   "cell_type": "code",
   "execution_count": 19,
   "metadata": {},
   "outputs": [],
   "source": [
    "subrmp_table = raw_df.loc[metadata.index]\n",
    "subqmp_table = cell_df.loc[metadata.index]"
   ]
  },
  {
   "cell_type": "code",
   "execution_count": 20,
   "metadata": {},
   "outputs": [],
   "source": [
    "#kname = actinomyces strain\n",
    "kname = 'f58ef02fd3fe4f8f1c8ba13a3e205697'\n",
    "def alr(x):\n",
    "    return x / x.loc[kname]\n",
    "alr_raw = raw_df.apply(alr, axis=1)\n",
    "alr_cell = cell_df.apply(alr, axis=1)"
   ]
  },
  {
   "cell_type": "code",
   "execution_count": 21,
   "metadata": {},
   "outputs": [
    {
     "name": "stderr",
     "output_type": "stream",
     "text": [
      "/Users/jmorton/Documents/dev/reference-frames/ipynb/ttest.py:25: RuntimeWarning: invalid value encountered in double_scalars\n",
      "  T = mu / se\n"
     ]
    }
   ],
   "source": [
    "f = lambda x: paired_t_test(category='brushing_event', md=metadata, df=x)[0]\n",
    "alr_raw_tstats = alr_raw.apply(f, axis=0)\n",
    "alr_cell_tstats = alr_cell.apply(f, axis=0)\n",
    "\n",
    "f = lambda x: paired_t_test(category='brushing_event', md=metadata, df=x)[1]\n",
    "alr_raw_pvalues = alr_raw.apply(f, axis=0)\n",
    "alr_cell_pvalues = alr_cell.apply(f, axis=0)"
   ]
  },
  {
   "cell_type": "code",
   "execution_count": 22,
   "metadata": {},
   "outputs": [
    {
     "data": {
      "image/png": "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\n",
      "text/plain": [
       "<Figure size 576x576 with 4 Axes>"
      ]
     },
     "metadata": {
      "needs_background": "light"
     },
     "output_type": "display_data"
    }
   ],
   "source": [
    "labelsize = 14\n",
    "fontsize = 15\n",
    "fig, ax = plt.subplots(2, 2, figsize=(8, 8))\n",
    "\n",
    "ax[0][0].scatter(raw_tstats.loc[cell_tstats.index], cell_tstats, s=10)\n",
    "ax[0][0].plot(np.arange(-4, 6), np.arange(-4, 6), '-r')\n",
    "ax[0][0].set_xlabel('raw t-statistics', fontsize=fontsize) \n",
    "ax[0][0].set_ylabel('cell t-statistics', fontsize=fontsize, labelpad=16)\n",
    "ax[0][0].xaxis.set_tick_params(labelsize=labelsize)\n",
    "ax[0][0].yaxis.set_tick_params(labelsize=labelsize)\n",
    "\n",
    "ax[0][1].scatter(raw_pvalues.loc[cell_pvalues.index], cell_pvalues, s=10)\n",
    "ax[0][1].plot(np.linspace(0, 1), np.linspace(0, 1), '-r')\n",
    "ax[0][1].set_xlabel('raw t-test pvalue', fontsize=fontsize) \n",
    "ax[0][1].set_ylabel('cell t-test pvalue', fontsize=fontsize, labelpad=8)\n",
    "ax[0][1].xaxis.set_tick_params(labelsize=labelsize)\n",
    "ax[0][1].yaxis.set_tick_params(labelsize=labelsize)\n",
    "\n",
    "ax[1][0].scatter(alr_raw_tstats.loc[alr_cell_tstats.index], alr_cell_tstats, s=10)\n",
    "ax[1][0].plot(np.arange(-4, 6), np.arange(-4, 6), '-r')\n",
    "ax[1][0].set_xlabel('raw ratio t-statistics', fontsize=fontsize) \n",
    "ax[1][0].set_ylabel('cell ratio t-statistics', fontsize=fontsize, labelpad=16)\n",
    "ax[1][0].xaxis.set_tick_params(labelsize=labelsize)\n",
    "ax[1][0].yaxis.set_tick_params(labelsize=labelsize)\n",
    "\n",
    "ax[1][1].scatter(alr_raw_pvalues.loc[alr_cell_pvalues.index], alr_cell_pvalues, s=10)\n",
    "ax[1][1].plot(np.linspace(0, 1), np.linspace(0, 1), '-r')\n",
    "ax[1][1].set_xlabel('raw ratio t-test pvalue', fontsize=fontsize) \n",
    "ax[1][1].set_ylabel('cell ratio t-test pvalue', fontsize=fontsize, labelpad=8)\n",
    "ax[1][1].xaxis.set_tick_params(labelsize=labelsize)\n",
    "ax[1][1].yaxis.set_tick_params(labelsize=labelsize)\n",
    "\n",
    "plt.tight_layout()\n",
   ]
  },
  {
   "cell_type": "code",
   "execution_count": 23,
   "metadata": {},
   "outputs": [
    {
     "data": {
      "text/plain": [
       "SpearmanrResult(correlation=0.5671901823909988, pvalue=5.397695639738867e-18)"
      ]
     },
     "execution_count": 23,
     "metadata": {},
     "output_type": "execute_result"
    }
   ],
   "source": [
    "kf = pd.DataFrame({'raw_stats': raw_tstats.loc[cell_tstats.index], \n",
    "                   'cell_stats': cell_tstats}).dropna()\n",
    "spearmanr(kf.cell_stats, kf.raw_stats)"
   ]
  },
  {
   "cell_type": "code",
   "execution_count": 24,
   "metadata": {},
   "outputs": [
    {
     "data": {
      "text/plain": [
       "SpearmanrResult(correlation=0.010335177108862094, pvalue=0.885975202326186)"
      ]
     },
     "execution_count": 24,
     "metadata": {},
     "output_type": "execute_result"
    }
   ],
   "source": [
    "kf = pd.DataFrame({'raw_pvals': raw_pvalues.loc[cell_pvalues.index], \n",
    "                   'cell_pvals': cell_pvalues}).dropna()\n",
    "spearmanr(kf.cell_pvals, kf.raw_pvals)"
   ]
  },
  {
   "cell_type": "code",
   "execution_count": 25,
   "metadata": {},
   "outputs": [
    {
     "data": {
      "text/plain": [
       "SpearmanrResult(correlation=0.9999999999999999, pvalue=0.0)"
      ]
     },
     "execution_count": 25,
     "metadata": {},
     "output_type": "execute_result"
    }
   ],
   "source": [
    "kf = pd.DataFrame({'raw_stats': alr_raw_tstats.loc[alr_cell_tstats.index],\n",
    "                   'cell_stats': alr_cell_tstats}).dropna()\n",
    "spearmanr(kf.cell_stats, kf.raw_stats)"
   ]
  },
  {
   "cell_type": "code",
   "execution_count": 26,
   "metadata": {},
   "outputs": [
    {
     "data": {
      "text/plain": [
       "SpearmanrResult(correlation=0.9999999999999999, pvalue=0.0)"
      ]
     },
     "execution_count": 26,
     "metadata": {},
     "output_type": "execute_result"
    }
   ],
   "source": [
    "kf = pd.DataFrame({'raw_pvals': alr_raw_pvalues.loc[alr_cell_pvalues.index], \n",
    "                   'cell_pvals': alr_cell_pvalues}).dropna()\n",
    "spearmanr(kf.cell_pvals, kf.raw_pvals)"
   ]
  },
  {
   "cell_type": "code",
   "execution_count": 27,
   "metadata": {},
   "outputs": [],
   "source": [
    "#select_microbes = [actinomyces, haemophilus, prevotella, actinobacillus, porphyromonas, lautropia]\n",
    "select_microbes = [actinomyces, haemophilus]\n",
    "select_genera = list(map(lambda x: x.split(';')[-1], select_microbes))"
   ]
  },
  {
   "cell_type": "code",
   "execution_count": 28,
   "metadata": {},
   "outputs": [],
   "source": [
    "taxa = pd.DataFrame(list(beta.Taxon.apply(lambda x: x.split(';')).values),\n",
    "                    columns=['Kingdom', 'Phylum', 'Class', 'Order', 'Family', 'Genus', 'Species'],\n",
    "                    index=beta.index)"
   ]
  },
  {
   "cell_type": "code",
   "execution_count": 29,
   "metadata": {},
   "outputs": [],
   "source": [
    "taxa = taxa.fillna('None')"
   ]
  },
  {
   "cell_type": "code",
   "execution_count": 30,
   "metadata": {},
   "outputs": [
    {
     "data": {
      "text/html": [
       "<div>\n",
       "<style scoped>\n",
       "    .dataframe tbody tr th:only-of-type {\n",
       "        vertical-align: middle;\n",
       "    }\n",
       "\n",
       "    .dataframe tbody tr th {\n",
       "        vertical-align: top;\n",
       "    }\n",
       "\n",
       "    .dataframe thead th {\n",
       "        text-align: right;\n",
       "    }\n",
       "</style>\n",
       "<table border=\"1\" class=\"dataframe\">\n",
       "  <thead>\n",
       "    <tr style=\"text-align: right;\">\n",
       "      <th></th>\n",
       "      <th>Intercept</th>\n",
       "      <th>C(brushing_event)[T.before]</th>\n",
       "      <th>Taxon</th>\n",
       "      <th>Confidence</th>\n",
       "    </tr>\n",
       "  </thead>\n",
       "  <tbody>\n",
       "    <tr>\n",
       "      <th>99647b51f775c8ddde8ed36a7d60dbcd</th>\n",
       "      <td>4.353183</td>\n",
       "      <td>1.105140</td>\n",
       "      <td>k__Bacteria; p__Firmicutes; c__Bacilli; o__Lac...</td>\n",
       "      <td>0.999981</td>\n",
       "    </tr>\n",
       "    <tr>\n",
       "      <th>51121722488d0c3da1388d1b117cd239</th>\n",
       "      <td>4.564780</td>\n",
       "      <td>0.797395</td>\n",
       "      <td>k__Bacteria; p__Proteobacteria; c__Gammaproteo...</td>\n",
       "      <td>0.742617</td>\n",
       "    </tr>\n",
       "    <tr>\n",
       "      <th>d599ebe277afb0dfd4ad3c2176afc50e</th>\n",
       "      <td>3.638733</td>\n",
       "      <td>0.466282</td>\n",
       "      <td>k__Bacteria; p__Proteobacteria; c__Betaproteob...</td>\n",
       "      <td>0.796720</td>\n",
       "    </tr>\n",
       "    <tr>\n",
       "      <th>39c4199fe81f30a5b4b0fd5bf2f43c03</th>\n",
       "      <td>3.567794</td>\n",
       "      <td>-0.036673</td>\n",
       "      <td>k__Bacteria; p__Firmicutes; c__Clostridia; o__...</td>\n",
       "      <td>0.996588</td>\n",
       "    </tr>\n",
       "    <tr>\n",
       "      <th>4629fbb5dde5f8ee07c2259d2887a8d4</th>\n",
       "      <td>2.803713</td>\n",
       "      <td>0.326921</td>\n",
       "      <td>k__Bacteria; p__Bacteroidetes; c__Bacteroidia;...</td>\n",
       "      <td>0.980117</td>\n",
       "    </tr>\n",
       "  </tbody>\n",
       "</table>\n",
       "</div>"
      ],
      "text/plain": [
       "                                  Intercept  C(brushing_event)[T.before]  \\\n",
       "99647b51f775c8ddde8ed36a7d60dbcd   4.353183                     1.105140   \n",
       "51121722488d0c3da1388d1b117cd239   4.564780                     0.797395   \n",
       "d599ebe277afb0dfd4ad3c2176afc50e   3.638733                     0.466282   \n",
       "39c4199fe81f30a5b4b0fd5bf2f43c03   3.567794                    -0.036673   \n",
       "4629fbb5dde5f8ee07c2259d2887a8d4   2.803713                     0.326921   \n",
       "\n",
       "                                                                              Taxon  \\\n",
       "99647b51f775c8ddde8ed36a7d60dbcd  k__Bacteria; p__Firmicutes; c__Bacilli; o__Lac...   \n",
       "51121722488d0c3da1388d1b117cd239  k__Bacteria; p__Proteobacteria; c__Gammaproteo...   \n",
       "d599ebe277afb0dfd4ad3c2176afc50e  k__Bacteria; p__Proteobacteria; c__Betaproteob...   \n",
       "39c4199fe81f30a5b4b0fd5bf2f43c03  k__Bacteria; p__Firmicutes; c__Clostridia; o__...   \n",
       "4629fbb5dde5f8ee07c2259d2887a8d4  k__Bacteria; p__Bacteroidetes; c__Bacteroidia;...   \n",
       "\n",
       "                                  Confidence  \n",
       "99647b51f775c8ddde8ed36a7d60dbcd    0.999981  \n",
       "51121722488d0c3da1388d1b117cd239    0.742617  \n",
       "d599ebe277afb0dfd4ad3c2176afc50e    0.796720  \n",
       "39c4199fe81f30a5b4b0fd5bf2f43c03    0.996588  \n",
       "4629fbb5dde5f8ee07c2259d2887a8d4    0.980117  "
      ]
     },
     "execution_count": 30,
     "metadata": {},
     "output_type": "execute_result"
    }
   ],
   "source": [
    "beta.head()"
   ]
  },
  {
   "cell_type": "code",
   "execution_count": 31,
   "metadata": {},
   "outputs": [],
   "source": [
    "stats = pd.DataFrame(\n",
    "    {\n",
    "        'raw_tstats': cell_tstats,\n",
    "        'cell_tstats': cell_tstats,\n",
    "        'raw_pvalues': raw_pvalues,\n",
    "        'cell_pvalues': cell_pvalues,\n",
    "        'multinomial_ranks': beta[\"C(brushing_event)[T.before]\"],\n",
    "        'taxonomy': taxonomy.Taxon\n",
    "    }\n",
    ") \n",
    "stats = stats.reindex(\n",
    "    columns=['raw_tstats', 'cell_tstats', 'raw_pvalues', \n",
    "             'cell_pvalues', 'multinomial_ranks', 'taxonomy'])\n",
    "stats.to_csv('../figures/Table_S1.csv') "
   ]
  },
  {
   "cell_type": "code",
   "execution_count": 32,
   "metadata": {},
   "outputs": [
    {
     "data": {
      "image/png": "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\n",
      "text/plain": [
       "<Figure size 504x288 with 1 Axes>"
      ]
     },
     "metadata": {
      "needs_background": "light"
     },
     "output_type": "display_data"
    }
   ],
   "source": [
    "# plot all of the ranks\n",
    "coefs = beta[\"C(brushing_event)[T.before]\"].sort_values()\n",
    "taxa = taxa.reindex(index=coefs.index)\n",
    "genera = taxa.Genus.values\n",
    "genera = np.array(list(map(lambda x: x.lstrip(), genera)))\n",
    "\n",
    "x = np.arange(coefs.shape[0])\n",
    "fig = plt.figure(figsize=(7, 4))\n",
    "plt.bar(x, coefs, 1, label='', alpha=0.2, edgecolor='#D0D0D0', lw=0.1, color='#D0D0D0') #gray\n",
    "plt.xlabel('species')\n",
    "plt.xticks([])\n",
    "plt.ylabel(r'$\\log (\\frac{Before \\; brushing}{After \\; brushing}) + K$', fontsize=20, labelpad=90, rotation=0)\n",
    "\n",
    "genus_colors = dict(zip(select_genera, sns.color_palette(\"colorblind\", len(select_genera))))\n",
    "\n",
    "for genus in select_genera:\n",
    "    \n",
    "    filtered_beta = pd.Series(index=coefs.index).fillna(0)\n",
    "    select_genus = genera == genus\n",
    "    filtered_beta[select_genus] = coefs[select_genus]\n",
    "\n",
    "    plt.bar(x, filtered_beta.values, 1, label=\"$\\it{%s}$\" % genus[3:], \n",
    "            alpha=0.7, edgecolor=genus_colors[genus], \n",
    "            facecolor=genus_colors[genus], lw=1)\n",
    "    \n",
    "plt.xlabel('')    \n",
    "plt.tick_params(axis='both', which='major', labelsize=14)\n",
    "plt.plot(x, np.array([0]*len(x)), c='k', lw=1)\n",
    "\n",
    "plt.legend(fontsize=14)\n",
    "plt.tight_layout()\n",
   ]
  },
  {
   "cell_type": "markdown",
   "metadata": {},
   "source": [
    "Let's run a test on the flow cytometry data, just to make sure that the total microbial load decreased."
   ]
  },
  {
   "cell_type": "code",
   "execution_count": 33,
   "metadata": {},
   "outputs": [
    {
     "data": {
      "text/plain": [
       "Ttest_relResult(statistic=2.1452882064283707, pvalue=0.04870774446816778, lower_CI=86728.04313804768, upper_CI=26802672.58186195, ddof=15)"
      ]
     },
     "execution_count": 33,
     "metadata": {},
     "output_type": "execute_result"
    }
   ],
   "source": [
    "metadata['flowcount'] = flowcount\n",
    "submetadata = metadata[['brushing_event', 'flowcount']].dropna()\n",
    "b = submetadata['brushing_event'] == 'before'\n",
    "a = submetadata['brushing_event'] == 'after'\n",
    "ttest_rel(submetadata.loc[b, 'flowcount'].values,\n",
    "          submetadata.loc[a, 'flowcount'].values)"
   ]
  },
  {
   "cell_type": "markdown",
   "metadata": {},
   "source": [
    "We'll save the statistical tests for the raw vs cell normalized in a separate file"
   ]
  },
  {
   "cell_type": "code",
   "execution_count": 34,
   "metadata": {},
   "outputs": [],
   "source": [
    "pvals = pd.DataFrame(\n",
    "    {\n",
    "        'raw_lower_CI': raw_lower.loc[cell_lower.index], \n",
    "        'cell_lower_CI': cell_lower,\n",
    "        'raw_upper_CI': raw_upper.loc[cell_upper.index], \n",
    "        'cell_upper_CI': cell_upper,        \n",
    "        'raw_pvals': raw_pvalues.loc[cell_pvalues.index], \n",
    "        'cell_pvals': cell_pvalues,\n",
    "        'raw_tstats': raw_tstats.loc[cell_tstats.index], \n",
    "        'cell_tstats': cell_tstats,        \n",
    "        'ranks': raw_beta['C(brushing_event)[T.before]']\n",
    "    },\n",
    "    index=cell_pvalues.index\n",
    ")\n",
    "pvals = pd.merge(pvals, taxonomy, left_index=True, right_index=True)\n",
    "pvals.sort_values(by='cell_pvals').to_csv('../figures/Table_S2.csv')"
   ]
  },
  {
   "cell_type": "markdown",
   "metadata": {},
   "source": [
    "ANCOM2 and ALDEx2 comparison"
   ]
  },
  {
   "cell_type": "code",
   "execution_count": 35,
   "metadata": {},
   "outputs": [],
   "source": [
    "# load up results from ANCOM and ALDEx2\n",
    "aldex2_res = pd.read_table('../results/oral-results/aldex2_results.txt', \n",
    "                           sep=' ', index_col=0)\n",
    "aldex2_res = aldex2_res.set_index('sfit.category') \n",
    "\n",
    "ancom_res = pd.read_csv('../results/oral-results/ancom_results_mixed.csv', index_col=0)\n",
    "ancom_res['W_stat'] = ancom_res['W_stat'].fillna(0)\n",
    "ancom_res['detected_0.9'] = ancom_res['detected_0.9'].fillna(False)\n",
    "ancom_res['detected_0.8'] = ancom_res['detected_0.8'].fillna(False)\n",
    "ancom_res['detected_0.7'] = ancom_res['detected_0.7'].fillna(False)\n",
    "ancom_res['detected_0.6'] = ancom_res['detected_0.6'].fillna(False)\n",
    "\n",
    "# correct the indexes in aldex2\n",
    "def rename_f(x):\n",
    "    if x[0] == 'X':\n",
    "        return x[1:]\n",
    "    else:\n",
    "        return x\n",
    "aldex2_res.index = list(map(lambda x: rename_f(x), aldex2_res.index))\n",
    "ancom_res.index = list(map(lambda x: rename_f(x), ancom_res.index))"
   ]
  },
  {
   "cell_type": "code",
   "execution_count": 36,
   "metadata": {},
   "outputs": [],
   "source": [
    "# sort the differentials obtained from songbird, and sort ALDEx2 and ANCOM relative to that.\n",
    "songbird_res = beta.sort_values(by='C(brushing_event)[T.before]')\n",
    "ancom_res = ancom_res.reindex(index=songbird_res.index)\n",
    "aldex2_res = aldex2_res.reindex(index=songbird_res.index)"
   ]
  },
  {
   "cell_type": "code",
   "execution_count": 37,
   "metadata": {},
   "outputs": [
    {
     "data": {
      "image/png": "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\n",
      "text/plain": [
       "<Figure size 720x288 with 3 Axes>"
      ]
     },
     "metadata": {
      "needs_background": "light"
     },
     "output_type": "display_data"
    }
   ],
   "source": [
    "fontsize = 16\n",
    "\n",
    "coefs = songbird_res.sort_values('C(brushing_event)[T.before]')['C(brushing_event)[T.before]']\n",
    "idx = coefs.index\n",
    "\n",
    "x = np.arange(idx.shape[0])\n",
    "fig, ax = plt.subplots(1, 3, figsize=(10, 4))\n",
    "\n",
    "x = np.arange(idx.shape[0])\n",
    "ax[0].barh(x, coefs, 1, label='', edgecolor='#D0D0D0', lw=0.1, color='#D0D0D0') #gray\n",
    "ax[0].set_ylabel('species', fontsize=fontsize)\n",
    "ax[0].set_yticks([])\n",
    "ax[0].set_xlabel('Coefficients', fontsize=fontsize)\n",
    "ax[0].set_title('Multinomial', fontsize=fontsize)\n",
    "ax[0].xaxis.set_tick_params(labelsize=fontsize)\n",
    "\n",
    "aldex2_res = aldex2_res.reindex(index=idx)\n",
    "coefs = aldex2_res['sfit.effect']\n",
    "aldex2_sig = aldex2_res['sfit.padj'] < 0.05\n",
    "ax[1].barh(x, coefs, 1, label='', edgecolor='#D0D0D0', lw=0.1, color='#D0D0D0') #gray\n",
    "j = coefs.index[aldex2_sig]\n",
    "k = [coefs.index.get_loc(u) for u in j]\n",
    "aldex2_sig = aldex2_sig.index[aldex2_sig]\n",
    "ax[1].barh(k, coefs.loc[j], 1, \n",
    "           label='reject null \\nhypothesis', edgecolor='#ff0000', lw=1, color='r') #red\n",
    "ax[1].set_yticks([])\n",
    "ax[1].set_xlabel('Effect Size', fontsize=fontsize)\n",
    "ax[1].set_title('ALDEx2', fontsize=fontsize)\n",
    "ax[1].xaxis.set_tick_params(labelsize=fontsize)\n",
    "\n",
    "ancom_sig = ancom_res['detected_0.6']\n",
    "coefs = ancom_res['W_stat']\n",
    "ax[2].barh(x, coefs, 1, label='', edgecolor='#D0D0D0', lw=0.1, color='#D0D0D0') #gray\n",
    "ax[2].set_yticks([])\n",
    "ax[2].set_xlabel('W-statistic', fontsize=fontsize)\n",
    "ax[2].set_title('ANCOM', fontsize=fontsize)\n",
    "j = coefs.index[ancom_sig]\n",
    "k = [coefs.index.get_loc(u) for u in j]\n",
    "ancom_sig = ancom_sig.index[ancom_sig]\n",
    "ax[2].barh(k, coefs.loc[j], 1, \n",
    "           label='reject null \\nhypothesis', edgecolor='#ff0000', lw=1, color='r') #red\n",
    "\n",
    "ax[2].xaxis.set_tick_params(labelsize=fontsize)\n",
    "\n",
    "ax[2].legend(fontsize=12)\n",
    "plt.tight_layout()\n",
   ]
  },
  {
   "cell_type": "code",
   "execution_count": 38,
   "metadata": {},
   "outputs": [],
   "source": [
    "# pull out ancom most negative hit\n",
    "veillonella = ancom_res.loc[ancom_res['detected_0.6']].index[0]"
   ]
  },
  {
   "cell_type": "code",
   "execution_count": 39,
   "metadata": {},
   "outputs": [
    {
     "data": {
      "text/plain": [
       "raw_lower_CI                                               6.27869\n",
       "cell_lower_CI                                         -3.43352e+08\n",
       "raw_upper_CI                                               77.4713\n",
       "cell_upper_CI                                          9.96183e+08\n",
       "raw_pvals                                                  0.02415\n",
       "cell_pvals                                                0.315365\n",
       "raw_tstats                                                 2.50741\n",
       "cell_tstats                                                1.03878\n",
       "ranks                                                      -1.7057\n",
       "Taxon            k__Bacteria; p__Firmicutes; c__Clostridia; o__...\n",
       "Confidence                                                 0.93212\n",
       "Name: 2be90cc9bd2811af7cca6bc28463b176, dtype: object"
      ]
     },
     "execution_count": 39,
     "metadata": {},
     "output_type": "execute_result"
    }
   ],
   "source": [
    "pvals.loc['2be90cc9bd2811af7cca6bc28463b176']"
   ]
  },
  {
   "cell_type": "code",
   "execution_count": 40,
   "metadata": {},
   "outputs": [
    {
     "data": {
      "text/plain": [
       "1d5f93c84cfa223f791274199b29f802    False\n",
       "2be90cc9bd2811af7cca6bc28463b176     True\n",
       "58490aa96b5c09f7ded101294bdf0ace    False\n",
       "c27159ac6766f2bb04bc26f8113bd6fb    False\n",
       "3ac3f4c7c45515628515b0eacf5170d5    False\n",
       "cbe6d32ca7a479a71c4fd50e0b9d980b    False\n",
       "aaf1f1232737d9346ee18017a76d7027    False\n",
       "232a39e761759d6bdb138c7cfb2f4d28    False\n",
       "15f92246da9d186be06e176a3eb7a8d2    False\n",
       "6bad5f0f2484248490b4c83c6c96e2c1    False\n",
       "b55ffa853e1d1336654fc78d36220572    False\n",
       "372ee5fa8367d5632ed3b8ba0c8becfc     True\n",
       "667f039061ef0749c8174da1384ff1a1    False\n",
       "13f5aba07d66b4d4f6a20ccd480a3836    False\n",
       "c476a045b42b30e13d8a25f4b2e5a226    False\n",
       "14ca6a8129ff8d410ec8b813f368c9f3    False\n",
       "afb20cec1c4694dde356d9c6f4cf560f    False\n",
       "8fc57b0a056523b5c4a2c9ffc1188a97    False\n",
       "317faf40ab70262d43978ca7d1f1509c    False\n",
       "27855451d704f0e78a81e5f951cf28b1    False\n",
       "35170b61f6f84e19df0b63e6f9868ca2    False\n",
       "47866fc93c1bb26e7cd16cf31509866d    False\n",
       "b65c79c74a2594bc47a32b9e245d42df    False\n",
       "76355427db027e5ec9f4404f906613a1    False\n",
       "0440f62914d9cbd3fab890f7aeaf4ea9    False\n",
       "900a2b113b17a2705180ed5e1558ada4     True\n",
       "e284982a9e101cacbe436bda97144ad8    False\n",
       "e122b3acedfe1a819e2e7983bdadf10b     True\n",
       "634e4c7b48dcbd5f4ffe22ecf885f34f    False\n",
       "aa4d4cee134211ec1651b7945446ad0f    False\n",
       "                                    ...  \n",
       "595c971ecf2347150ac8b1138a2e5fa2    False\n",
       "4575f71a6cf9471ed8e03d4d8886cb99    False\n",
       "9f39efe5f61d28f840e96bc3a4ceb9e1    False\n",
       "51121722488d0c3da1388d1b117cd239    False\n",
       "2012b082f259104f405209c1452ecfd7    False\n",
       "db6086608389f922cfd2e33a3a6826f5    False\n",
       "a978026c6c33bccb8dd70bd2ddbf48bf    False\n",
       "e779982764485bbb824e1c21ac47ed24    False\n",
       "15869fbb559d7a31992e2034442b5099    False\n",
       "3192ed8ef0fbbeb4b598cd5c5afcc823     True\n",
       "0922291cbf4e17dbb0e67557922c41f2    False\n",
       "fcf4ac09d4df4a42eeb13898cfe62bb9    False\n",
       "99647b51f775c8ddde8ed36a7d60dbcd     True\n",
       "0afabc98ba5f06d77586c65dd984e126     True\n",
       "d21053daf32f3e2c9be9c6768d6ade32     True\n",
       "6c5cd01c871990dbcebd27ff48a19198    False\n",
       "546f2c0a74a88e6f1f37a2366edb0060     True\n",
       "2500529b5a1bf49aba503fe02f9a254e    False\n",
       "a4da927fd5b1aeaa27f52f37da9dfc4e    False\n",
       "4ff24fc8bbb1263940427ba778d2367b    False\n",
       "6e6ba3f1d999799f0ba2687bbb293ab2    False\n",
       "a9b4a380d3b76755de55410a3b856df4     True\n",
       "f0544431f8310f1cd80df21ea2580dc4    False\n",
       "9eec995d1b7de24deb146bf87c62e8ef    False\n",
       "f6eb8537456dde7792eff60c8d1e797c     True\n",
       "a8e9d01833a199c3ba4ecd41b7f04afa    False\n",
       "d3c43385eff1d6d5e44ac2894f1af886    False\n",
       "1275c8657f3502d2f3d7b0d9ec7e1c78     True\n",
       "c84509b5d38955838482e9d6a4770bfe     True\n",
       "d3665d676c8fd9363c69c743207dd58e     True\n",
       "Name: detected_0.6, Length: 195, dtype: bool"
      ]
     },
     "execution_count": 40,
     "metadata": {},
     "output_type": "execute_result"
    }
   ],
   "source": [
    "ancom_res['detected_0.6']"
   ]
  },
  {
   "cell_type": "code",
   "execution_count": null,
   "metadata": {},
   "outputs": [],
   "source": []
  }
 ],
 "metadata": {
  "kernelspec": {
   "display_name": "Python 3",
   "language": "python",
   "name": "python3"
  },
  "language_info": {
   "codemirror_mode": {
    "name": "ipython",
    "version": 3
   },
   "file_extension": ".py",
   "mimetype": "text/x-python",
   "name": "python",
   "nbconvert_exporter": "python",
   "pygments_lexer": "ipython3",
   "version": "3.6.5"
  }
 },
 "nbformat": 4,
 "nbformat_minor": 2
}
