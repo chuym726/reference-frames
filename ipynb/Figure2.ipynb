{
 "cells": [
  {
   "cell_type": "code",
   "execution_count": 1,
   "metadata": {},
   "outputs": [],
   "source": [
    "import numpy as np\n",
    "import pandas as pd\n",
    "from scipy.stats import ttest_ind, sem\n",
    "import seaborn as sns\n",
    "import matplotlib.pyplot as plt\n",
    "from biom import load_table\n",
    "from scipy.stats import ttest_rel, wilcoxon, ttest_ind, spearmanr, pearsonr, t\n",
    "from skbio.stats.composition import multiplicative_replacement\n",
    "from ttest import paired_t_test, ttest_rel\n",
    "%matplotlib inline"
   ]
  },
  {
   "cell_type": "markdown",
   "metadata": {},
   "source": [
    "Let's create the second subfigure with the oral saliva experiment"
   ]
  },
  {
   "cell_type": "code",
   "execution_count": 2,
   "metadata": {},
   "outputs": [],
   "source": [
    "#load metadata\n",
    "metadata = pd.read_table('../data/oral_trimmed_metadata.txt', \n",
    "                         index_col=0)\n",
    "\n",
    "#load oral samples\n",
    "table = load_table('../data/oral-collapsed-table.biom').to_dataframe().T\n",
    "table = table.loc[metadata.index]\n",
    "\n",
    "# multinomial ranks\n",
    "beta = pd.read_csv('../results/oral-results/differentials.csv', index_col=0)\n",
    "\n",
    "taxonomy = pd.read_table('../data/taxonomy.tsv', index_col=0)"
   ]
  },
  {
   "cell_type": "code",
   "execution_count": 3,
   "metadata": {},
   "outputs": [],
   "source": [
    "beta = pd.merge(beta, taxonomy, left_index=True, right_index=True)"
   ]
  },
  {
   "cell_type": "code",
   "execution_count": 4,
   "metadata": {},
   "outputs": [],
   "source": [
    "from matplotlib.colors import rgb2hex\n",
    "def plot_trajectory(ax, df, name, title='', left_title='', ypad=0, logscale=False, norm1=False):\n",
    "    df = df.dropna(subset=['brushing_event'])\n",
    "    subs = df['HostSubject'].value_counts().index\n",
    "    for i, sub in enumerate(np.sort(subs)):\n",
    "        subdf = df.loc[df['HostSubject'] == sub]\n",
    "        subdf = subdf.sort_values(by='brushing_event').iloc[::-1]\n",
    "        cols = sns.color_palette(\"husl\", 10)\n",
    "        x = np.arange(2)\n",
    "        y = subdf.groupby('brushing_event').mean()[name][::-1]\n",
    "        if norm1:\n",
    "            y = y / y[0]\n",
    "        else:\n",
    "            y = y - y[0]\n",
    "\n",
    "        e = subdf.groupby('brushing_event').agg(sem)[name][::-1]\n",
    "        ax.errorbar(x, y, yerr=e, c='k', label=sub, marker='o')\n",
    "    ax.set_xticks([0, 1])            \n",
    "    ax.set_xticklabels(y.index)\n",
    "    \n",
    "    if logscale:\n",
    "        ax.set_yscale('log')\n",
    "        \n",
    "    ax.set_title(title, fontsize=14)\n",
    "    ax.set_xlabel('')\n",
    "    for x in ax.get_xticklabels():\n",
    "        x.set_fontsize(12)\n",
    "    \n",
    "    ax.set_ylabel(left_title, fontsize=14, labelpad=ypad, rotation=0)\n",
    "\n",
    "    for y in ax.get_yticklabels():\n",
    "        y.set_fontsize(12)    \n",
    "    #ax.legend()"
   ]
  },
  {
   "cell_type": "code",
   "execution_count": 5,
   "metadata": {},
   "outputs": [],
   "source": [
    "flowcount = (metadata['flow cell 5min 1'] + metadata['flow cell 5min 2']) / 2\n",
    "rmp_table = table.apply(lambda x: x * 100 / x.sum(), axis=1)\n",
    "qmp_table = pd.DataFrame(table.values * flowcount.values.reshape(-1, 1),\n",
    "                         index=table.index, columns=table.columns)\n",
    "metadata['flowcount'] = flowcount"
   ]
  },
  {
   "cell_type": "markdown",
   "metadata": {},
   "source": [
    "Look only at morning samples"
   ]
  },
  {
   "cell_type": "code",
   "execution_count": 6,
   "metadata": {},
   "outputs": [
    {
     "name": "stderr",
     "output_type": "stream",
     "text": [
      "/Users/jmorton/miniconda3/envs/qiime2-2019.1/lib/python3.6/site-packages/pandas/core/indexing.py:1472: FutureWarning: \n",
      "Passing list-likes to .loc or [] with any missing label will raise\n",
      "KeyError in the future, you can use .reindex() as an alternative.\n",
      "\n",
      "See the documentation here:\n",
      "https://pandas.pydata.org/pandas-docs/stable/indexing.html#deprecate-loc-reindex-listlike\n",
      "  return self._getitem_tuple(key)\n"
     ]
    }
   ],
   "source": [
    "trimmd = metadata.dropna(subset=['brushing_event'])\n",
    "trimmd = trimmd[['participant-timepoint', 'brushing_event', 'flow cell 5min 1', 'flow cell 5min 2', \n",
    "                 'flowcount', 'HostSubject', 'Timepoint#']]\n",
    "df = pd.melt(trimmd, id_vars = ['brushing_event', 'paricipant-timepoint', 'HostSubject', 'Timepoint#'],\n",
    "             value_vars=['flow cell 5min 1', 'flow cell 5min 2'], value_name='flowcount')\n",
    "\n",
    "df = df.loc[df['Timepoint#']<3]\n",
    "meandf = df.groupby(['HostSubject', 'brushing_event']).mean()['flowcount']\n",
    "df['norm_flowcount'] = df.apply(lambda x: x['flowcount'] / meandf.loc[(x['HostSubject'], 'before')], axis=1)"
   ]
  },
  {
   "cell_type": "code",
   "execution_count": 7,
   "metadata": {},
   "outputs": [
    {
     "data": {
      "text/plain": [
       "Text(0,0.5,'% morning microbial load')"
      ]
     },
     "execution_count": 7,
     "metadata": {},
     "output_type": "execute_result"
    },
    {
     "data": {
      "image/png": "[encoded data removed]",
      "text/plain": [
       "<Figure size 144x360 with 1 Axes>"
      ]
     },
     "metadata": {
      "needs_background": "light"
     },
     "output_type": "display_data"
    }
   ],
   "source": [
    "fig, ax = plt.subplots(figsize=(2, 5))\n",
    "sns.pointplot(x='brushing_event', y='norm_flowcount', hue='HostSubject', data=df, \n",
    "              ax=ax, legend=False,\n",
    "              palette={\n",
    "                'C': 'k',    \n",
    "                'A': 'k',    \n",
    "                'I': 'k',    \n",
    "                'F': 'k',   \n",
    "                'E': 'k',   \n",
    "                'B': 'k',   \n",
    "                'H': 'k',   \n",
    "                'J': 'k',  \n",
    "                'G': 'k',\n",
    "                'D': 'k'\n",
    "              }\n",
    "             )\n",
    "ax.legend_.remove()\n",
    "\n",
    "labelsize=14\n",
    "\n",
    "ax.xaxis.set_tick_params(labelsize=labelsize)\n",
    "ax.yaxis.set_tick_params(labelsize=labelsize)\n",
    "ax.set_xlabel('')\n",
    "ax.set_ylabel('% morning microbial load', fontsize=18)"
   ]
  },
  {
   "cell_type": "code",
   "execution_count": 8,
   "metadata": {},
   "outputs": [],
   "source": [
    "actinomyces = 'k__Bacteria;p__Actinobacteria;c__Actinobacteria;o__Actinomycetales;f__Actinomycetaceae;g__Actinomyces'\n",
    "haemophilus = 'k__Bacteria;p__Proteobacteria;c__Gammaproteobacteria;o__Pasteurellales;f__Pasteurellaceae;g__Haemophilus'\n",
    "\n",
    "rmp_data = pd.DataFrame({\n",
    "    'log(Actinomyces/Haemophilus)': np.log10(rmp_table[actinomyces]) - np.log10(rmp_table[haemophilus]),\n",
    "    'Actinomyces': rmp_table[actinomyces],\n",
    "    'Haemophilus': rmp_table[haemophilus],\n",
    "    'brushing_event': metadata['brushing_event'],\n",
    "    'HostSubject': metadata['HostSubject'],\n",
    "    'Timepoint#': metadata['Timepoint#']    \n",
    "})\n",
    "\n",
    "qmp_data = pd.DataFrame({\n",
    "    'log(Actinomyces/Haemophilus)': np.log10(qmp_table[actinomyces]) - np.log10(qmp_table[haemophilus]),\n",
    "    'Actinomyces': qmp_table[actinomyces],\n",
    "    'Haemophilus': qmp_table[haemophilus],   \n",
    "    'brushing_event': metadata['brushing_event'],\n",
    "    'HostSubject': metadata['HostSubject'],\n",
    "    'Timepoint#': metadata['Timepoint#']    \n",
    "})"
   ]
  },
  {
   "cell_type": "code",
   "execution_count": 9,
   "metadata": {},
   "outputs": [
    {
     "name": "stderr",
     "output_type": "stream",
     "text": [
      "/Users/jmorton/miniconda3/envs/qiime2-2019.1/lib/python3.6/site-packages/scipy/stats/stats.py:248: RuntimeWarning: The input array could not be properly checked for nan values. nan values will be ignored.\n",
      "  \"values. nan values will be ignored.\", RuntimeWarning)\n",
      "/Users/jmorton/miniconda3/envs/qiime2-2019.1/lib/python3.6/site-packages/numpy/core/_methods.py:140: RuntimeWarning: Degrees of freedom <= 0 for slice\n",
      "  keepdims=keepdims)\n",
      "/Users/jmorton/miniconda3/envs/qiime2-2019.1/lib/python3.6/site-packages/numpy/core/_methods.py:132: RuntimeWarning: invalid value encountered in double_scalars\n",
      "  ret = ret.dtype.type(ret / rcount)\n"
     ]
    },
    {
     "data": {
      "image/png": "[encoded data removed]",
      "text/plain": [
       "<Figure size 432x504 with 6 Axes>"
      ]
     },
     "metadata": {
      "needs_background": "light"
     },
     "output_type": "display_data"
    }
   ],
   "source": [
    "#fig, ax = plt.subplots()\n",
    "#plot_trajectory(ax, rmp_data, name='balance')\n",
    "\n",
    "num_taxa = 'Actinomyces'\n",
    "denom_taxa = 'Haemophilus'\n",
    "\n",
    "fig, axes = plt.subplots(3, 2, figsize=(6, 7))\n",
    "plot_trajectory(axes[0][0], rmp_data, num_taxa, title='% rel',\n",
    "                logscale=False, left_title=r\"$\\it{%s}$\" % num_taxa, ypad=50)\n",
    "plot_trajectory(axes[1][0], rmp_data, denom_taxa,\n",
    "                logscale=False, left_title=r\"$\\it{%s}$\" % denom_taxa, ypad=50)\n",
    "plot_trajectory(axes[2][0], rmp_data, 'log(' + num_taxa + '/' + denom_taxa + ')', \n",
    "                left_title=r'$\\log( \\frac{' + num_taxa + '}{' + denom_taxa + '})$', ypad=50)\n",
    "\n",
    "plot_trajectory(axes[0][1], qmp_data, num_taxa, title='# cell', logscale=False)\n",
    "plot_trajectory(axes[1][1], qmp_data, denom_taxa, logscale=False)\n",
    "plot_trajectory(axes[2][1], qmp_data, 'log(' + num_taxa + '/' + denom_taxa + ')')\n",
    "axes[0][1].set_ylim([-4.5 * 1e11, 0.5*1e11])\n",
    "axes[1][1].set_ylim([-4.5 * 1e11, 0.5*1e11])\n",
    "\n",
    "plt.tight_layout(pad=0., w_pad=1., h_pad=2.)\n",
    "plt.savefig('../figures/figure2/%s-%s.png' % (num_taxa, denom_taxa))"
   ]
  },
  {
   "cell_type": "markdown",
   "metadata": {},
   "source": [
    "Test if Actinomyces is changing in the relative data"
   ]
  },
  {
   "cell_type": "code",
   "execution_count": 10,
   "metadata": {},
   "outputs": [
    {
     "data": {
      "text/plain": [
       "Ttest_relResult(statistic=2.803895204876175, pvalue=0.013354350719778382, lower_CI=0.10244586774302644, upper_CI=0.7518907566196614, ddof=15)"
      ]
     },
     "execution_count": 10,
     "metadata": {},
     "output_type": "execute_result"
    }
   ],
   "source": [
    "subrmp_data = rmp_data.dropna()\n",
    "ttest_rel(np.array(subrmp_data.loc[subrmp_data['brushing_event'] == 'after', num_taxa]),\n",
    "          np.array(subrmp_data.loc[subrmp_data['brushing_event'] == 'before', num_taxa]))"
   ]
  },
  {
   "cell_type": "markdown",
   "metadata": {},
   "source": [
    "Test if Haemophilus is changing in the relative data"
   ]
  },
  {
   "cell_type": "code",
   "execution_count": 11,
   "metadata": {},
   "outputs": [
    {
     "data": {
      "text/plain": [
       "Ttest_relResult(statistic=-2.9380908243305552, pvalue=0.010176713176796718, lower_CI=-12.123878471536234, upper_CI=-1.9290941821929772, ddof=15)"
      ]
     },
     "execution_count": 11,
     "metadata": {},
     "output_type": "execute_result"
    }
   ],
   "source": [
    "subrmp_data = rmp_data.dropna()\n",
    "ttest_rel(np.array(subrmp_data.loc[subrmp_data['brushing_event'] == 'after', denom_taxa]),\n",
    "          np.array(subrmp_data.loc[subrmp_data['brushing_event'] == 'before', denom_taxa]))"
   ]
  },
  {
   "cell_type": "markdown",
   "metadata": {},
   "source": [
    "Test if Actinomyces is changing in the absolute data"
   ]
  },
  {
   "cell_type": "code",
   "execution_count": 12,
   "metadata": {},
   "outputs": [
    {
     "data": {
      "text/plain": [
       "Ttest_relResult(statistic=-1.5983977259291688, pvalue=0.13080186906581606, lower_CI=-3508156196.623602, upper_CI=501368798.2486017, ddof=15)"
      ]
     },
     "execution_count": 12,
     "metadata": {},
     "output_type": "execute_result"
    }
   ],
   "source": [
    "subqmp_data = qmp_data.dropna()\n",
    "ttest_rel(np.array(subqmp_data.loc[subqmp_data['brushing_event'] == 'after', num_taxa]),\n",
    "          np.array(subqmp_data.loc[subqmp_data['brushing_event'] == 'before', num_taxa]))"
   ]
  },
  {
   "cell_type": "markdown",
   "metadata": {},
   "source": [
    "Test if Haemophilus is changing in the absolute data"
   ]
  },
  {
   "cell_type": "code",
   "execution_count": 13,
   "metadata": {},
   "outputs": [
    {
     "data": {
      "text/plain": [
       "Ttest_relResult(statistic=-2.1344527909180515, pvalue=0.04971689557049843, lower_CI=-122162644187.31937, upper_CI=-86003936.61813354, ddof=15)"
      ]
     },
     "execution_count": 13,
     "metadata": {},
     "output_type": "execute_result"
    }
   ],
   "source": [
    "subqmp_data = qmp_data.dropna()\n",
    "ttest_rel(np.array(subqmp_data.loc[subqmp_data['brushing_event'] == 'after', denom_taxa]),\n",
    "          np.array(subqmp_data.loc[subqmp_data['brushing_event'] == 'before', denom_taxa]))"
   ]
  },
  {
   "cell_type": "markdown",
   "metadata": {},
   "source": [
    "Test if Actinomyces:Haemophilus is changing in the relative data"
   ]
  },
  {
   "cell_type": "code",
   "execution_count": 14,
   "metadata": {},
   "outputs": [
    {
     "data": {
      "text/plain": [
       "Ttest_relResult(statistic=3.529686676059165, pvalue=0.0030330362643934336, lower_CI=0.1492947397225515, upper_CI=0.6044596015257487, ddof=15)"
      ]
     },
     "execution_count": 14,
     "metadata": {},
     "output_type": "execute_result"
    }
   ],
   "source": [
    "subrmp_data = rmp_data.dropna()\n",
    "ttest_rel(\n",
    "    np.array(subrmp_data.loc[subrmp_data['brushing_event'] == 'after', \n",
    "                          'log(' + num_taxa + '/' + denom_taxa + ')']),\n",
    "    np.array(subrmp_data.loc[subrmp_data['brushing_event'] == 'before', \n",
    "                          'log(' + num_taxa + '/' + denom_taxa + ')']))"
   ]
  },
  {
   "cell_type": "markdown",
   "metadata": {},
   "source": [
    "Test if Actinomyces:Haemophilus is changing in the absolute data"
   ]
  },
  {
   "cell_type": "code",
   "execution_count": 15,
   "metadata": {},
   "outputs": [
    {
     "data": {
      "text/plain": [
       "Ttest_relResult(statistic=3.5296866760591628, pvalue=0.0030330362643934536, lower_CI=0.1492947397225513, upper_CI=0.6044596015257486, ddof=15)"
      ]
     },
     "execution_count": 15,
     "metadata": {},
     "output_type": "execute_result"
    }
   ],
   "source": [
    "subqmp_data = qmp_data.dropna()\n",
    "ttest_rel(np.array(subqmp_data.loc[subqmp_data['brushing_event'] == 'after', \n",
    "                          'log(' + num_taxa + '/' + denom_taxa + ')']),\n",
    "          np.array(subqmp_data.loc[subqmp_data['brushing_event'] == 'before', \n",
    "                          'log(' + num_taxa + '/' + denom_taxa + ')']))"
   ]
  },
  {
   "cell_type": "markdown",
   "metadata": {},
   "source": [
    "Second panel"
   ]
  },
  {
   "cell_type": "code",
   "execution_count": 16,
   "metadata": {},
   "outputs": [
    {
     "data": {
      "text/plain": [
       "after     16\n",
       "before    16\n",
       "Name: brushing_event, dtype: int64"
      ]
     },
     "execution_count": 16,
     "metadata": {},
     "output_type": "execute_result"
    }
   ],
   "source": [
    "metadata['brushing_event'].value_counts()"
   ]
  },
  {
   "cell_type": "code",
   "execution_count": 17,
   "metadata": {},
   "outputs": [],
   "source": [
    "raw_beta = pd.read_csv('../results/oral-results/differentials.csv', index_col=0)"
   ]
  },
  {
   "cell_type": "markdown",
   "metadata": {},
   "source": [
    "Here we will compute the paired t-statistics, pvalues and confidence intervals on the deblurred data."
   ]
  },
  {
   "cell_type": "code",
   "execution_count": 18,
   "metadata": {},
   "outputs": [],
   "source": [
    "raw_table = load_table('../data/oral_trimmed_deblur.biom')\n",
    "cell_table = load_table('../data/oral_trimmed_deblur.biom')\n",
    "\n",
    "raw_df = pd.DataFrame(np.array(raw_table.matrix_data.todense()).T,\n",
    "                      index=raw_table.ids(axis='sample'), \n",
    "                      columns=raw_table.ids(axis='observation'))\n",
    "raw_df = raw_df.reindex(index=metadata.index, columns=raw_beta.index)\n",
    "\n",
    "cell_df = pd.DataFrame(np.array(cell_table.matrix_data.todense()).T,\n",
    "                       index=cell_table.ids(axis='sample'), \n",
    "                       columns=cell_table.ids(axis='observation'))\n",
    "cell_df = cell_df.reindex(index=metadata.index, columns=raw_beta.index)\n",
    "cell_df = cell_df.apply(lambda x: x * flowcount.loc[x.name], axis=1)\n",
    "\n",
    "# Calculate paired test statistics\n",
    "f = lambda x: paired_t_test(category='brushing_event', md=metadata, df=x)[0]\n",
    "raw_tstats = raw_df.apply(f, axis=0)\n",
    "cell_tstats = cell_df.apply(f, axis=0)\n",
    "\n",
    "# Calculate pvalues\n",
    "f = lambda x: paired_t_test(category='brushing_event', md=metadata, df=x)[1]\n",
    "raw_pvalues = raw_df.apply(f, axis=0)\n",
    "cell_pvalues = cell_df.apply(f, axis=0)\n",
    "\n",
    "# Calculate lower confidence interval\n",
    "f = lambda x: paired_t_test(category='brushing_event', md=metadata, df=x)[2]\n",
    "raw_lower = raw_df.apply(f, axis=0)\n",
    "cell_lower = cell_df.apply(f, axis=0)\n",
    "\n",
    "# Calculate upper confidence interval\n",
    "f = lambda x: paired_t_test(category='brushing_event', md=metadata, df=x)[3]\n",
    "raw_upper = raw_df.apply(f, axis=0)\n",
    "cell_upper = cell_df.apply(f, axis=0)"
   ]
  },
  {
   "cell_type": "markdown",
   "metadata": {},
   "source": [
    "We will plot every taxa that shows\n",
    "    1. differences before and after brushing teeth\n",
    "    2. differences between relative and absolute abundance\n",
    "\n",
    "\n",
    "We will perform the same procedure as above, but this time on the ratios."
   ]
  },
  {
   "cell_type": "code",
   "execution_count": 19,
   "metadata": {},
   "outputs": [],
   "source": [
    "subrmp_table = raw_df.loc[metadata.index]\n",
    "subqmp_table = cell_df.loc[metadata.index]"
   ]
  },
  {
   "cell_type": "code",
   "execution_count": 20,
   "metadata": {},
   "outputs": [],
   "source": [
    "#kname = actinomyces strain\n",
    "kname = 'f58ef02fd3fe4f8f1c8ba13a3e205697'\n",
    "def alr(x):\n",
    "    return x / x.loc[kname]\n",
    "alr_raw = raw_df.apply(alr, axis=1)\n",
    "alr_cell = cell_df.apply(alr, axis=1)"
   ]
  },
  {
   "cell_type": "code",
   "execution_count": 21,
   "metadata": {},
   "outputs": [
    {
     "name": "stderr",
     "output_type": "stream",
     "text": [
      "/Users/jmorton/Documents/dev/reference-frames/ipynb/ttest.py:25: RuntimeWarning: invalid value encountered in double_scalars\n",
      "  T = mu / se\n"
     ]
    }
   ],
   "source": [
    "f = lambda x: paired_t_test(category='brushing_event', md=metadata, df=x)[0]\n",
    "alr_raw_tstats = alr_raw.apply(f, axis=0)\n",
    "alr_cell_tstats = alr_cell.apply(f, axis=0)\n",
    "\n",
    "f = lambda x: paired_t_test(category='brushing_event', md=metadata, df=x)[1]\n",
    "alr_raw_pvalues = alr_raw.apply(f, axis=0)\n",
    "alr_cell_pvalues = alr_cell.apply(f, axis=0)"
   ]
  },
  {
   "cell_type": "code",
   "execution_count": 22,
   "metadata": {},
   "outputs": [
    {
     "data": {
      "image/png": "[encoded data removed]",
      "text/plain": [
       "<Figure size 576x576 with 4 Axes>"
      ]
     },
     "metadata": {
      "needs_background": "light"
     },
     "output_type": "display_data"
    }
   ],
   "source": [
    "labelsize = 14\n",
    "fontsize = 15\n",
    "fig, ax = plt.subplots(2, 2, figsize=(8, 8))\n",
    "\n",
    "ax[0][0].scatter(raw_tstats.loc[cell_tstats.index], cell_tstats, s=10)\n",
    "ax[0][0].plot(np.arange(-4, 6), np.arange(-4, 6), '-r')\n",
    "ax[0][0].set_xlabel('rel. t-statistics', fontsize=fontsize) \n",
    "ax[0][0].set_ylabel('abs. t-statistics', fontsize=fontsize, labelpad=16)\n",
    "ax[0][0].xaxis.set_tick_params(labelsize=labelsize)\n",
    "ax[0][0].yaxis.set_tick_params(labelsize=labelsize)\n",
    "\n",
    "ax[0][1].scatter(raw_pvalues.loc[cell_pvalues.index], cell_pvalues, s=10)\n",
    "ax[0][1].plot(np.linspace(0, 1), np.linspace(0, 1), '-r')\n",
    "ax[0][1].set_xlabel('rel. t-test pvalue', fontsize=fontsize) \n",
    "ax[0][1].set_ylabel('abs. t-test pvalue', fontsize=fontsize, labelpad=8)\n",
    "ax[0][1].xaxis.set_tick_params(labelsize=labelsize)\n",
    "ax[0][1].yaxis.set_tick_params(labelsize=labelsize)\n",
    "\n",
    "ax[1][0].scatter(alr_raw_tstats.loc[alr_cell_tstats.index], alr_cell_tstats, s=10)\n",
    "ax[1][0].plot(np.arange(-4, 6), np.arange(-4, 6), '-r')\n",
    "ax[1][0].set_xlabel('rel. ratio t-statistics', fontsize=fontsize) \n",
    "ax[1][0].set_ylabel('abs. ratio t-statistics', fontsize=fontsize, labelpad=16)\n",
    "ax[1][0].xaxis.set_tick_params(labelsize=labelsize)\n",
    "ax[1][0].yaxis.set_tick_params(labelsize=labelsize)\n",
    "\n",
    "ax[1][1].scatter(alr_raw_pvalues.loc[alr_cell_pvalues.index], alr_cell_pvalues, s=10)\n",
    "ax[1][1].plot(np.linspace(0, 1), np.linspace(0, 1), '-r')\n",
    "ax[1][1].set_xlabel('rel. ratio t-test pvalue', fontsize=fontsize) \n",
    "ax[1][1].set_ylabel('abs. ratio t-test pvalue', fontsize=fontsize, labelpad=8)\n",
    "ax[1][1].xaxis.set_tick_params(labelsize=labelsize)\n",
    "ax[1][1].yaxis.set_tick_params(labelsize=labelsize)\n",
    "\n",
    "plt.tight_layout()\n",
    "plt.savefig('../figures/figure2/pvals-comparison.png')"
   ]
  },
  {
   "cell_type": "code",
   "execution_count": 23,
   "metadata": {},
   "outputs": [
    {
     "data": {
      "text/plain": [
       "SpearmanrResult(correlation=0.5671901823909988, pvalue=5.397695639738867e-18)"
      ]
     },
     "execution_count": 23,
     "metadata": {},
     "output_type": "execute_result"
    }
   ],
   "source": [
    "kf = pd.DataFrame({'raw_stats': raw_tstats.loc[cell_tstats.index], \n",
    "                   'cell_stats': cell_tstats}).dropna()\n",
    "spearmanr(kf.cell_stats, kf.raw_stats)"
   ]
  },
  {
   "cell_type": "code",
   "execution_count": 24,
   "metadata": {},
   "outputs": [
    {
     "data": {
      "text/plain": [
       "SpearmanrResult(correlation=0.010335177108862094, pvalue=0.885975202326186)"
      ]
     },
     "execution_count": 24,
     "metadata": {},
     "output_type": "execute_result"
    }
   ],
   "source": [
    "kf = pd.DataFrame({'raw_pvals': raw_pvalues.loc[cell_pvalues.index], \n",
    "                   'cell_pvals': cell_pvalues}).dropna()\n",
    "spearmanr(kf.cell_pvals, kf.raw_pvals)"
   ]
  },
  {
   "cell_type": "code",
   "execution_count": 25,
   "metadata": {},
   "outputs": [
    {
     "data": {
      "text/plain": [
       "SpearmanrResult(correlation=0.9999999999999999, pvalue=0.0)"
      ]
     },
     "execution_count": 25,
     "metadata": {},
     "output_type": "execute_result"
    }
   ],
   "source": [
    "kf = pd.DataFrame({'raw_stats': alr_raw_tstats.loc[alr_cell_tstats.index],\n",
    "                   'cell_stats': alr_cell_tstats}).dropna()\n",
    "spearmanr(kf.cell_stats, kf.raw_stats)"
   ]
  },
  {
   "cell_type": "code",
   "execution_count": 26,
   "metadata": {},
   "outputs": [
    {
     "data": {
      "text/plain": [
       "SpearmanrResult(correlation=0.9999999999999999, pvalue=0.0)"
      ]
     },
     "execution_count": 26,
     "metadata": {},
     "output_type": "execute_result"
    }
   ],
   "source": [
    "kf = pd.DataFrame({'raw_pvals': alr_raw_pvalues.loc[alr_cell_pvalues.index], \n",
    "                   'cell_pvals': alr_cell_pvalues}).dropna()\n",
    "spearmanr(kf.cell_pvals, kf.raw_pvals)"
   ]
  },
  {
   "cell_type": "code",
   "execution_count": 27,
   "metadata": {},
   "outputs": [],
   "source": [
    "#select_microbes = [actinomyces, haemophilus, prevotella, actinobacillus, porphyromonas, lautropia]\n",
    "select_microbes = [actinomyces, haemophilus]\n",
    "select_genera = list(map(lambda x: x.split(';')[-1], select_microbes))"
   ]
  },
  {
   "cell_type": "code",
   "execution_count": 28,
   "metadata": {},
   "outputs": [],
   "source": [
    "taxa = pd.DataFrame(list(beta.Taxon.apply(lambda x: x.split(';')).values),\n",
    "                    columns=['Kingdom', 'Phylum', 'Class', 'Order', 'Family', 'Genus', 'Species'],\n",
    "                    index=beta.index)"
   ]
  },
  {
   "cell_type": "code",
   "execution_count": 29,
   "metadata": {},
   "outputs": [],
   "source": [
    "taxa = taxa.fillna('None')"
   ]
  },
  {
   "cell_type": "code",
   "execution_count": 30,
   "metadata": {},
   "outputs": [
    {
     "data": {
      "text/html": [
       "<div>\n",
       "<style scoped>\n",
       "    .dataframe tbody tr th:only-of-type {\n",
       "        vertical-align: middle;\n",
       "    }\n",
       "\n",
       "    .dataframe tbody tr th {\n",
       "        vertical-align: top;\n",
       "    }\n",
       "\n",
       "    .dataframe thead th {\n",
       "        text-align: right;\n",
       "    }\n",
       "</style>\n",
       "<table border=\"1\" class=\"dataframe\">\n",
       "  <thead>\n",
       "    <tr style=\"text-align: right;\">\n",
       "      <th></th>\n",
       "      <th>Intercept</th>\n",
       "      <th>C(brushing_event)[T.before]</th>\n",
       "      <th>Taxon</th>\n",
       "      <th>Confidence</th>\n",
       "    </tr>\n",
       "  </thead>\n",
       "  <tbody>\n",
       "    <tr>\n",
       "      <th>99647b51f775c8ddde8ed36a7d60dbcd</th>\n",
       "      <td>4.353183</td>\n",
       "      <td>1.105140</td>\n",
       "      <td>k__Bacteria; p__Firmicutes; c__Bacilli; o__Lac...</td>\n",
       "      <td>0.999981</td>\n",
       "    </tr>\n",
       "    <tr>\n",
       "      <th>51121722488d0c3da1388d1b117cd239</th>\n",
       "      <td>4.564780</td>\n",
       "      <td>0.797395</td>\n",
       "      <td>k__Bacteria; p__Proteobacteria; c__Gammaproteo...</td>\n",
       "      <td>0.742617</td>\n",
       "    </tr>\n",
       "    <tr>\n",
       "      <th>d599ebe277afb0dfd4ad3c2176afc50e</th>\n",
       "      <td>3.638733</td>\n",
       "      <td>0.466282</td>\n",
       "      <td>k__Bacteria; p__Proteobacteria; c__Betaproteob...</td>\n",
       "      <td>0.796720</td>\n",
       "    </tr>\n",
       "    <tr>\n",
       "      <th>39c4199fe81f30a5b4b0fd5bf2f43c03</th>\n",
       "      <td>3.567794</td>\n",
       "      <td>-0.036673</td>\n",
       "      <td>k__Bacteria; p__Firmicutes; c__Clostridia; o__...</td>\n",
       "      <td>0.996588</td>\n",
       "    </tr>\n",
       "    <tr>\n",
       "      <th>4629fbb5dde5f8ee07c2259d2887a8d4</th>\n",
       "      <td>2.803713</td>\n",
       "      <td>0.326921</td>\n",
       "      <td>k__Bacteria; p__Bacteroidetes; c__Bacteroidia;...</td>\n",
       "      <td>0.980117</td>\n",
       "    </tr>\n",
       "  </tbody>\n",
       "</table>\n",
       "</div>"
      ],
      "text/plain": [
       "                                  Intercept  C(brushing_event)[T.before]  \\\n",
       "99647b51f775c8ddde8ed36a7d60dbcd   4.353183                     1.105140   \n",
       "51121722488d0c3da1388d1b117cd239   4.564780                     0.797395   \n",
       "d599ebe277afb0dfd4ad3c2176afc50e   3.638733                     0.466282   \n",
       "39c4199fe81f30a5b4b0fd5bf2f43c03   3.567794                    -0.036673   \n",
       "4629fbb5dde5f8ee07c2259d2887a8d4   2.803713                     0.326921   \n",
       "\n",
       "                                                                              Taxon  \\\n",
       "99647b51f775c8ddde8ed36a7d60dbcd  k__Bacteria; p__Firmicutes; c__Bacilli; o__Lac...   \n",
       "51121722488d0c3da1388d1b117cd239  k__Bacteria; p__Proteobacteria; c__Gammaproteo...   \n",
       "d599ebe277afb0dfd4ad3c2176afc50e  k__Bacteria; p__Proteobacteria; c__Betaproteob...   \n",
       "39c4199fe81f30a5b4b0fd5bf2f43c03  k__Bacteria; p__Firmicutes; c__Clostridia; o__...   \n",
       "4629fbb5dde5f8ee07c2259d2887a8d4  k__Bacteria; p__Bacteroidetes; c__Bacteroidia;...   \n",
       "\n",
       "                                  Confidence  \n",
       "99647b51f775c8ddde8ed36a7d60dbcd    0.999981  \n",
       "51121722488d0c3da1388d1b117cd239    0.742617  \n",
       "d599ebe277afb0dfd4ad3c2176afc50e    0.796720  \n",
       "39c4199fe81f30a5b4b0fd5bf2f43c03    0.996588  \n",
       "4629fbb5dde5f8ee07c2259d2887a8d4    0.980117  "
      ]
     },
     "execution_count": 30,
     "metadata": {},
     "output_type": "execute_result"
    }
   ],
   "source": [
    "beta.head()"
   ]
  },
  {
   "cell_type": "code",
   "execution_count": 31,
   "metadata": {},
   "outputs": [],
   "source": [
    "stats = pd.DataFrame(\n",
    "    {\n",
    "        'raw_tstats': cell_tstats,\n",
    "        'cell_tstats': cell_tstats,\n",
    "        'raw_pvalues': raw_pvalues,\n",
    "        'cell_pvalues': cell_pvalues,\n",
    "        'multinomial_ranks': beta[\"C(brushing_event)[T.before]\"],\n",
    "        'taxonomy': taxonomy.Taxon\n",
    "    }\n",
    ") \n",
    "stats = stats.reindex(\n",
    "    columns=['raw_tstats', 'cell_tstats', 'raw_pvalues', \n",
    "             'cell_pvalues', 'multinomial_ranks', 'taxonomy'])\n",
    "stats.to_csv('../figures/Table_S1.csv') "
   ]
  },
  {
   "cell_type": "code",
   "execution_count": 32,
   "metadata": {},
   "outputs": [
    {
     "data": {
      "image/png": "[encoded data removed]",
      "text/plain": [
       "<Figure size 504x288 with 1 Axes>"
      ]
     },
     "metadata": {
      "needs_background": "light"
     },
     "output_type": "display_data"
    }
   ],
   "source": [
    "# plot all of the ranks\n",
    "coefs = beta[\"C(brushing_event)[T.before]\"].sort_values()\n",
    "taxa = taxa.reindex(index=coefs.index)\n",
    "genera = taxa.Genus.values\n",
    "genera = np.array(list(map(lambda x: x.lstrip(), genera)))\n",
    "\n",
    "x = np.arange(coefs.shape[0])\n",
    "fig = plt.figure(figsize=(7, 4))\n",
    "plt.bar(x, coefs, 1, label='', alpha=0.2, edgecolor='#D0D0D0', lw=0.1, color='#D0D0D0') #gray\n",
    "plt.xlabel('species')\n",
    "plt.xticks([])\n",
    "plt.ylabel(r'$\\log (\\frac{Before \\; brushing}{After \\; brushing}) + K$', fontsize=20, labelpad=90, rotation=0)\n",
    "\n",
    "genus_colors = dict(zip(select_genera, sns.color_palette(\"colorblind\", len(select_genera))))\n",
    "\n",
    "for genus in select_genera:\n",
    "    \n",
    "    filtered_beta = pd.Series(index=coefs.index).fillna(0)\n",
    "    select_genus = genera == genus\n",
    "    filtered_beta[select_genus] = coefs[select_genus]\n",
    "\n",
    "    plt.bar(x, filtered_beta.values, 1, label=\"$\\it{%s}$\" % genus[3:], \n",
    "            alpha=0.7, edgecolor=genus_colors[genus], \n",
    "            facecolor=genus_colors[genus], lw=1)\n",
    "    \n",
    "plt.xlabel('')    \n",
    "plt.tick_params(axis='both', which='major', labelsize=14)\n",
    "plt.plot(x, np.array([0]*len(x)), c='k', lw=1)\n",
    "\n",
    "plt.legend(fontsize=14)\n",
    "plt.tight_layout()\n",
    "fig.savefig('../figures/figure2/saliva-ranks.png')"
   ]
  },
  {
   "cell_type": "markdown",
   "metadata": {},
   "source": [
    "Let's run a test on the flow cytometry data, just to make sure that the total microbial load decreased."
   ]
  },
  {
   "cell_type": "code",
   "execution_count": 33,
   "metadata": {},
   "outputs": [
    {
     "data": {
      "text/plain": [
       "Ttest_relResult(statistic=2.1452882064283707, pvalue=0.04870774446816778, lower_CI=86728.04313804768, upper_CI=26802672.58186195, ddof=15)"
      ]
     },
     "execution_count": 33,
     "metadata": {},
     "output_type": "execute_result"
    }
   ],
   "source": [
    "metadata['flowcount'] = flowcount\n",
    "submetadata = metadata[['brushing_event', 'flowcount']].dropna()\n",
    "b = submetadata['brushing_event'] == 'before'\n",
    "a = submetadata['brushing_event'] == 'after'\n",
    "ttest_rel(submetadata.loc[b, 'flowcount'].values,\n",
    "          submetadata.loc[a, 'flowcount'].values)"
   ]
  },
  {
   "cell_type": "markdown",
   "metadata": {},
   "source": [
    "We'll save the statistical tests for the raw vs cell normalized in a separate file"
   ]
  },
  {
   "cell_type": "code",
   "execution_count": 34,
   "metadata": {},
   "outputs": [],
   "source": [
    "pvals = pd.DataFrame(\n",
    "    {\n",
    "        'raw_lower_CI': raw_lower.loc[cell_lower.index], \n",
    "        'cell_lower_CI': cell_lower,\n",
    "        'raw_upper_CI': raw_upper.loc[cell_upper.index], \n",
    "        'cell_upper_CI': cell_upper,        \n",
    "        'raw_pvals': raw_pvalues.loc[cell_pvalues.index], \n",
    "        'cell_pvals': cell_pvalues,\n",
    "        'raw_tstats': raw_tstats.loc[cell_tstats.index], \n",
    "        'cell_tstats': cell_tstats,        \n",
    "        'ranks': raw_beta['C(brushing_event)[T.before]']\n",
    "    },\n",
    "    index=cell_pvalues.index\n",
    ")\n",
    "pvals = pd.merge(pvals, taxonomy, left_index=True, right_index=True)\n",
    "pvals.sort_values(by='cell_pvals').to_csv('../figures/Table_S2.csv')"
   ]
  },
  {
   "cell_type": "markdown",
   "metadata": {},
   "source": [
    "ANCOM2 and ALDEx2 comparison"
   ]
  },
  {
   "cell_type": "code",
   "execution_count": 35,
   "metadata": {},
   "outputs": [],
   "source": [
    "# load up results from ANCOM and ALDEx2\n",
    "aldex2_res = pd.read_table('../results/oral-results/aldex2_results.txt', \n",
    "                           sep=' ', index_col=0)\n",
    "aldex2_res = aldex2_res.set_index('sfit.category') \n",
    "\n",
    "ancom_res = pd.read_csv('../results/oral-results/ancom_results_mixed.csv', index_col=0)\n",
    "ancom_res['W_stat'] = ancom_res['W_stat'].fillna(0)\n",
    "ancom_res['detected_0.9'] = ancom_res['detected_0.9'].fillna(False)\n",
    "ancom_res['detected_0.8'] = ancom_res['detected_0.8'].fillna(False)\n",
    "ancom_res['detected_0.7'] = ancom_res['detected_0.7'].fillna(False)\n",
    "ancom_res['detected_0.6'] = ancom_res['detected_0.6'].fillna(False)\n",
    "\n",
    "# correct the indexes in aldex2\n",
    "def rename_f(x):\n",
    "    if x[0] == 'X':\n",
    "        return x[1:]\n",
    "    else:\n",
    "        return x\n",
    "aldex2_res.index = list(map(lambda x: rename_f(x), aldex2_res.index))\n",
    "ancom_res.index = list(map(lambda x: rename_f(x), ancom_res.index))"
   ]
  },
  {
   "cell_type": "code",
   "execution_count": 36,
   "metadata": {},
   "outputs": [],
   "source": [
    "# sort the differentials obtained from songbird, and sort ALDEx2 and ANCOM relative to that.\n",
    "songbird_res = beta.sort_values(by='C(brushing_event)[T.before]')\n",
    "ancom_res = ancom_res.reindex(index=songbird_res.index)\n",
    "aldex2_res = aldex2_res.reindex(index=songbird_res.index)"
   ]
  },
  {
   "cell_type": "code",
   "execution_count": 37,
   "metadata": {},
   "outputs": [
    {
     "data": {
      "image/png": "[encoded data removed]",
      "text/plain": [
       "<Figure size 720x288 with 3 Axes>"
      ]
     },
     "metadata": {
      "needs_background": "light"
     },
     "output_type": "display_data"
    }
   ],
   "source": [
    "fontsize = 16\n",
    "\n",
    "coefs = songbird_res.sort_values('C(brushing_event)[T.before]')['C(brushing_event)[T.before]']\n",
    "idx = coefs.index\n",
    "\n",
    "x = np.arange(idx.shape[0])\n",
    "fig, ax = plt.subplots(1, 3, figsize=(10, 4))\n",
    "\n",
    "x = np.arange(idx.shape[0])\n",
    "ax[0].barh(x, coefs, 1, label='', edgecolor='#D0D0D0', lw=0.1, color='#D0D0D0') #gray\n",
    "ax[0].set_ylabel('species', fontsize=fontsize)\n",
    "ax[0].set_yticks([])\n",
    "ax[0].set_xlabel('Coefficients', fontsize=fontsize)\n",
    "ax[0].set_title('Multinomial', fontsize=fontsize)\n",
    "ax[0].xaxis.set_tick_params(labelsize=fontsize)\n",
    "\n",
    "aldex2_res = aldex2_res.reindex(index=idx)\n",
    "coefs = aldex2_res['sfit.effect']\n",
    "aldex2_sig = aldex2_res['sfit.padj'] < 0.05\n",
    "ax[1].barh(x, coefs, 1, label='', edgecolor='#D0D0D0', lw=0.1, color='#D0D0D0') #gray\n",
    "j = coefs.index[aldex2_sig]\n",
    "k = [coefs.index.get_loc(u) for u in j]\n",
    "aldex2_sig = aldex2_sig.index[aldex2_sig]\n",
    "ax[1].barh(k, coefs.loc[j], 1, \n",
    "           label='reject null \\nhypothesis', edgecolor='#ff0000', lw=1, color='r') #red\n",
    "ax[1].set_yticks([])\n",
    "ax[1].set_xlabel('Effect Size', fontsize=fontsize)\n",
    "ax[1].set_title('ALDEx2', fontsize=fontsize)\n",
    "ax[1].xaxis.set_tick_params(labelsize=fontsize)\n",
    "\n",
    "ancom_sig = ancom_res['detected_0.6']\n",
    "coefs = ancom_res['W_stat']\n",
    "ax[2].barh(x, coefs, 1, label='', edgecolor='#D0D0D0', lw=0.1, color='#D0D0D0') #gray\n",
    "ax[2].set_yticks([])\n",
    "ax[2].set_xlabel('W-statistic', fontsize=fontsize)\n",
    "ax[2].set_title('ANCOM', fontsize=fontsize)\n",
    "j = coefs.index[ancom_sig]\n",
    "k = [coefs.index.get_loc(u) for u in j]\n",
    "ancom_sig = ancom_sig.index[ancom_sig]\n",
    "ax[2].barh(k, coefs.loc[j], 1, \n",
    "           label='reject null \\nhypothesis', edgecolor='#ff0000', lw=1, color='r') #red\n",
    "\n",
    "ax[2].xaxis.set_tick_params(labelsize=fontsize)\n",
    "\n",
    "ax[2].legend(fontsize=12)\n",
    "plt.tight_layout()\n",
    "plt.savefig('../figures/figure2/oral_comparision.png')"
   ]
  },
  {
   "cell_type": "code",
   "execution_count": 38,
   "metadata": {},
   "outputs": [],
   "source": [
    "# pull out ancom most negative hit\n",
    "veillonella = ancom_res.loc[ancom_res['detected_0.6']].index[0]"
   ]
  },
  {
   "cell_type": "code",
   "execution_count": 39,
   "metadata": {},
   "outputs": [
    {
     "data": {
      "text/plain": [
       "raw_lower_CI                                              -77.4713\n",
       "cell_lower_CI                                         -9.96183e+08\n",
       "raw_upper_CI                                              -6.27869\n",
       "cell_upper_CI                                          3.43352e+08\n",
       "raw_pvals                                                  0.02415\n",
       "cell_pvals                                                0.315365\n",
       "raw_tstats                                                -2.50741\n",
       "cell_tstats                                               -1.03878\n",
       "ranks                                                      -1.7057\n",
       "Taxon            k__Bacteria; p__Firmicutes; c__Clostridia; o__...\n",
       "Confidence                                                 0.93212\n",
       "Name: 2be90cc9bd2811af7cca6bc28463b176, dtype: object"
      ]
     },
     "execution_count": 39,
     "metadata": {},
     "output_type": "execute_result"
    }
   ],
   "source": [
    "pvals.loc['2be90cc9bd2811af7cca6bc28463b176']"
   ]
  },
  {
   "cell_type": "code",
   "execution_count": 40,
   "metadata": {},
   "outputs": [
    {
     "data": {
      "text/plain": [
       "1d5f93c84cfa223f791274199b29f802    False\n",
       "2be90cc9bd2811af7cca6bc28463b176     True\n",
       "58490aa96b5c09f7ded101294bdf0ace    False\n",
       "c27159ac6766f2bb04bc26f8113bd6fb    False\n",
       "3ac3f4c7c45515628515b0eacf5170d5    False\n",
       "cbe6d32ca7a479a71c4fd50e0b9d980b    False\n",
       "aaf1f1232737d9346ee18017a76d7027    False\n",
       "232a39e761759d6bdb138c7cfb2f4d28    False\n",
       "15f92246da9d186be06e176a3eb7a8d2    False\n",
       "6bad5f0f2484248490b4c83c6c96e2c1    False\n",
       "b55ffa853e1d1336654fc78d36220572    False\n",
       "372ee5fa8367d5632ed3b8ba0c8becfc     True\n",
       "667f039061ef0749c8174da1384ff1a1    False\n",
       "13f5aba07d66b4d4f6a20ccd480a3836    False\n",
       "c476a045b42b30e13d8a25f4b2e5a226    False\n",
       "14ca6a8129ff8d410ec8b813f368c9f3    False\n",
       "afb20cec1c4694dde356d9c6f4cf560f    False\n",
       "8fc57b0a056523b5c4a2c9ffc1188a97    False\n",
       "317faf40ab70262d43978ca7d1f1509c    False\n",
       "27855451d704f0e78a81e5f951cf28b1    False\n",
       "35170b61f6f84e19df0b63e6f9868ca2    False\n",
       "47866fc93c1bb26e7cd16cf31509866d    False\n",
       "b65c79c74a2594bc47a32b9e245d42df    False\n",
       "76355427db027e5ec9f4404f906613a1    False\n",
       "0440f62914d9cbd3fab890f7aeaf4ea9    False\n",
       "900a2b113b17a2705180ed5e1558ada4     True\n",
       "e284982a9e101cacbe436bda97144ad8    False\n",
       "e122b3acedfe1a819e2e7983bdadf10b     True\n",
       "634e4c7b48dcbd5f4ffe22ecf885f34f    False\n",
       "aa4d4cee134211ec1651b7945446ad0f    False\n",
       "                                    ...  \n",
       "595c971ecf2347150ac8b1138a2e5fa2    False\n",
       "4575f71a6cf9471ed8e03d4d8886cb99    False\n",
       "9f39efe5f61d28f840e96bc3a4ceb9e1    False\n",
       "51121722488d0c3da1388d1b117cd239    False\n",
       "2012b082f259104f405209c1452ecfd7    False\n",
       "db6086608389f922cfd2e33a3a6826f5    False\n",
       "a978026c6c33bccb8dd70bd2ddbf48bf    False\n",
       "e779982764485bbb824e1c21ac47ed24    False\n",
       "15869fbb559d7a31992e2034442b5099    False\n",
       "3192ed8ef0fbbeb4b598cd5c5afcc823     True\n",
       "0922291cbf4e17dbb0e67557922c41f2    False\n",
       "fcf4ac09d4df4a42eeb13898cfe62bb9    False\n",
       "99647b51f775c8ddde8ed36a7d60dbcd     True\n",
       "0afabc98ba5f06d77586c65dd984e126     True\n",
       "d21053daf32f3e2c9be9c6768d6ade32     True\n",
       "6c5cd01c871990dbcebd27ff48a19198    False\n",
       "546f2c0a74a88e6f1f37a2366edb0060     True\n",
       "2500529b5a1bf49aba503fe02f9a254e    False\n",
       "a4da927fd5b1aeaa27f52f37da9dfc4e    False\n",
       "4ff24fc8bbb1263940427ba778d2367b    False\n",
       "6e6ba3f1d999799f0ba2687bbb293ab2    False\n",
       "a9b4a380d3b76755de55410a3b856df4     True\n",
       "f0544431f8310f1cd80df21ea2580dc4    False\n",
       "9eec995d1b7de24deb146bf87c62e8ef    False\n",
       "f6eb8537456dde7792eff60c8d1e797c     True\n",
       "a8e9d01833a199c3ba4ecd41b7f04afa    False\n",
       "d3c43385eff1d6d5e44ac2894f1af886    False\n",
       "1275c8657f3502d2f3d7b0d9ec7e1c78     True\n",
       "c84509b5d38955838482e9d6a4770bfe     True\n",
       "d3665d676c8fd9363c69c743207dd58e     True\n",
       "Name: detected_0.6, Length: 195, dtype: bool"
      ]
     },
     "execution_count": 40,
     "metadata": {},
     "output_type": "execute_result"
    }
   ],
   "source": [
    "ancom_res['detected_0.6']"
   ]
  },
  {
   "cell_type": "code",
   "execution_count": null,
   "metadata": {},
   "outputs": [],
   "source": []
  }
 ],
 "metadata": {
  "kernelspec": {
   "display_name": "Python 3",
   "language": "python",
   "name": "python3"
  },
  "language_info": {
   "codemirror_mode": {
    "name": "ipython",
    "version": 3
   },
   "file_extension": ".py",
   "mimetype": "text/x-python",
   "name": "python",
   "nbconvert_exporter": "python",
   "pygments_lexer": "ipython3",
   "version": "3.6.7"
  }
 },
 "nbformat": 4,
 "nbformat_minor": 2
}
